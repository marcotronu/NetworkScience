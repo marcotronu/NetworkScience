{
 "cells": [
  {
   "cell_type": "code",
   "execution_count": 2,
   "source": [
    "from utilities.preprocessing import *\n",
    "import seaborn as sns\n",
    "import os\n",
    "import matplotlib.pyplot as plt\n",
    "import json\n",
    "import numpy as np\n",
    "import pandas as pd\n",
    "import plotly\n",
    "import plotly.graph_objects as go\n",
    "import networkx as nx\n",
    "import igraph as ig\n",
    "import numba\n",
    "import itertools\n",
    "from console_progressbar import ProgressBar\n",
    "import re\n",
    "from graph_tool.all import *\n",
    "import graph_tool as gt\n",
    "from math import *\n",
    "import matplotlib\n"
   ],
   "outputs": [],
   "metadata": {}
  },
  {
   "cell_type": "code",
   "execution_count": 2,
   "source": [
    "path = '../trending_yt_videos/'\n",
    "\n",
    "'Import json'\n",
    "with open(path + 'US_category_id.json') as f:\n",
    "  videos = json.load(f)\n",
    "\n",
    "'Save all the categories in dict[id]=category'\n",
    "categories = {}\n",
    "for cat in videos['items']:\n",
    "    # print(cat)\n",
    "    this_cat = cat['snippet']['title']\n",
    "    id = cat['id']\n",
    "    categories[id] = this_cat\n"
   ],
   "outputs": [],
   "metadata": {}
  },
  {
   "cell_type": "code",
   "execution_count": 3,
   "source": [
    "len(categories.keys())"
   ],
   "outputs": [
    {
     "output_type": "execute_result",
     "data": {
      "text/plain": [
       "32"
      ]
     },
     "metadata": {},
     "execution_count": 3
    }
   ],
   "metadata": {}
  },
  {
   "cell_type": "code",
   "execution_count": 4,
   "source": [
    "'Import video dataset:'\n",
    "\n",
    "video_stats = pd.read_csv(path + 'USvideos.csv')\n",
    "video_stats = video_stats.replace({'likes':0,'dislikes':0,'comment_count':0},np.nan)\n",
    "video_stats.dropna(subset=['likes','dislikes','comment_count'],inplace=True)"
   ],
   "outputs": [],
   "metadata": {}
  },
  {
   "cell_type": "markdown",
   "source": [
    "# EDA"
   ],
   "metadata": {}
  },
  {
   "cell_type": "code",
   "execution_count": 6,
   "source": [
    "video_stats.head(3)"
   ],
   "outputs": [
    {
     "output_type": "execute_result",
     "data": {
      "text/plain": [
       "      video_id trending_date  \\\n",
       "0  2kyS6SvSYSE      17.14.11   \n",
       "1  1ZAPwfrtAFY      17.14.11   \n",
       "2  5qpjK5DgCt4      17.14.11   \n",
       "\n",
       "                                               title    channel_title  \\\n",
       "0                 WE WANT TO TALK ABOUT OUR MARRIAGE     CaseyNeistat   \n",
       "1  The Trump Presidency: Last Week Tonight with J...  LastWeekTonight   \n",
       "2  Racist Superman | Rudy Mancuso, King Bach & Le...     Rudy Mancuso   \n",
       "\n",
       "   category_id              publish_time  \\\n",
       "0           22  2017-11-13T17:13:01.000Z   \n",
       "1           24  2017-11-13T07:30:00.000Z   \n",
       "2           23  2017-11-12T19:05:24.000Z   \n",
       "\n",
       "                                                tags    views     likes  \\\n",
       "0                                    SHANtell martin   748374   57527.0   \n",
       "1  last week tonight trump presidency|\"last week ...  2418783   97185.0   \n",
       "2  racist superman|\"rudy\"|\"mancuso\"|\"king\"|\"bach\"...  3191434  146033.0   \n",
       "\n",
       "   dislikes  comment_count                                  thumbnail_link  \\\n",
       "0    2966.0        15954.0  https://i.ytimg.com/vi/2kyS6SvSYSE/default.jpg   \n",
       "1    6146.0        12703.0  https://i.ytimg.com/vi/1ZAPwfrtAFY/default.jpg   \n",
       "2    5339.0         8181.0  https://i.ytimg.com/vi/5qpjK5DgCt4/default.jpg   \n",
       "\n",
       "   comments_disabled  ratings_disabled  video_error_or_removed  \\\n",
       "0              False             False                   False   \n",
       "1              False             False                   False   \n",
       "2              False             False                   False   \n",
       "\n",
       "                                         description  \n",
       "0  SHANTELL'S CHANNEL - https://www.youtube.com/s...  \n",
       "1  One year after the presidential election, John...  \n",
       "2  WATCH MY PREVIOUS VIDEO ▶ \\n\\nSUBSCRIBE ► http...  "
      ],
      "text/html": [
       "<div>\n",
       "<style scoped>\n",
       "    .dataframe tbody tr th:only-of-type {\n",
       "        vertical-align: middle;\n",
       "    }\n",
       "\n",
       "    .dataframe tbody tr th {\n",
       "        vertical-align: top;\n",
       "    }\n",
       "\n",
       "    .dataframe thead th {\n",
       "        text-align: right;\n",
       "    }\n",
       "</style>\n",
       "<table border=\"1\" class=\"dataframe\">\n",
       "  <thead>\n",
       "    <tr style=\"text-align: right;\">\n",
       "      <th></th>\n",
       "      <th>video_id</th>\n",
       "      <th>trending_date</th>\n",
       "      <th>title</th>\n",
       "      <th>channel_title</th>\n",
       "      <th>category_id</th>\n",
       "      <th>publish_time</th>\n",
       "      <th>tags</th>\n",
       "      <th>views</th>\n",
       "      <th>likes</th>\n",
       "      <th>dislikes</th>\n",
       "      <th>comment_count</th>\n",
       "      <th>thumbnail_link</th>\n",
       "      <th>comments_disabled</th>\n",
       "      <th>ratings_disabled</th>\n",
       "      <th>video_error_or_removed</th>\n",
       "      <th>description</th>\n",
       "    </tr>\n",
       "  </thead>\n",
       "  <tbody>\n",
       "    <tr>\n",
       "      <th>0</th>\n",
       "      <td>2kyS6SvSYSE</td>\n",
       "      <td>17.14.11</td>\n",
       "      <td>WE WANT TO TALK ABOUT OUR MARRIAGE</td>\n",
       "      <td>CaseyNeistat</td>\n",
       "      <td>22</td>\n",
       "      <td>2017-11-13T17:13:01.000Z</td>\n",
       "      <td>SHANtell martin</td>\n",
       "      <td>748374</td>\n",
       "      <td>57527.0</td>\n",
       "      <td>2966.0</td>\n",
       "      <td>15954.0</td>\n",
       "      <td>https://i.ytimg.com/vi/2kyS6SvSYSE/default.jpg</td>\n",
       "      <td>False</td>\n",
       "      <td>False</td>\n",
       "      <td>False</td>\n",
       "      <td>SHANTELL'S CHANNEL - https://www.youtube.com/s...</td>\n",
       "    </tr>\n",
       "    <tr>\n",
       "      <th>1</th>\n",
       "      <td>1ZAPwfrtAFY</td>\n",
       "      <td>17.14.11</td>\n",
       "      <td>The Trump Presidency: Last Week Tonight with J...</td>\n",
       "      <td>LastWeekTonight</td>\n",
       "      <td>24</td>\n",
       "      <td>2017-11-13T07:30:00.000Z</td>\n",
       "      <td>last week tonight trump presidency|\"last week ...</td>\n",
       "      <td>2418783</td>\n",
       "      <td>97185.0</td>\n",
       "      <td>6146.0</td>\n",
       "      <td>12703.0</td>\n",
       "      <td>https://i.ytimg.com/vi/1ZAPwfrtAFY/default.jpg</td>\n",
       "      <td>False</td>\n",
       "      <td>False</td>\n",
       "      <td>False</td>\n",
       "      <td>One year after the presidential election, John...</td>\n",
       "    </tr>\n",
       "    <tr>\n",
       "      <th>2</th>\n",
       "      <td>5qpjK5DgCt4</td>\n",
       "      <td>17.14.11</td>\n",
       "      <td>Racist Superman | Rudy Mancuso, King Bach &amp; Le...</td>\n",
       "      <td>Rudy Mancuso</td>\n",
       "      <td>23</td>\n",
       "      <td>2017-11-12T19:05:24.000Z</td>\n",
       "      <td>racist superman|\"rudy\"|\"mancuso\"|\"king\"|\"bach\"...</td>\n",
       "      <td>3191434</td>\n",
       "      <td>146033.0</td>\n",
       "      <td>5339.0</td>\n",
       "      <td>8181.0</td>\n",
       "      <td>https://i.ytimg.com/vi/5qpjK5DgCt4/default.jpg</td>\n",
       "      <td>False</td>\n",
       "      <td>False</td>\n",
       "      <td>False</td>\n",
       "      <td>WATCH MY PREVIOUS VIDEO ▶ \\n\\nSUBSCRIBE ► http...</td>\n",
       "    </tr>\n",
       "  </tbody>\n",
       "</table>\n",
       "</div>"
      ]
     },
     "metadata": {},
     "execution_count": 6
    }
   ],
   "metadata": {}
  },
  {
   "cell_type": "code",
   "execution_count": 277,
   "source": [
    "plt.style.use('dark_background')\n",
    "likes = video_stats.likes#[np.asarray(video_stats.likes != 0)]\n",
    "dislikes = video_stats.dislikes#[np.asarray(video_stats.dislikes != 0)]\n",
    "plt.hist(np.log(likes),color = 'green',alpha=0.4,label='likes')\n",
    "plt.hist(np.log(dislikes),color = 'red',alpha=0.4,label='dislikes')\n",
    "plt.title('Log-distribution of the likes')\n",
    "plt.legend()\n",
    "fig.show()"
   ],
   "outputs": [
    {
     "output_type": "stream",
     "name": "stderr",
     "text": [
      "/tmp/ipykernel_17104/1396074019.py:8: UserWarning: Matplotlib is currently using module://matplotlib_inline.backend_inline, which is a non-GUI backend, so cannot show the figure.\n",
      "  fig.show()\n"
     ]
    },
    {
     "output_type": "display_data",
     "data": {
      "text/plain": [
       "<Figure size 576x396 with 1 Axes>"
      ],
      "image/png": "[encoded data removed]"
     },
     "metadata": {}
    }
   ],
   "metadata": {}
  },
  {
   "cell_type": "code",
   "execution_count": 278,
   "source": [
    "plt.hist(np.log(dislikes/likes),color='blue')\n",
    "plt.title('Log distribution of dislikes to likes ratio')"
   ],
   "outputs": [
    {
     "output_type": "execute_result",
     "data": {
      "text/plain": [
       "Text(0.5, 1.0, 'Log distribution of dislikes to likes ratio')"
      ]
     },
     "metadata": {},
     "execution_count": 278
    },
    {
     "output_type": "display_data",
     "data": {
      "text/plain": [
       "<Figure size 576x396 with 1 Axes>"
      ],
      "image/png": "[encoded data removed]"
     },
     "metadata": {}
    }
   ],
   "metadata": {}
  },
  {
   "cell_type": "code",
   "execution_count": 279,
   "source": [
    "views = video_stats.views[video_stats.views != 0]\n",
    "fig, ax = plt.subplots(1,1, figsize = (10,4))\n",
    "ax.hist(np.log10(dislikes/views),color = 'red',label = 'dislikes',alpha=0.6)\n",
    "# ax.set_xscale('log')\n",
    "ax.hist(np.log10(likes/views),color = 'green', label = 'likes',alpha=0.6)\n",
    "# ax.set_xticks(x_ticks)\n",
    "# ax.set_xticklabels([f'10^({x})' for x in x_ticks])\n",
    "plt.legend()\n",
    "plt.suptitle('Log10 distribution of likes & dislikes to views ratios')"
   ],
   "outputs": [
    {
     "output_type": "execute_result",
     "data": {
      "text/plain": [
       "Text(0.5, 0.98, 'Log10 distribution of likes & dislikes to views ratios')"
      ]
     },
     "metadata": {},
     "execution_count": 279
    },
    {
     "output_type": "display_data",
     "data": {
      "text/plain": [
       "<Figure size 720x288 with 1 Axes>"
      ],
      "image/png": "[encoded data removed]"
     },
     "metadata": {}
    }
   ],
   "metadata": {}
  },
  {
   "cell_type": "code",
   "execution_count": 280,
   "source": [
    "fig, ax = plt.subplots(1,1, figsize = (10,4))\n",
    "ax.hist(np.log10((likes/dislikes)/(views)))\n",
    "# ax.set_xscale('log')\n",
    "# x_ticks = [-4,-3,-2,-1,0]\n",
    "# ax.set_xticks(x_ticks)\n",
    "# ax.set_xticklabels([f'10^({x})' for x in x_ticks])\n",
    "plt.title('Log10 distribution of (likes/dislikes)/views')"
   ],
   "outputs": [
    {
     "output_type": "execute_result",
     "data": {
      "text/plain": [
       "Text(0.5, 1.0, 'Log10 distribution of (likes/dislikes)/views')"
      ]
     },
     "metadata": {},
     "execution_count": 280
    },
    {
     "output_type": "display_data",
     "data": {
      "text/plain": [
       "<Figure size 720x288 with 1 Axes>"
      ],
      "image/png": "[encoded data removed]"
     },
     "metadata": {}
    }
   ],
   "metadata": {}
  },
  {
   "cell_type": "code",
   "execution_count": 281,
   "source": [
    "set(video_stats.category_id)"
   ],
   "outputs": [
    {
     "output_type": "execute_result",
     "data": {
      "text/plain": [
       "{1, 2, 10, 15, 17, 19, 20, 22, 23, 24, 25, 26, 27, 28, 29, 43}"
      ]
     },
     "metadata": {},
     "execution_count": 281
    }
   ],
   "metadata": {}
  },
  {
   "cell_type": "code",
   "execution_count": 282,
   "source": [
    "new_col = [categories[f'{id}'] for id in video_stats.category_id]\n",
    "video_stats['category'] = new_col"
   ],
   "outputs": [],
   "metadata": {}
  },
  {
   "cell_type": "code",
   "execution_count": 283,
   "source": [
    "video_stats.head(5)"
   ],
   "outputs": [
    {
     "output_type": "execute_result",
     "data": {
      "text/plain": [
       "      video_id trending_date  \\\n",
       "0  2kyS6SvSYSE      17.14.11   \n",
       "1  1ZAPwfrtAFY      17.14.11   \n",
       "2  5qpjK5DgCt4      17.14.11   \n",
       "3  puqaWrEC7tY      17.14.11   \n",
       "4  d380meD0W0M      17.14.11   \n",
       "\n",
       "                                               title          channel_title  \\\n",
       "0                 WE WANT TO TALK ABOUT OUR MARRIAGE           CaseyNeistat   \n",
       "1  The Trump Presidency: Last Week Tonight with J...        LastWeekTonight   \n",
       "2  Racist Superman | Rudy Mancuso, King Bach & Le...           Rudy Mancuso   \n",
       "3                   Nickelback Lyrics: Real or Fake?  Good Mythical Morning   \n",
       "4                           I Dare You: GOING BALD!?               nigahiga   \n",
       "\n",
       "   category_id              publish_time  \\\n",
       "0           22  2017-11-13T17:13:01.000Z   \n",
       "1           24  2017-11-13T07:30:00.000Z   \n",
       "2           23  2017-11-12T19:05:24.000Z   \n",
       "3           24  2017-11-13T11:00:04.000Z   \n",
       "4           24  2017-11-12T18:01:41.000Z   \n",
       "\n",
       "                                                tags    views     likes  \\\n",
       "0                                    SHANtell martin   748374   57527.0   \n",
       "1  last week tonight trump presidency|\"last week ...  2418783   97185.0   \n",
       "2  racist superman|\"rudy\"|\"mancuso\"|\"king\"|\"bach\"...  3191434  146033.0   \n",
       "3  rhett and link|\"gmm\"|\"good mythical morning\"|\"...   343168   10172.0   \n",
       "4  ryan|\"higa\"|\"higatv\"|\"nigahiga\"|\"i dare you\"|\"...  2095731  132235.0   \n",
       "\n",
       "   dislikes  comment_count                                  thumbnail_link  \\\n",
       "0    2966.0        15954.0  https://i.ytimg.com/vi/2kyS6SvSYSE/default.jpg   \n",
       "1    6146.0        12703.0  https://i.ytimg.com/vi/1ZAPwfrtAFY/default.jpg   \n",
       "2    5339.0         8181.0  https://i.ytimg.com/vi/5qpjK5DgCt4/default.jpg   \n",
       "3     666.0         2146.0  https://i.ytimg.com/vi/puqaWrEC7tY/default.jpg   \n",
       "4    1989.0        17518.0  https://i.ytimg.com/vi/d380meD0W0M/default.jpg   \n",
       "\n",
       "   comments_disabled  ratings_disabled  video_error_or_removed  \\\n",
       "0              False             False                   False   \n",
       "1              False             False                   False   \n",
       "2              False             False                   False   \n",
       "3              False             False                   False   \n",
       "4              False             False                   False   \n",
       "\n",
       "                                         description        category  \n",
       "0  SHANTELL'S CHANNEL - https://www.youtube.com/s...  People & Blogs  \n",
       "1  One year after the presidential election, John...   Entertainment  \n",
       "2  WATCH MY PREVIOUS VIDEO ▶ \\n\\nSUBSCRIBE ► http...          Comedy  \n",
       "3  Today we find out if Link is a Nickelback amat...   Entertainment  \n",
       "4  I know it's been a while since we did this sho...   Entertainment  "
      ],
      "text/html": [
       "<div>\n",
       "<style scoped>\n",
       "    .dataframe tbody tr th:only-of-type {\n",
       "        vertical-align: middle;\n",
       "    }\n",
       "\n",
       "    .dataframe tbody tr th {\n",
       "        vertical-align: top;\n",
       "    }\n",
       "\n",
       "    .dataframe thead th {\n",
       "        text-align: right;\n",
       "    }\n",
       "</style>\n",
       "<table border=\"1\" class=\"dataframe\">\n",
       "  <thead>\n",
       "    <tr style=\"text-align: right;\">\n",
       "      <th></th>\n",
       "      <th>video_id</th>\n",
       "      <th>trending_date</th>\n",
       "      <th>title</th>\n",
       "      <th>channel_title</th>\n",
       "      <th>category_id</th>\n",
       "      <th>publish_time</th>\n",
       "      <th>tags</th>\n",
       "      <th>views</th>\n",
       "      <th>likes</th>\n",
       "      <th>dislikes</th>\n",
       "      <th>comment_count</th>\n",
       "      <th>thumbnail_link</th>\n",
       "      <th>comments_disabled</th>\n",
       "      <th>ratings_disabled</th>\n",
       "      <th>video_error_or_removed</th>\n",
       "      <th>description</th>\n",
       "      <th>category</th>\n",
       "    </tr>\n",
       "  </thead>\n",
       "  <tbody>\n",
       "    <tr>\n",
       "      <th>0</th>\n",
       "      <td>2kyS6SvSYSE</td>\n",
       "      <td>17.14.11</td>\n",
       "      <td>WE WANT TO TALK ABOUT OUR MARRIAGE</td>\n",
       "      <td>CaseyNeistat</td>\n",
       "      <td>22</td>\n",
       "      <td>2017-11-13T17:13:01.000Z</td>\n",
       "      <td>SHANtell martin</td>\n",
       "      <td>748374</td>\n",
       "      <td>57527.0</td>\n",
       "      <td>2966.0</td>\n",
       "      <td>15954.0</td>\n",
       "      <td>https://i.ytimg.com/vi/2kyS6SvSYSE/default.jpg</td>\n",
       "      <td>False</td>\n",
       "      <td>False</td>\n",
       "      <td>False</td>\n",
       "      <td>SHANTELL'S CHANNEL - https://www.youtube.com/s...</td>\n",
       "      <td>People &amp; Blogs</td>\n",
       "    </tr>\n",
       "    <tr>\n",
       "      <th>1</th>\n",
       "      <td>1ZAPwfrtAFY</td>\n",
       "      <td>17.14.11</td>\n",
       "      <td>The Trump Presidency: Last Week Tonight with J...</td>\n",
       "      <td>LastWeekTonight</td>\n",
       "      <td>24</td>\n",
       "      <td>2017-11-13T07:30:00.000Z</td>\n",
       "      <td>last week tonight trump presidency|\"last week ...</td>\n",
       "      <td>2418783</td>\n",
       "      <td>97185.0</td>\n",
       "      <td>6146.0</td>\n",
       "      <td>12703.0</td>\n",
       "      <td>https://i.ytimg.com/vi/1ZAPwfrtAFY/default.jpg</td>\n",
       "      <td>False</td>\n",
       "      <td>False</td>\n",
       "      <td>False</td>\n",
       "      <td>One year after the presidential election, John...</td>\n",
       "      <td>Entertainment</td>\n",
       "    </tr>\n",
       "    <tr>\n",
       "      <th>2</th>\n",
       "      <td>5qpjK5DgCt4</td>\n",
       "      <td>17.14.11</td>\n",
       "      <td>Racist Superman | Rudy Mancuso, King Bach &amp; Le...</td>\n",
       "      <td>Rudy Mancuso</td>\n",
       "      <td>23</td>\n",
       "      <td>2017-11-12T19:05:24.000Z</td>\n",
       "      <td>racist superman|\"rudy\"|\"mancuso\"|\"king\"|\"bach\"...</td>\n",
       "      <td>3191434</td>\n",
       "      <td>146033.0</td>\n",
       "      <td>5339.0</td>\n",
       "      <td>8181.0</td>\n",
       "      <td>https://i.ytimg.com/vi/5qpjK5DgCt4/default.jpg</td>\n",
       "      <td>False</td>\n",
       "      <td>False</td>\n",
       "      <td>False</td>\n",
       "      <td>WATCH MY PREVIOUS VIDEO ▶ \\n\\nSUBSCRIBE ► http...</td>\n",
       "      <td>Comedy</td>\n",
       "    </tr>\n",
       "    <tr>\n",
       "      <th>3</th>\n",
       "      <td>puqaWrEC7tY</td>\n",
       "      <td>17.14.11</td>\n",
       "      <td>Nickelback Lyrics: Real or Fake?</td>\n",
       "      <td>Good Mythical Morning</td>\n",
       "      <td>24</td>\n",
       "      <td>2017-11-13T11:00:04.000Z</td>\n",
       "      <td>rhett and link|\"gmm\"|\"good mythical morning\"|\"...</td>\n",
       "      <td>343168</td>\n",
       "      <td>10172.0</td>\n",
       "      <td>666.0</td>\n",
       "      <td>2146.0</td>\n",
       "      <td>https://i.ytimg.com/vi/puqaWrEC7tY/default.jpg</td>\n",
       "      <td>False</td>\n",
       "      <td>False</td>\n",
       "      <td>False</td>\n",
       "      <td>Today we find out if Link is a Nickelback amat...</td>\n",
       "      <td>Entertainment</td>\n",
       "    </tr>\n",
       "    <tr>\n",
       "      <th>4</th>\n",
       "      <td>d380meD0W0M</td>\n",
       "      <td>17.14.11</td>\n",
       "      <td>I Dare You: GOING BALD!?</td>\n",
       "      <td>nigahiga</td>\n",
       "      <td>24</td>\n",
       "      <td>2017-11-12T18:01:41.000Z</td>\n",
       "      <td>ryan|\"higa\"|\"higatv\"|\"nigahiga\"|\"i dare you\"|\"...</td>\n",
       "      <td>2095731</td>\n",
       "      <td>132235.0</td>\n",
       "      <td>1989.0</td>\n",
       "      <td>17518.0</td>\n",
       "      <td>https://i.ytimg.com/vi/d380meD0W0M/default.jpg</td>\n",
       "      <td>False</td>\n",
       "      <td>False</td>\n",
       "      <td>False</td>\n",
       "      <td>I know it's been a while since we did this sho...</td>\n",
       "      <td>Entertainment</td>\n",
       "    </tr>\n",
       "  </tbody>\n",
       "</table>\n",
       "</div>"
      ]
     },
     "metadata": {},
     "execution_count": 283
    }
   ],
   "metadata": {}
  },
  {
   "cell_type": "code",
   "execution_count": 292,
   "source": [
    "video_stats.tags[3]"
   ],
   "outputs": [
    {
     "output_type": "execute_result",
     "data": {
      "text/plain": [
       "'rhett and link|\"gmm\"|\"good mythical morning\"|\"rhett and link good mythical morning\"|\"good mythical morning rhett and link\"|\"mythical morning\"|\"Season 12\"|\"nickelback lyrics\"|\"nickelback lyrics real or fake\"|\"nickelback\"|\"nickelback songs\"|\"nickelback song\"|\"rhett link nickelback\"|\"gmm nickelback\"|\"lyrics (website category)\"|\"nickelback (musical group)\"|\"rock\"|\"music\"|\"lyrics\"|\"chad kroeger\"|\"canada\"|\"music (industry)\"|\"mythical\"|\"gmm challenge\"|\"comedy\"|\"funny\"|\"challenge\"'"
      ]
     },
     "metadata": {},
     "execution_count": 292
    }
   ],
   "metadata": {}
  },
  {
   "cell_type": "code",
   "execution_count": 285,
   "source": [
    "\n",
    "video_stats['VLratio'] = video_stats.views/video_stats.likes\n",
    "video_stats['VDratio'] = video_stats.views/video_stats.dislikes\n",
    "video_stats['LDratio'] = video_stats.likes/video_stats.dislikes\n",
    "video_stats['VCratio'] = video_stats.views/video_stats.comment_count\n",
    "\n",
    "video_stats['log10VLratio'] = video_stats.VLratio.apply(np.log10)\n",
    "video_stats['log10VDratio'] = video_stats.VDratio.apply(np.log10)\n",
    "video_stats['log10LDratio'] = video_stats.LDratio.apply(np.log10)\n",
    "video_stats['log10VCratio'] = video_stats.VCratio.apply(np.log10)"
   ],
   "outputs": [],
   "metadata": {}
  },
  {
   "cell_type": "code",
   "execution_count": 291,
   "source": [
    "import numpy as np\n",
    "import matplotlib.pyplot as plt\n",
    "\n",
    "plt.style.use('seaborn-deep')\n",
    "\n",
    "catmeans = video_stats.groupby('category_id').mean()\n",
    "catstds = video_stats.groupby('category_id').std()\n",
    "\n",
    "# likeMeans = catmeans.LVratio\n",
    "# likeStd =   catstds.LVratio\n",
    "\n",
    "likeMeans = catmeans.log10VLratio\n",
    "likeStd =   catstds.log10VLratio\n",
    "\n",
    "N = len(likeMeans)\n",
    "ind = np.arange(N)  # the x locations for the groups\n",
    "width = 0.20      # the width of the bars\n",
    "\n",
    "fig = plt.figure(figsize=(16,6))\n",
    "ax = fig.add_subplot(111)\n",
    "rects1 = ax.bar(ind, likeMeans, width, color='royalblue', yerr=likeStd)\n",
    "\n",
    "dislikeMeans = catmeans.log10VDratio\n",
    "dislikeStd =   catstds.log10VDratio\n",
    "# dislikeMeans = np.log10(catmeans.DVratio)\n",
    "# dislikeStd =   np.log10(catstds.DVratio)\n",
    "\n",
    "rects2 = ax.bar(ind+width, dislikeMeans, width, color='red', yerr= dislikeStd)\n",
    "\n",
    "LDMeans = catmeans.log10LDratio\n",
    "LDStd =   catstds.log10LDratio\n",
    "# DLMeans = np.log10(catmeans.DLratio)\n",
    "# DLStd =   np.log10(catstds.DLratio)\n",
    "\n",
    "rects3 = ax.bar(ind+width*2, LDMeans, width, color='purple', yerr= LDStd)\n",
    "\n",
    "VCMeans = catmeans.log10VCratio\n",
    "VCStd = catstds.log10VCratio\n",
    "\n",
    "rects4 = ax.bar(ind+width*3, VCMeans, width, color='yellow', yerr= VCStd)\n",
    "\n",
    "# add some\n",
    "ax.set_ylabel('Scores')\n",
    "ax.set_title('Scores by group and gender')\n",
    "ax.set_xticks(ind + width*1.5 )\n",
    "ax.set_xticklabels( [categories[f'{id}'] for id in list(catmeans.index)]) \n",
    "\n",
    "ax.legend( (rects1[0], rects2[0], rects3[0], rects4[0]), \n",
    "            ('views/likes', 'views/dislikes','likes/dislikes','views/comments'),\n",
    "            loc = 'upper right')\n",
    "plt.xticks(rotation=90)\n",
    "plt.show()"
   ],
   "outputs": [
    {
     "output_type": "display_data",
     "data": {
      "text/plain": [
       "<Figure size 1152x432 with 1 Axes>"
      ],
      "image/png": "[encoded data removed]"
     },
     "metadata": {}
    }
   ],
   "metadata": {}
  },
  {
   "cell_type": "markdown",
   "source": [
    "# Creating the graph from the video dataset"
   ],
   "metadata": {}
  },
  {
   "cell_type": "code",
   "execution_count": 7,
   "source": [
    "\n",
    "# @numba.njit\n",
    "def build_edgesnodes(videos,save=False,path=None):\n",
    "    '''\n",
    "    ----------------------------------------------------------------------------------------\n",
    "    Takes a dataframe and returns the list of nodes and edges, and the dictionary mapping \n",
    "    for each tag the corresponding category\n",
    "    Parameters:\n",
    "        - videos: dataframe\n",
    "        - save: if True saves to \"path\"\n",
    "        - path: string\n",
    "    ----------------------------------------------------------------------------------------\n",
    "    '''\n",
    "    \n",
    "    pb = ProgressBar(total=100,prefix='Done:', suffix='Now', decimals=0, length=50, fill='#', zfill='-')\n",
    "\n",
    "    list_of_tags = [videos.channel_title.values[idx] + '|' + videos.tags.values[idx] for idx in range(len(videos))]\n",
    "    list_of_tags = [re.sub(\"\\\"\",\"\",tag).split('|') for tag in list_of_tags]\n",
    "\n",
    "    len_graph = []\n",
    "    for vg in list_of_tags:\n",
    "        len_graph.extend(vg)    \n",
    "\n",
    "    if save and not path:\n",
    "        raise ValueError('Please insert a valid path in which to save the nodes and edges!')\n",
    "    elif save and path:\n",
    "        if not os.path.exists(path):\n",
    "            os.makedirs(path)\n",
    "    \n",
    "    nodes = {node:k for k,node in enumerate(list(set(len_graph)))}\n",
    "    \n",
    "    # print(list_of_tags)\n",
    "    tagcategories = {}\n",
    "    for row,tags in enumerate(list_of_tags):\n",
    "        for tag in tags:\n",
    "            cat_id = str(videos.iloc[row].category_id)\n",
    "            if tag not in tagcategories:\n",
    "                # tag_categories[tag] = [str(int(videos.iloc[row].category_id))]\n",
    "                tagcategories[tag] = [categories[cat_id]]\n",
    "            elif tag in tagcategories and categories[cat_id] not in tagcategories[tag]:\n",
    "                # tag_categories[tag].append(str(int(videos.iloc[row].category_id)))\n",
    "                tagcategories[tag].append(categories[cat_id])\n",
    "        \n",
    "\n",
    "    len_graph = len(set(len_graph))\n",
    "\n",
    "\n",
    "    edges = []\n",
    "\n",
    "\n",
    "    for counter,tags in enumerate(list_of_tags):\n",
    "        progress = int((counter+1)/len(list_of_tags) * 100)\n",
    "        pb.print_progress_bar(progress)     \n",
    "        edges.extend(list(itertools.combinations(tags,2)))\n",
    "        edges = list(set(edges))\n",
    "    \n",
    "    if save:\n",
    "        '''\n",
    "        Save nodes:\n",
    "        '''\n",
    "        nodes_df = pd.DataFrame(nodes.keys())\n",
    "        nodes_df['Id'] = nodes.values()\n",
    "        nodes_df.columns = ['Label','Id']\n",
    "        nodes_df['Category'] = [tag_categories[tag] for tag in nodes_df.Label.values]\n",
    "        nodes_df.drop(nodes_df.index[0],inplace=True)\n",
    "        nodes_df = nodes_df.reindex(columns = ['Id','Label','Category'])\n",
    "        nodes_df.drop(nodes_df[nodes_df.Id == 0].index, inplace = True)\n",
    "        pd.DataFrame(nodes_df).to_csv('nodes.csv',index=False)\n",
    "\n",
    "        '''\n",
    "        Save edges:\n",
    "        '''\n",
    "        edges_df = pd.DataFrame([source[0] for source in edges])\n",
    "        edges_df.columns = ['From']\n",
    "        edges_df['To'] = [source[1] for source in edges]\n",
    "        edges_df['Source'] = [nodes[source[0]] for source in edges]\n",
    "        edges_df['Target'] = [nodes[source[1]] for source in edges]\n",
    "        edges_df = edges_df.reindex(columns = ['Source','Target','From','To'])\n",
    "\n",
    "        edges_df.drop(edges_df[edges_df.Target == 0].index, inplace = True)\n",
    "        edges_df.drop(edges_df[edges_df.Source == 0].index, inplace = True)\n",
    "\n",
    "        'Save nodes to nodes.csv'\n",
    "        edges_df.to_csv('edges.csv',index=False)\n",
    "        \n",
    "\n",
    "    return nodes,edges,tagcategories"
   ],
   "outputs": [],
   "metadata": {}
  },
  {
   "cell_type": "code",
   "execution_count": 38,
   "source": [
    "%%time\n",
    "'''\n",
    "Build nodes and edges\n",
    "'''\n",
    "\n",
    "nodes,edges,tag_categories = build_edgesnodes(video_stats,save=False,path=None) #build_edgesnodes(video_stats.iloc[:1000])"
   ],
   "outputs": [
    {
     "output_type": "stream",
     "name": "stdout",
     "text": [
      "Done: |##################################################| 100% Now\n",
      "CPU times: user 3h 41min 35s, sys: 16min 14s, total: 3h 57min 49s\n",
      "Wall time: 3h 56min 56s\n"
     ]
    }
   ],
   "metadata": {}
  },
  {
   "cell_type": "code",
   "execution_count": 3,
   "source": [
    "'''\n",
    "Load edges and tones:\n",
    "'''\n",
    "nodes = pd.read_csv('../data/nodes.csv')\n",
    "edges = pd.read_csv('../data/edges.csv')"
   ],
   "outputs": [],
   "metadata": {}
  },
  {
   "cell_type": "code",
   "execution_count": 12,
   "source": [
    "edges.head()"
   ],
   "outputs": [
    {
     "output_type": "execute_result",
     "data": {
      "text/plain": [
       "   Source  Target                   From  \\\n",
       "0   37930   16574      interesting finds   \n",
       "1   49908   19127                    snl   \n",
       "2   23644   45851  JimBrowski 96HourNews   \n",
       "3   26432    9336             black hole   \n",
       "4   35938   47924          jewelry bling   \n",
       "\n",
       "                                        To  \n",
       "0                                 swimming  \n",
       "1                                      SZA  \n",
       "2  KELLYANNE CONWAY THIS WEEK ABC 11/12/17  \n",
       "3                                 universe  \n",
       "4                          gq jewelry tour  "
      ],
      "text/html": [
       "<div>\n",
       "<style scoped>\n",
       "    .dataframe tbody tr th:only-of-type {\n",
       "        vertical-align: middle;\n",
       "    }\n",
       "\n",
       "    .dataframe tbody tr th {\n",
       "        vertical-align: top;\n",
       "    }\n",
       "\n",
       "    .dataframe thead th {\n",
       "        text-align: right;\n",
       "    }\n",
       "</style>\n",
       "<table border=\"1\" class=\"dataframe\">\n",
       "  <thead>\n",
       "    <tr style=\"text-align: right;\">\n",
       "      <th></th>\n",
       "      <th>Source</th>\n",
       "      <th>Target</th>\n",
       "      <th>From</th>\n",
       "      <th>To</th>\n",
       "    </tr>\n",
       "  </thead>\n",
       "  <tbody>\n",
       "    <tr>\n",
       "      <th>0</th>\n",
       "      <td>37930</td>\n",
       "      <td>16574</td>\n",
       "      <td>interesting finds</td>\n",
       "      <td>swimming</td>\n",
       "    </tr>\n",
       "    <tr>\n",
       "      <th>1</th>\n",
       "      <td>49908</td>\n",
       "      <td>19127</td>\n",
       "      <td>snl</td>\n",
       "      <td>SZA</td>\n",
       "    </tr>\n",
       "    <tr>\n",
       "      <th>2</th>\n",
       "      <td>23644</td>\n",
       "      <td>45851</td>\n",
       "      <td>JimBrowski 96HourNews</td>\n",
       "      <td>KELLYANNE CONWAY THIS WEEK ABC 11/12/17</td>\n",
       "    </tr>\n",
       "    <tr>\n",
       "      <th>3</th>\n",
       "      <td>26432</td>\n",
       "      <td>9336</td>\n",
       "      <td>black hole</td>\n",
       "      <td>universe</td>\n",
       "    </tr>\n",
       "    <tr>\n",
       "      <th>4</th>\n",
       "      <td>35938</td>\n",
       "      <td>47924</td>\n",
       "      <td>jewelry bling</td>\n",
       "      <td>gq jewelry tour</td>\n",
       "    </tr>\n",
       "  </tbody>\n",
       "</table>\n",
       "</div>"
      ]
     },
     "metadata": {},
     "execution_count": 12
    }
   ],
   "metadata": {}
  },
  {
   "cell_type": "code",
   "execution_count": 13,
   "source": [
    "# g_test = nx.froms_dict_of_lists(dict_edges)\n",
    "# g_test = nx.from_edgelist([(edges.From.values[i],edges.To.values[i]) for i in range(len(edges))])\n",
    "# plt.plot(np.log(nx.degree_histogram(g_test)))\n",
    "# plt.show()\n",
    "# print(f'Assortativity coefficient: {nx.degree_assortativity_coefficient(g_test)}')\n"
   ],
   "outputs": [],
   "metadata": {}
  },
  {
   "cell_type": "code",
   "execution_count": 4,
   "source": [
    "categories = {nodes.Label.values[i]:nodes.Category.values[i] for i in range(len(nodes))}"
   ],
   "outputs": [],
   "metadata": {}
  },
  {
   "cell_type": "code",
   "execution_count": 5,
   "source": [
    "'''\n",
    "Build graph:\n",
    "'''\n",
    "g = gt.Graph()\n",
    "v_cat = g.new_vertex_property(\"string\")\n",
    "v_lab = g.new_vertex_property(\"string\")\n",
    "\n",
    "\n",
    "for j in range(0, len(nodes)):\n",
    "    v = g.add_vertex()\n",
    "    v_lab[v] = nodes.Label.values[j]\n",
    "    v_cat[v] = categories[nodes.Label.values[j]]\n",
    "\n",
    "for i in range(0,len(edges)):\n",
    "    v1 = edges.Source.values[i]\n",
    "    v2 = edges.Target.values[i]\n",
    "\n",
    "    # if v1 not in list(v_lab):\n",
    "    #     v = g.add_vertex()\n",
    "    #     v_lab[v] = nodes.Label.values[v1]\n",
    "    #     v_cat[v] = categories[nodes.Label.values[v1]]\n",
    "    \n",
    "    # if v2 not in list(v_lab):\n",
    "    #     v = g.add_vertex()\n",
    "    #     v_lab[v] = nodes.Label.values[v2]\n",
    "    #     v_cat[v] = categories[nodes.Label.values[v2]]\n",
    "    \n",
    "    e = g.add_edge(v1,v2)\n",
    "    "
   ],
   "outputs": [],
   "metadata": {}
  },
  {
   "cell_type": "markdown",
   "source": [
    "## Network statistics: in-degree distribution, powerlaw and gamma estimation"
   ],
   "metadata": {}
  },
  {
   "cell_type": "code",
   "execution_count": null,
   "source": [
    "'''\n",
    "In-Degree distribution\n",
    "'''\n",
    "kmin = 30\n",
    "\n",
    "plt.style.use('seaborn-deep')\n",
    "\n",
    "in_hist = gt.stats.vertex_hist(g, \"in\")\n",
    "\n",
    "y = in_hist[0]\n",
    "err = np.sqrt(in_hist[0])\n",
    "err[err >= y] = y[err >= y] - 1e-2\n",
    "\n",
    "plt.figure(figsize=(6,4))\n",
    "# plt.errorbar(in_hist[1][:-1], in_hist[0], fmt=\".\", yerr=err,\n",
    "#         label=\"in\",alpha=0.2,color = 'darkred')\n",
    "plt.scatter(in_hist[1][:-1], in_hist[0], alpha=0.4,color='darkred',s=[10 if i < len(in_hist[0])//20 else 3 for i in range(len(in_hist[0]))])\n",
    "plt.gca().set_yscale(\"log\")\n",
    "plt.gca().set_xscale(\"log\")\n",
    "plt.gca().set_ylim(1e-1, 1e5)\n",
    "plt.gca().set_xlim(0.8, 1e3)\n",
    "plt.subplots_adjust(left=0.2, bottom=0.2)\n",
    "plt.xlabel(\"$k_{in}$\")\n",
    "plt.ylabel(\"$NP(k_{in})$\")\n",
    "plt.tight_layout()\n",
    "plt.vlines(x=kmin,ymin = 1e-1, ymax = 1e5,color = 'green',linestyles='dashdot')\n",
    "plt.text(kmin,0.1-0.05,'$k_{min}$',rotation=0)\n",
    "# savefig(\"price-deg-dist.pdf\")\n",
    "# savefig(\"price-deg-dist.svg\")\n",
    "plt.title('In degree distribution',alpha=0.5)\n",
    "plt.savefig('../images/indegree_dist.pdf')"
   ],
   "outputs": [],
   "metadata": {}
  },
  {
   "cell_type": "code",
   "execution_count": null,
   "source": [
    "'''\n",
    "Finding gamma:\n",
    "'''\n",
    "def compute_gamma(graph,kmin):\n",
    "    '''\n",
    "    Parameters:\n",
    "        - graph: graph to be considered;\n",
    "        - kmin: min degree to consider to compute gamma, if None kmin will be min(degrees)\n",
    "    '''\n",
    "    vhist = graph.get_in_degrees(vs=list(graph.vertices()))\n",
    "\n",
    "    if not kmin:\n",
    "        kmin = min(vhis)\n",
    "\n",
    "    true_k = vhist[vhist>=kmin]\n",
    "    N = len(true_k)\n",
    "\n",
    "    den = np.sum(np.log(vhist[vhist>=kmin]/kmin))\n",
    "\n",
    "    gamma = 1 + N/den\n",
    "    C = (gamma - 1)*kmin**(gamma - 1)\n",
    "    \n",
    "    return gamma,kmin,C\n",
    "\n",
    "\n",
    "gamma,kmin,C = compute_gamma(g,kmin)\n",
    "print(f'Gamma: {gamma},kmin: {kmin}, C: {C}')\n",
    "\n",
    "'''\n",
    "Confront with real distribution\n",
    "'''\n",
    "x = np.linspace(kmin,max(gt.stats.vertex_hist(g,\"in\")[1]))\n",
    "y = C * (x/kmin) **(-gamma)\n",
    "\n",
    "plt.figure(figsize=(6,4))\n",
    "plt.plot(x,y,color='green',linestyle='dashed',label='power-law')\n",
    "plt.scatter(in_hist[1][:-1], in_hist[0], alpha=0.4,color='darkred',s=[10 if i < len(in_hist[0])//20 else 3 for i in range(len(in_hist[0]))],label='in-degrees')\n",
    "\n",
    "plt.gca().set_yscale(\"log\")\n",
    "plt.gca().set_xscale(\"log\")\n",
    "plt.gca().set_ylim(1e-0, 1e4)\n",
    "plt.gca().set_xlim(0.8, 1e4)\n",
    "plt.subplots_adjust(left=0.2, bottom=0.2)\n",
    "plt.xlabel(\"$k_{in}$\")\n",
    "plt.ylabel(\"$NP(k_{in})$\")\n",
    "plt.tight_layout()\n",
    "plt.title('In-degree distribution',alpha=0.6)\n",
    "plt.legend()\n",
    "plt.savefig('../images/indegree_dist_vs_powerlaw.pdf')\n"
   ],
   "outputs": [],
   "metadata": {}
  },
  {
   "cell_type": "code",
   "execution_count": null,
   "source": [
    "'''\n",
    "Largest hub distribution:\n",
    "'''\n",
    "#If the network is scale free we have to find that k_max ~ N ^ 1/(gamma - 1)\n",
    "def compute_n(graph,kmin):\n",
    "    \n",
    "    gamma,kmin,C = compute_gamma(graph,kmin)\n",
    "\n",
    "    vhist = graph.get_in_degrees(vs=list(graph.vertices()))\n",
    "\n",
    "    vhist = vhist[vhist>=kmin]\n",
    "\n",
    "    N = []\n",
    "    kmaxs = []\n",
    "    for kmax in sorted(vhist):\n",
    "        N.append(1/len(vhist[vhist>=kmax]))\n",
    "        kmaxs.append(kmax)\n",
    "    \n",
    "    return N,kmaxs\n",
    "\n",
    "N,real_kmax = compute_n(g,kmin)\n",
    "\n",
    "theo_kmax = kmin * N ** (1/(gamma -1))\n",
    "delta = np.mean(real_kmax/theo_kmax)\n",
    "\n",
    "plt.figure(figsize=(6,4))\n",
    "plt.scatter(N,real_kmax,alpha=0.4,color='darkred',s=3,label='real distribution')\n",
    "plt.plot(N,theo_kmax*delta, color = 'green', linestyle='dashed',label = '$k_{max} \\sim N^{1/(\\gamma-1)}$')\n",
    "plt.gca().set_yscale(\"log\")\n",
    "plt.gca().set_xscale(\"log\")\n",
    "# plt.gca().set_ylim(1e-0, 1e4)\n",
    "# plt.gca().set_xlim(0.8, 1e4)\n",
    "plt.subplots_adjust(left=0.2, bottom=0.2)\n",
    "plt.xlabel(\"$N$\")\n",
    "plt.ylabel(\"$k_{max}$\")\n",
    "\n",
    "plt.title(\"Largest hubs\",alpha=0.8)\n",
    "plt.legend()\n",
    "plt.savefig('../images/largest_hubs.pdf')\n"
   ],
   "outputs": [],
   "metadata": {}
  },
  {
   "cell_type": "markdown",
   "source": [
    "## Assortativity"
   ],
   "metadata": {}
  },
  {
   "cell_type": "code",
   "execution_count": 18,
   "source": [
    "'''\n",
    "Assortativity coefficient:\n",
    "'''\n",
    "a_coeff_out = gt.correlations.assortativity(g,deg = \"out\")\n",
    "print(f'Out-degree assortativity coefficient (with variance): {a_coeff_out}')\n",
    "a_coeff_in = gt.correlations.assortativity(g,deg = \"in\")\n",
    "print(f'Out-degree assortativity coefficient (with variance): {a_coeff_in}')"
   ],
   "outputs": [
    {
     "output_type": "stream",
     "name": "stdout",
     "text": [
      "Out-degree assortativity coefficient (with variance): (-0.0035134266665226882, 5.568610332081404e-05)\n",
      "Out-degree assortativity coefficient (with variance): (-0.002910749235645614, 6.337943778292088e-05)\n"
     ]
    }
   ],
   "metadata": {}
  },
  {
   "cell_type": "code",
   "execution_count": 10,
   "source": [
    "def compute_degree_correlation_matrices(g):\n",
    "    '''\n",
    "    Return the 4 degree correlation matrices.\n",
    "    Parameters:\n",
    "        - g: graph\n",
    "    '''\n",
    "\n",
    "    #in --> in\n",
    "    in_in = np.asarray([np.mean(g.get_in_neighbors(x)) for x in g.get_vertices()])\n",
    "    in_degrees = g.get_in_degrees(g.get_vertices())\n",
    "\n",
    "    ind = np.where(~np.isnan(in_in))[0]\n",
    "    in_in = in_in[ind]\n",
    "    in_degrees = in_degrees[ind]\n",
    "    in_in = [in_degrees,in_in]\n",
    "\n",
    "    #in --> out\n",
    "    in_out = np.asarray([np.mean(g.get_in_neighbors(x)) for x in g.get_vertices()])\n",
    "    out_degrees = g.get_out_degrees(g.get_vertices())\n",
    "\n",
    "    ind = np.where(~np.isnan(in_out))[0]\n",
    "    in_out = in_out[ind]\n",
    "    out_degrees = out_degrees[ind]\n",
    "    in_out = [out_degrees,in_out]\n",
    "\n",
    "    #out --> out\n",
    "    out_out = np.asarray([np.mean(g.get_out_neighbors(x)) for x in g.get_vertices()])\n",
    "    out_degrees = g.get_out_degrees(g.get_vertices())\n",
    "\n",
    "    ind = np.where(~np.isnan(out_out))[0]\n",
    "    out_out = out_out[ind]\n",
    "    out_degrees = out_degrees[ind]\n",
    "    out_out = [out_degrees,out_out]\n",
    "\n",
    "    #out --> in\n",
    "    out_in = np.asarray([np.mean(g.get_out_neighbors(x)) for x in g.get_vertices()])\n",
    "    in_degrees = g.get_in_degrees(g.get_vertices())\n",
    "\n",
    "    ind = np.where(~np.isnan(out_in))[0]\n",
    "    out_in = out_in[ind]\n",
    "    in_degrees = in_degrees[ind]\n",
    "    out_in = [in_degrees,out_in]\n",
    "\n",
    "    return out_out, out_in, in_out, in_in"
   ],
   "outputs": [],
   "metadata": {}
  },
  {
   "cell_type": "code",
   "execution_count": 11,
   "source": [
    "out_out, out_in, in_out, in_in = compute_degree_correlation_matrices(g)"
   ],
   "outputs": [
    {
     "output_type": "stream",
     "name": "stderr",
     "text": [
      "/home/tron/.local/lib/python3.9/site-packages/numpy/core/fromnumeric.py:3440: RuntimeWarning: Mean of empty slice.\n",
      "  return _methods._mean(a, axis=axis, dtype=dtype,\n",
      "/home/tron/.local/lib/python3.9/site-packages/numpy/core/_methods.py:189: RuntimeWarning: invalid value encountered in double_scalars\n",
      "  ret = ret.dtype.type(ret / rcount)\n"
     ]
    }
   ],
   "metadata": {}
  },
  {
   "cell_type": "code",
   "execution_count": null,
   "source": [
    "# fig, ax = plt.subplots(ncols = 2, nrows = 2,figsize = (10,10))\n",
    "'''\n",
    "Matrix correlations plots:\n",
    "'''\n",
    "fig = plt.figure(figsize = (10,10))\n",
    "plt.style.use('seaborn-deep')\n",
    "\n",
    "ax = fig.add_subplot(2,2,1)\n",
    "# plt.yscale('log')\n",
    "# plt.xscale('log')\n",
    "asdf, = ax.plot(out_out[0],out_out[1], '.', color = 'darkred',  alpha = 0.4)\n",
    "ax.set_yscale(\"log\")\n",
    "ax.set_xscale(\"log\")\n",
    "ax.set_title('out-->out')\n",
    "ax.set_xlabel('$degree: k$')\n",
    "ax.set_ylabel('$mean(k_{nn})$')\n",
    "\n",
    "# ax.legend('$\\mu$','test')\n",
    "plt.table(cellText = [[str(np.around(a_coeff_in[0],5)),str(np.around(a_coeff_in[1],5))],[str(np.around(a_coeff_out[0],5)),str(np.around(a_coeff_out[1],5))]],\n",
    "            rowLabels=['out','in'],\n",
    "            colLabels=['$\\mu$','$\\sigma_{\\mu}$'],\n",
    "            colWidths=[0.2,0.2],\n",
    "            loc='center right')\n",
    "\n",
    "ax = fig.add_subplot(2,2,2)\n",
    "# plt.yscale('log')\n",
    "# plt.xscale('log')\n",
    "asdf, = ax.plot(out_in[0],out_in[1], '.', color = 'darkred',  alpha = 0.4)\n",
    "ax.set_yscale(\"log\")\n",
    "ax.set_xscale(\"log\")\n",
    "ax.set_title('out-->in')\n",
    "plt.table(cellText = [[str(np.around(a_coeff_in[0],5)),str(np.around(a_coeff_in[1],5))],[str(np.around(a_coeff_out[0],5)),str(np.around(a_coeff_out[1],5))]],\n",
    "            rowLabels=['out','in'],\n",
    "            colLabels=['$\\mu$','$\\sigma_{\\mu}$'],\n",
    "            colWidths=[0.2,0.2],\n",
    "            loc='center right')\n",
    "ax.set_xlabel('$degree: k$')\n",
    "ax.set_ylabel('$mean(k_{nn})$')\n",
    "\n",
    "ax = fig.add_subplot(2,2,3)\n",
    "# plt.yscale('log')\n",
    "# plt.xscale('log')\n",
    "asdf, = ax.plot(in_out[0],in_out[1], '.', color = 'darkred',  alpha = 0.4)\n",
    "ax.set_yscale(\"log\")\n",
    "ax.set_xscale(\"log\")\n",
    "ax.set_title('in-->out')\n",
    "plt.table(cellText = [[str(np.around(a_coeff_in[0],5)),str(np.around(a_coeff_in[1],5))],[str(np.around(a_coeff_out[0],5)),str(np.around(a_coeff_out[1],5))]],\n",
    "            rowLabels=['out','in'],\n",
    "            colLabels=['$\\mu$','$\\sigma_{\\mu}$'],\n",
    "            colWidths=[0.2,0.2],\n",
    "            loc='center right')\n",
    "ax.set_xlabel('$degree: k$')\n",
    "ax.set_ylabel('$mean(k_{nn})$')\n",
    "\n",
    "ax = fig.add_subplot(2,2,4)\n",
    "# plt.yscale('log')\n",
    "# plt.xscale('log')\n",
    "asdf, = ax.plot(in_in[0],in_in[1], '.', color = 'darkred',  alpha = 0.4)\n",
    "ax.set_yscale(\"log\")\n",
    "ax.set_xscale(\"log\")\n",
    "ax.set_title('in-->in')\n",
    "plt.table(cellText = [[str(np.around(a_coeff_in[0],5)),str(np.around(a_coeff_in[1],5))],[str(np.around(a_coeff_out[0],5)),str(np.around(a_coeff_out[1],5))]],\n",
    "            rowLabels=['out','in'],\n",
    "            colLabels=['$\\mu$','$\\sigma_{\\mu}$'],\n",
    "            colWidths=[0.2,0.2],\n",
    "            loc='center right')\n",
    "ax.set_xlabel('$degree: k$')\n",
    "ax.set_ylabel('$mean(k_{nn})$')\n",
    "\n",
    "plt.savefig('../images/assortativity.pdf')"
   ],
   "outputs": [],
   "metadata": {}
  },
  {
   "cell_type": "code",
   "execution_count": 64,
   "source": [
    "'''\n",
    "PDF of the vertices distances\n",
    "'''\n",
    "'''\n",
    "TAKES A LOT (~3300s) TO FINISH, YOU CAN LOAD FROM s_paths.npy\n",
    "'''\n",
    "# s_paths = [np.unique(list(gt.topology.shortest_distance(g,source=source)),return_counts=True) for source in g.get_vertices()]"
   ],
   "outputs": [],
   "metadata": {}
  },
  {
   "cell_type": "code",
   "execution_count": 67,
   "source": [
    "# np.save('s_paths.npy',np.asarray(s_paths,dtype='object'))"
   ],
   "outputs": [],
   "metadata": {}
  },
  {
   "cell_type": "code",
   "execution_count": 76,
   "source": [
    "hist_paths = {s_paths[0][0][i]:s_paths[0][1][i] for i in range(len(s_paths[0][0])) }\n",
    "for paths in s_paths:\n",
    "    for c,k in enumerate(paths[0]):\n",
    "        if k in hist_paths:\n",
    "            hist_paths[k] += paths[1][c]\n",
    "        else:\n",
    "            hist_paths[k] = paths[1][c]\n",
    "\n",
    "# df_paths = pd.DataFrame.from_dict(hist_paths,orient='index',columns = ['count'])\n",
    "# df_paths.to_csv('../data/paths_hist.csv',index=True)"
   ],
   "outputs": [],
   "metadata": {}
  },
  {
   "cell_type": "code",
   "execution_count": 82,
   "source": [
    "hist_paths"
   ],
   "outputs": [
    {
     "output_type": "execute_result",
     "data": {
      "text/plain": [
       "{0: 57229,\n",
       " 2147483647: 911513507,\n",
       " 1: 1354148,\n",
       " 2: 96720794,\n",
       " 3: 928398955,\n",
       " 4: 1006347385,\n",
       " 5: 279999484,\n",
       " 6: 44619328,\n",
       " 7: 5553442,\n",
       " 8: 499496,\n",
       " 9: 35430,\n",
       " 10: 1961,\n",
       " 11: 51,\n",
       " 12: 2}"
      ]
     },
     "metadata": {},
     "execution_count": 82
    }
   ],
   "metadata": {}
  },
  {
   "cell_type": "code",
   "execution_count": 190,
   "source": [
    "vals = list(hist_paths.values())[:1]\n",
    "vals.extend(list(hist_paths.values())[2:])\n",
    "\n",
    "plt.style.use('Solarize_Light2')\n",
    "\n",
    "plt.figure(figsize=(10,10))\n",
    "plt.bar(sorted(list(hist_paths.keys()))[:-1],vals,color = 'darkred')\n",
    "\n",
    "plt.title('Path distance distribution',size=20)\n",
    "plt.xlabel('distance')\n",
    "plt.ylabel('count')\n",
    "plt.ylim(min(vals),max(vals) * 1.2)\n",
    "for i,v in enumerate(vals):\n",
    "    if v > 1e4:\n",
    "        n = str(np.around(v/1e9,4))\n",
    "    else:\n",
    "        n = str(v)\n",
    "    plt.text(i-0.25,v+max(vals)/100, \"{:.2e}\".format(v),color = 'purple',fontweight='bold',size = 10,rotation=90)\n",
    "\n",
    "textstr = '\\n'.join((\n",
    "    'Excluded:',\n",
    "    f'Distance: {max(hist_paths.keys())}',\n",
    "    f'Count: {hist_paths[max(hist_paths.keys())]}'\n",
    "))\n",
    "\n",
    "props = dict(boxstyle = 'round',facecolor='wheat', alpha =0.5)\n",
    "\n",
    "plt.text(8, max(vals)*1.1, textstr,  fontsize=14,\n",
    "        verticalalignment='top', bbox=props)\n",
    "        \n",
    "# plt.text(8,max(vals),f'Excluded distance: {max(hist_paths.keys())} \\n having a count:    {hist_paths[max(hist_paths.keys())]}',size = 10,color = 'green',fontweight='bold')\n",
    "\n",
    "plt.savefig('../images/path_distance_distribution_no_max.pdf')"
   ],
   "outputs": [
    {
     "output_type": "display_data",
     "data": {
      "text/plain": [
       "<Figure size 800x800 with 1 Axes>"
      ],
      "image/svg+xml": "<?xml version=\"1.0\" encoding=\"utf-8\" standalone=\"no\"?>\n<!DOCTYPE svg PUBLIC \"-//W3C//DTD SVG 1.1//EN\"\n  \"http://www.w3.org/Graphics/SVG/1.1/DTD/svg11.dtd\">\n<svg height=\"646.824375pt\" version=\"1.1\" viewBox=\"0 0 623.7325 646.824375\" width=\"623.7325pt\" xmlns=\"http://www.w3.org/2000/svg\" xmlns:xlink=\"http://www.w3.org/1999/xlink\">\n <metadata>\n  <rdf:RDF xmlns:cc=\"http://creativecommons.org/ns#\" xmlns:dc=\"http://purl.org/dc/elements/1.1/\" xmlns:rdf=\"http://www.w3.org/1999/02/22-rdf-syntax-ns#\">\n   <cc:Work>\n    <dc:type rdf:resource=\"http://purl.org/dc/dcmitype/StillImage\"/>\n    <dc:date>2021-08-19T13:15:53.425084</dc:date>\n    <dc:format>image/svg+xml</dc:format>\n    <dc:creator>\n     <cc:Agent>\n      <dc:title>Matplotlib v3.4.3, https://matplotlib.org/</dc:title>\n     </cc:Agent>\n    </dc:creator>\n   </cc:Work>\n  </rdf:RDF>\n </metadata>\n <defs>\n  <style type=\"text/css\">*{stroke-linecap:butt;stroke-linejoin:round;}</style>\n </defs>\n <g id=\"figure_1\">\n  <g id=\"patch_1\">\n   <path d=\"M 0 646.824375 \nL 623.7325 646.824375 \nL 623.7325 0 \nL 0 0 \nz\n\" style=\"fill:#fdf6e3;\"/>\n  </g>\n  <g id=\"axes_1\">\n   <g id=\"patch_2\">\n    <path d=\"M 50.8975 603.396875 \nL 608.8975 603.396875 \nL 608.8975 27.396875 \nL 50.8975 27.396875 \nz\n\" style=\"fill:#eee8d5;\"/>\n   </g>\n   <g id=\"matplotlib.axis_1\">\n    <g id=\"xtick_1\">\n     <g id=\"line2d_1\">\n      <path clip-path=\"url(#pd03a9d0887)\" d=\"M 50.8975 603.396875 \nL 50.8975 27.396875 \n\" style=\"fill:none;stroke:#fdf6e3;\"/>\n     </g>\n     <g id=\"line2d_2\">\n      <defs>\n       <path d=\"M 0 0 \nL 0 4 \n\" id=\"m8325c05615\" style=\"stroke:#657b83;stroke-width:0.5;\"/>\n      </defs>\n      <g>\n       <use style=\"fill:#657b83;stroke:#657b83;stroke-width:0.5;\" x=\"50.8975\" xlink:href=\"#m8325c05615\" y=\"603.396875\"/>\n      </g>\n     </g>\n     <g id=\"line2d_3\">\n      <defs>\n       <path d=\"M 0 0 \nL 0 -4 \n\" id=\"m61e5ac61a3\" style=\"stroke:#657b83;stroke-width:0.5;\"/>\n      </defs>\n      <g>\n       <use style=\"fill:#657b83;stroke:#657b83;stroke-width:0.5;\" x=\"50.8975\" xlink:href=\"#m61e5ac61a3\" y=\"27.396875\"/>\n      </g>\n     </g>\n     <g id=\"text_1\">\n      <!-- −2 -->\n      <g style=\"fill:#657b83;\" transform=\"translate(42.052188 620.515)scale(0.12 -0.12)\">\n       <defs>\n        <path d=\"M 678 2272 \nL 4684 2272 \nL 4684 1741 \nL 678 1741 \nL 678 2272 \nz\n\" id=\"DejaVuSans-2212\" transform=\"scale(0.015625)\"/>\n        <path d=\"M 1228 531 \nL 3431 531 \nL 3431 0 \nL 469 0 \nL 469 531 \nQ 828 903 1448 1529 \nQ 2069 2156 2228 2338 \nQ 2531 2678 2651 2914 \nQ 2772 3150 2772 3378 \nQ 2772 3750 2511 3984 \nQ 2250 4219 1831 4219 \nQ 1534 4219 1204 4116 \nQ 875 4013 500 3803 \nL 500 4441 \nQ 881 4594 1212 4672 \nQ 1544 4750 1819 4750 \nQ 2544 4750 2975 4387 \nQ 3406 4025 3406 3419 \nQ 3406 3131 3298 2873 \nQ 3191 2616 2906 2266 \nQ 2828 2175 2409 1742 \nQ 1991 1309 1228 531 \nz\n\" id=\"DejaVuSans-32\" transform=\"scale(0.015625)\"/>\n       </defs>\n       <use xlink:href=\"#DejaVuSans-2212\"/>\n       <use x=\"83.789062\" xlink:href=\"#DejaVuSans-32\"/>\n      </g>\n     </g>\n    </g>\n    <g id=\"xtick_2\">\n     <g id=\"line2d_4\">\n      <path clip-path=\"url(#pd03a9d0887)\" d=\"M 120.6475 603.396875 \nL 120.6475 27.396875 \n\" style=\"fill:none;stroke:#fdf6e3;\"/>\n     </g>\n     <g id=\"line2d_5\">\n      <g>\n       <use style=\"fill:#657b83;stroke:#657b83;stroke-width:0.5;\" x=\"120.6475\" xlink:href=\"#m8325c05615\" y=\"603.396875\"/>\n      </g>\n     </g>\n     <g id=\"line2d_6\">\n      <g>\n       <use style=\"fill:#657b83;stroke:#657b83;stroke-width:0.5;\" x=\"120.6475\" xlink:href=\"#m61e5ac61a3\" y=\"27.396875\"/>\n      </g>\n     </g>\n     <g id=\"text_2\">\n      <!-- 0 -->\n      <g style=\"fill:#657b83;\" transform=\"translate(116.83 620.515)scale(0.12 -0.12)\">\n       <defs>\n        <path d=\"M 2034 4250 \nQ 1547 4250 1301 3770 \nQ 1056 3291 1056 2328 \nQ 1056 1369 1301 889 \nQ 1547 409 2034 409 \nQ 2525 409 2770 889 \nQ 3016 1369 3016 2328 \nQ 3016 3291 2770 3770 \nQ 2525 4250 2034 4250 \nz\nM 2034 4750 \nQ 2819 4750 3233 4129 \nQ 3647 3509 3647 2328 \nQ 3647 1150 3233 529 \nQ 2819 -91 2034 -91 \nQ 1250 -91 836 529 \nQ 422 1150 422 2328 \nQ 422 3509 836 4129 \nQ 1250 4750 2034 4750 \nz\n\" id=\"DejaVuSans-30\" transform=\"scale(0.015625)\"/>\n       </defs>\n       <use xlink:href=\"#DejaVuSans-30\"/>\n      </g>\n     </g>\n    </g>\n    <g id=\"xtick_3\">\n     <g id=\"line2d_7\">\n      <path clip-path=\"url(#pd03a9d0887)\" d=\"M 190.3975 603.396875 \nL 190.3975 27.396875 \n\" style=\"fill:none;stroke:#fdf6e3;\"/>\n     </g>\n     <g id=\"line2d_8\">\n      <g>\n       <use style=\"fill:#657b83;stroke:#657b83;stroke-width:0.5;\" x=\"190.3975\" xlink:href=\"#m8325c05615\" y=\"603.396875\"/>\n      </g>\n     </g>\n     <g id=\"line2d_9\">\n      <g>\n       <use style=\"fill:#657b83;stroke:#657b83;stroke-width:0.5;\" x=\"190.3975\" xlink:href=\"#m61e5ac61a3\" y=\"27.396875\"/>\n      </g>\n     </g>\n     <g id=\"text_3\">\n      <!-- 2 -->\n      <g style=\"fill:#657b83;\" transform=\"translate(186.58 620.515)scale(0.12 -0.12)\">\n       <use xlink:href=\"#DejaVuSans-32\"/>\n      </g>\n     </g>\n    </g>\n    <g id=\"xtick_4\">\n     <g id=\"line2d_10\">\n      <path clip-path=\"url(#pd03a9d0887)\" d=\"M 260.1475 603.396875 \nL 260.1475 27.396875 \n\" style=\"fill:none;stroke:#fdf6e3;\"/>\n     </g>\n     <g id=\"line2d_11\">\n      <g>\n       <use style=\"fill:#657b83;stroke:#657b83;stroke-width:0.5;\" x=\"260.1475\" xlink:href=\"#m8325c05615\" y=\"603.396875\"/>\n      </g>\n     </g>\n     <g id=\"line2d_12\">\n      <g>\n       <use style=\"fill:#657b83;stroke:#657b83;stroke-width:0.5;\" x=\"260.1475\" xlink:href=\"#m61e5ac61a3\" y=\"27.396875\"/>\n      </g>\n     </g>\n     <g id=\"text_4\">\n      <!-- 4 -->\n      <g style=\"fill:#657b83;\" transform=\"translate(256.33 620.515)scale(0.12 -0.12)\">\n       <defs>\n        <path d=\"M 2419 4116 \nL 825 1625 \nL 2419 1625 \nL 2419 4116 \nz\nM 2253 4666 \nL 3047 4666 \nL 3047 1625 \nL 3713 1625 \nL 3713 1100 \nL 3047 1100 \nL 3047 0 \nL 2419 0 \nL 2419 1100 \nL 313 1100 \nL 313 1709 \nL 2253 4666 \nz\n\" id=\"DejaVuSans-34\" transform=\"scale(0.015625)\"/>\n       </defs>\n       <use xlink:href=\"#DejaVuSans-34\"/>\n      </g>\n     </g>\n    </g>\n    <g id=\"xtick_5\">\n     <g id=\"line2d_13\">\n      <path clip-path=\"url(#pd03a9d0887)\" d=\"M 329.8975 603.396875 \nL 329.8975 27.396875 \n\" style=\"fill:none;stroke:#fdf6e3;\"/>\n     </g>\n     <g id=\"line2d_14\">\n      <g>\n       <use style=\"fill:#657b83;stroke:#657b83;stroke-width:0.5;\" x=\"329.8975\" xlink:href=\"#m8325c05615\" y=\"603.396875\"/>\n      </g>\n     </g>\n     <g id=\"line2d_15\">\n      <g>\n       <use style=\"fill:#657b83;stroke:#657b83;stroke-width:0.5;\" x=\"329.8975\" xlink:href=\"#m61e5ac61a3\" y=\"27.396875\"/>\n      </g>\n     </g>\n     <g id=\"text_5\">\n      <!-- 6 -->\n      <g style=\"fill:#657b83;\" transform=\"translate(326.08 620.515)scale(0.12 -0.12)\">\n       <defs>\n        <path d=\"M 2113 2584 \nQ 1688 2584 1439 2293 \nQ 1191 2003 1191 1497 \nQ 1191 994 1439 701 \nQ 1688 409 2113 409 \nQ 2538 409 2786 701 \nQ 3034 994 3034 1497 \nQ 3034 2003 2786 2293 \nQ 2538 2584 2113 2584 \nz\nM 3366 4563 \nL 3366 3988 \nQ 3128 4100 2886 4159 \nQ 2644 4219 2406 4219 \nQ 1781 4219 1451 3797 \nQ 1122 3375 1075 2522 \nQ 1259 2794 1537 2939 \nQ 1816 3084 2150 3084 \nQ 2853 3084 3261 2657 \nQ 3669 2231 3669 1497 \nQ 3669 778 3244 343 \nQ 2819 -91 2113 -91 \nQ 1303 -91 875 529 \nQ 447 1150 447 2328 \nQ 447 3434 972 4092 \nQ 1497 4750 2381 4750 \nQ 2619 4750 2861 4703 \nQ 3103 4656 3366 4563 \nz\n\" id=\"DejaVuSans-36\" transform=\"scale(0.015625)\"/>\n       </defs>\n       <use xlink:href=\"#DejaVuSans-36\"/>\n      </g>\n     </g>\n    </g>\n    <g id=\"xtick_6\">\n     <g id=\"line2d_16\">\n      <path clip-path=\"url(#pd03a9d0887)\" d=\"M 399.6475 603.396875 \nL 399.6475 27.396875 \n\" style=\"fill:none;stroke:#fdf6e3;\"/>\n     </g>\n     <g id=\"line2d_17\">\n      <g>\n       <use style=\"fill:#657b83;stroke:#657b83;stroke-width:0.5;\" x=\"399.6475\" xlink:href=\"#m8325c05615\" y=\"603.396875\"/>\n      </g>\n     </g>\n     <g id=\"line2d_18\">\n      <g>\n       <use style=\"fill:#657b83;stroke:#657b83;stroke-width:0.5;\" x=\"399.6475\" xlink:href=\"#m61e5ac61a3\" y=\"27.396875\"/>\n      </g>\n     </g>\n     <g id=\"text_6\">\n      <!-- 8 -->\n      <g style=\"fill:#657b83;\" transform=\"translate(395.83 620.515)scale(0.12 -0.12)\">\n       <defs>\n        <path d=\"M 2034 2216 \nQ 1584 2216 1326 1975 \nQ 1069 1734 1069 1313 \nQ 1069 891 1326 650 \nQ 1584 409 2034 409 \nQ 2484 409 2743 651 \nQ 3003 894 3003 1313 \nQ 3003 1734 2745 1975 \nQ 2488 2216 2034 2216 \nz\nM 1403 2484 \nQ 997 2584 770 2862 \nQ 544 3141 544 3541 \nQ 544 4100 942 4425 \nQ 1341 4750 2034 4750 \nQ 2731 4750 3128 4425 \nQ 3525 4100 3525 3541 \nQ 3525 3141 3298 2862 \nQ 3072 2584 2669 2484 \nQ 3125 2378 3379 2068 \nQ 3634 1759 3634 1313 \nQ 3634 634 3220 271 \nQ 2806 -91 2034 -91 \nQ 1263 -91 848 271 \nQ 434 634 434 1313 \nQ 434 1759 690 2068 \nQ 947 2378 1403 2484 \nz\nM 1172 3481 \nQ 1172 3119 1398 2916 \nQ 1625 2713 2034 2713 \nQ 2441 2713 2670 2916 \nQ 2900 3119 2900 3481 \nQ 2900 3844 2670 4047 \nQ 2441 4250 2034 4250 \nQ 1625 4250 1398 4047 \nQ 1172 3844 1172 3481 \nz\n\" id=\"DejaVuSans-38\" transform=\"scale(0.015625)\"/>\n       </defs>\n       <use xlink:href=\"#DejaVuSans-38\"/>\n      </g>\n     </g>\n    </g>\n    <g id=\"xtick_7\">\n     <g id=\"line2d_19\">\n      <path clip-path=\"url(#pd03a9d0887)\" d=\"M 469.3975 603.396875 \nL 469.3975 27.396875 \n\" style=\"fill:none;stroke:#fdf6e3;\"/>\n     </g>\n     <g id=\"line2d_20\">\n      <g>\n       <use style=\"fill:#657b83;stroke:#657b83;stroke-width:0.5;\" x=\"469.3975\" xlink:href=\"#m8325c05615\" y=\"603.396875\"/>\n      </g>\n     </g>\n     <g id=\"line2d_21\">\n      <g>\n       <use style=\"fill:#657b83;stroke:#657b83;stroke-width:0.5;\" x=\"469.3975\" xlink:href=\"#m61e5ac61a3\" y=\"27.396875\"/>\n      </g>\n     </g>\n     <g id=\"text_7\">\n      <!-- 10 -->\n      <g style=\"fill:#657b83;\" transform=\"translate(461.7625 620.515)scale(0.12 -0.12)\">\n       <defs>\n        <path d=\"M 794 531 \nL 1825 531 \nL 1825 4091 \nL 703 3866 \nL 703 4441 \nL 1819 4666 \nL 2450 4666 \nL 2450 531 \nL 3481 531 \nL 3481 0 \nL 794 0 \nL 794 531 \nz\n\" id=\"DejaVuSans-31\" transform=\"scale(0.015625)\"/>\n       </defs>\n       <use xlink:href=\"#DejaVuSans-31\"/>\n       <use x=\"63.623047\" xlink:href=\"#DejaVuSans-30\"/>\n      </g>\n     </g>\n    </g>\n    <g id=\"xtick_8\">\n     <g id=\"line2d_22\">\n      <path clip-path=\"url(#pd03a9d0887)\" d=\"M 539.1475 603.396875 \nL 539.1475 27.396875 \n\" style=\"fill:none;stroke:#fdf6e3;\"/>\n     </g>\n     <g id=\"line2d_23\">\n      <g>\n       <use style=\"fill:#657b83;stroke:#657b83;stroke-width:0.5;\" x=\"539.1475\" xlink:href=\"#m8325c05615\" y=\"603.396875\"/>\n      </g>\n     </g>\n     <g id=\"line2d_24\">\n      <g>\n       <use style=\"fill:#657b83;stroke:#657b83;stroke-width:0.5;\" x=\"539.1475\" xlink:href=\"#m61e5ac61a3\" y=\"27.396875\"/>\n      </g>\n     </g>\n     <g id=\"text_8\">\n      <!-- 12 -->\n      <g style=\"fill:#657b83;\" transform=\"translate(531.5125 620.515)scale(0.12 -0.12)\">\n       <use xlink:href=\"#DejaVuSans-31\"/>\n       <use x=\"63.623047\" xlink:href=\"#DejaVuSans-32\"/>\n      </g>\n     </g>\n    </g>\n    <g id=\"xtick_9\">\n     <g id=\"line2d_25\">\n      <path clip-path=\"url(#pd03a9d0887)\" d=\"M 608.8975 603.396875 \nL 608.8975 27.396875 \n\" style=\"fill:none;stroke:#fdf6e3;\"/>\n     </g>\n     <g id=\"line2d_26\">\n      <g>\n       <use style=\"fill:#657b83;stroke:#657b83;stroke-width:0.5;\" x=\"608.8975\" xlink:href=\"#m8325c05615\" y=\"603.396875\"/>\n      </g>\n     </g>\n     <g id=\"line2d_27\">\n      <g>\n       <use style=\"fill:#657b83;stroke:#657b83;stroke-width:0.5;\" x=\"608.8975\" xlink:href=\"#m61e5ac61a3\" y=\"27.396875\"/>\n      </g>\n     </g>\n     <g id=\"text_9\">\n      <!-- 14 -->\n      <g style=\"fill:#657b83;\" transform=\"translate(601.2625 620.515)scale(0.12 -0.12)\">\n       <use xlink:href=\"#DejaVuSans-31\"/>\n       <use x=\"63.623047\" xlink:href=\"#DejaVuSans-34\"/>\n      </g>\n     </g>\n    </g>\n    <g id=\"text_10\">\n     <!-- distance -->\n     <g style=\"fill:#657b83;\" transform=\"translate(304.473437 637.12875)scale(0.12 -0.12)\">\n      <defs>\n       <path d=\"M 2906 2969 \nL 2906 4863 \nL 3481 4863 \nL 3481 0 \nL 2906 0 \nL 2906 525 \nQ 2725 213 2448 61 \nQ 2172 -91 1784 -91 \nQ 1150 -91 751 415 \nQ 353 922 353 1747 \nQ 353 2572 751 3078 \nQ 1150 3584 1784 3584 \nQ 2172 3584 2448 3432 \nQ 2725 3281 2906 2969 \nz\nM 947 1747 \nQ 947 1113 1208 752 \nQ 1469 391 1925 391 \nQ 2381 391 2643 752 \nQ 2906 1113 2906 1747 \nQ 2906 2381 2643 2742 \nQ 2381 3103 1925 3103 \nQ 1469 3103 1208 2742 \nQ 947 2381 947 1747 \nz\n\" id=\"DejaVuSans-64\" transform=\"scale(0.015625)\"/>\n       <path d=\"M 603 3500 \nL 1178 3500 \nL 1178 0 \nL 603 0 \nL 603 3500 \nz\nM 603 4863 \nL 1178 4863 \nL 1178 4134 \nL 603 4134 \nL 603 4863 \nz\n\" id=\"DejaVuSans-69\" transform=\"scale(0.015625)\"/>\n       <path d=\"M 2834 3397 \nL 2834 2853 \nQ 2591 2978 2328 3040 \nQ 2066 3103 1784 3103 \nQ 1356 3103 1142 2972 \nQ 928 2841 928 2578 \nQ 928 2378 1081 2264 \nQ 1234 2150 1697 2047 \nL 1894 2003 \nQ 2506 1872 2764 1633 \nQ 3022 1394 3022 966 \nQ 3022 478 2636 193 \nQ 2250 -91 1575 -91 \nQ 1294 -91 989 -36 \nQ 684 19 347 128 \nL 347 722 \nQ 666 556 975 473 \nQ 1284 391 1588 391 \nQ 1994 391 2212 530 \nQ 2431 669 2431 922 \nQ 2431 1156 2273 1281 \nQ 2116 1406 1581 1522 \nL 1381 1569 \nQ 847 1681 609 1914 \nQ 372 2147 372 2553 \nQ 372 3047 722 3315 \nQ 1072 3584 1716 3584 \nQ 2034 3584 2315 3537 \nQ 2597 3491 2834 3397 \nz\n\" id=\"DejaVuSans-73\" transform=\"scale(0.015625)\"/>\n       <path d=\"M 1172 4494 \nL 1172 3500 \nL 2356 3500 \nL 2356 3053 \nL 1172 3053 \nL 1172 1153 \nQ 1172 725 1289 603 \nQ 1406 481 1766 481 \nL 2356 481 \nL 2356 0 \nL 1766 0 \nQ 1100 0 847 248 \nQ 594 497 594 1153 \nL 594 3053 \nL 172 3053 \nL 172 3500 \nL 594 3500 \nL 594 4494 \nL 1172 4494 \nz\n\" id=\"DejaVuSans-74\" transform=\"scale(0.015625)\"/>\n       <path d=\"M 2194 1759 \nQ 1497 1759 1228 1600 \nQ 959 1441 959 1056 \nQ 959 750 1161 570 \nQ 1363 391 1709 391 \nQ 2188 391 2477 730 \nQ 2766 1069 2766 1631 \nL 2766 1759 \nL 2194 1759 \nz\nM 3341 1997 \nL 3341 0 \nL 2766 0 \nL 2766 531 \nQ 2569 213 2275 61 \nQ 1981 -91 1556 -91 \nQ 1019 -91 701 211 \nQ 384 513 384 1019 \nQ 384 1609 779 1909 \nQ 1175 2209 1959 2209 \nL 2766 2209 \nL 2766 2266 \nQ 2766 2663 2505 2880 \nQ 2244 3097 1772 3097 \nQ 1472 3097 1187 3025 \nQ 903 2953 641 2809 \nL 641 3341 \nQ 956 3463 1253 3523 \nQ 1550 3584 1831 3584 \nQ 2591 3584 2966 3190 \nQ 3341 2797 3341 1997 \nz\n\" id=\"DejaVuSans-61\" transform=\"scale(0.015625)\"/>\n       <path d=\"M 3513 2113 \nL 3513 0 \nL 2938 0 \nL 2938 2094 \nQ 2938 2591 2744 2837 \nQ 2550 3084 2163 3084 \nQ 1697 3084 1428 2787 \nQ 1159 2491 1159 1978 \nL 1159 0 \nL 581 0 \nL 581 3500 \nL 1159 3500 \nL 1159 2956 \nQ 1366 3272 1645 3428 \nQ 1925 3584 2291 3584 \nQ 2894 3584 3203 3211 \nQ 3513 2838 3513 2113 \nz\n\" id=\"DejaVuSans-6e\" transform=\"scale(0.015625)\"/>\n       <path d=\"M 3122 3366 \nL 3122 2828 \nQ 2878 2963 2633 3030 \nQ 2388 3097 2138 3097 \nQ 1578 3097 1268 2742 \nQ 959 2388 959 1747 \nQ 959 1106 1268 751 \nQ 1578 397 2138 397 \nQ 2388 397 2633 464 \nQ 2878 531 3122 666 \nL 3122 134 \nQ 2881 22 2623 -34 \nQ 2366 -91 2075 -91 \nQ 1284 -91 818 406 \nQ 353 903 353 1747 \nQ 353 2603 823 3093 \nQ 1294 3584 2113 3584 \nQ 2378 3584 2631 3529 \nQ 2884 3475 3122 3366 \nz\n\" id=\"DejaVuSans-63\" transform=\"scale(0.015625)\"/>\n       <path d=\"M 3597 1894 \nL 3597 1613 \nL 953 1613 \nQ 991 1019 1311 708 \nQ 1631 397 2203 397 \nQ 2534 397 2845 478 \nQ 3156 559 3463 722 \nL 3463 178 \nQ 3153 47 2828 -22 \nQ 2503 -91 2169 -91 \nQ 1331 -91 842 396 \nQ 353 884 353 1716 \nQ 353 2575 817 3079 \nQ 1281 3584 2069 3584 \nQ 2775 3584 3186 3129 \nQ 3597 2675 3597 1894 \nz\nM 3022 2063 \nQ 3016 2534 2758 2815 \nQ 2500 3097 2075 3097 \nQ 1594 3097 1305 2825 \nQ 1016 2553 972 2059 \nL 3022 2063 \nz\n\" id=\"DejaVuSans-65\" transform=\"scale(0.015625)\"/>\n      </defs>\n      <use xlink:href=\"#DejaVuSans-64\"/>\n      <use x=\"63.476562\" xlink:href=\"#DejaVuSans-69\"/>\n      <use x=\"91.259766\" xlink:href=\"#DejaVuSans-73\"/>\n      <use x=\"143.359375\" xlink:href=\"#DejaVuSans-74\"/>\n      <use x=\"182.568359\" xlink:href=\"#DejaVuSans-61\"/>\n      <use x=\"243.847656\" xlink:href=\"#DejaVuSans-6e\"/>\n      <use x=\"307.226562\" xlink:href=\"#DejaVuSans-63\"/>\n      <use x=\"362.207031\" xlink:href=\"#DejaVuSans-65\"/>\n     </g>\n    </g>\n   </g>\n   <g id=\"matplotlib.axis_2\">\n    <g id=\"ytick_1\">\n     <g id=\"line2d_28\">\n      <path clip-path=\"url(#pd03a9d0887)\" d=\"M 50.8975 508.002381 \nL 608.8975 508.002381 \n\" style=\"fill:none;stroke:#fdf6e3;\"/>\n     </g>\n     <g id=\"line2d_29\">\n      <defs>\n       <path d=\"M 0 0 \nL -4 0 \n\" id=\"m5ce364bb1c\" style=\"stroke:#657b83;stroke-width:0.5;\"/>\n      </defs>\n      <g>\n       <use style=\"fill:#657b83;stroke:#657b83;stroke-width:0.5;\" x=\"50.8975\" xlink:href=\"#m5ce364bb1c\" y=\"508.002381\"/>\n      </g>\n     </g>\n     <g id=\"line2d_30\">\n      <defs>\n       <path d=\"M 0 0 \nL 4 0 \n\" id=\"m9d0f6b7fe7\" style=\"stroke:#657b83;stroke-width:0.5;\"/>\n      </defs>\n      <g>\n       <use style=\"fill:#657b83;stroke:#657b83;stroke-width:0.5;\" x=\"608.8975\" xlink:href=\"#m9d0f6b7fe7\" y=\"508.002381\"/>\n      </g>\n     </g>\n     <g id=\"text_11\">\n      <!-- 0.2 -->\n      <g style=\"fill:#657b83;\" transform=\"translate(23.81375 511.313631)scale(0.12 -0.12)\">\n       <defs>\n        <path d=\"M 684 794 \nL 1344 794 \nL 1344 0 \nL 684 0 \nL 684 794 \nz\n\" id=\"DejaVuSans-2e\" transform=\"scale(0.015625)\"/>\n       </defs>\n       <use xlink:href=\"#DejaVuSans-30\"/>\n       <use x=\"63.623047\" xlink:href=\"#DejaVuSans-2e\"/>\n       <use x=\"95.410156\" xlink:href=\"#DejaVuSans-32\"/>\n      </g>\n     </g>\n    </g>\n    <g id=\"ytick_2\">\n     <g id=\"line2d_31\">\n      <path clip-path=\"url(#pd03a9d0887)\" d=\"M 50.8975 412.607887 \nL 608.8975 412.607887 \n\" style=\"fill:none;stroke:#fdf6e3;\"/>\n     </g>\n     <g id=\"line2d_32\">\n      <g>\n       <use style=\"fill:#657b83;stroke:#657b83;stroke-width:0.5;\" x=\"50.8975\" xlink:href=\"#m5ce364bb1c\" y=\"412.607887\"/>\n      </g>\n     </g>\n     <g id=\"line2d_33\">\n      <g>\n       <use style=\"fill:#657b83;stroke:#657b83;stroke-width:0.5;\" x=\"608.8975\" xlink:href=\"#m9d0f6b7fe7\" y=\"412.607887\"/>\n      </g>\n     </g>\n     <g id=\"text_12\">\n      <!-- 0.4 -->\n      <g style=\"fill:#657b83;\" transform=\"translate(23.81375 415.919137)scale(0.12 -0.12)\">\n       <use xlink:href=\"#DejaVuSans-30\"/>\n       <use x=\"63.623047\" xlink:href=\"#DejaVuSans-2e\"/>\n       <use x=\"95.410156\" xlink:href=\"#DejaVuSans-34\"/>\n      </g>\n     </g>\n    </g>\n    <g id=\"ytick_3\">\n     <g id=\"line2d_34\">\n      <path clip-path=\"url(#pd03a9d0887)\" d=\"M 50.8975 317.213392 \nL 608.8975 317.213392 \n\" style=\"fill:none;stroke:#fdf6e3;\"/>\n     </g>\n     <g id=\"line2d_35\">\n      <g>\n       <use style=\"fill:#657b83;stroke:#657b83;stroke-width:0.5;\" x=\"50.8975\" xlink:href=\"#m5ce364bb1c\" y=\"317.213392\"/>\n      </g>\n     </g>\n     <g id=\"line2d_36\">\n      <g>\n       <use style=\"fill:#657b83;stroke:#657b83;stroke-width:0.5;\" x=\"608.8975\" xlink:href=\"#m9d0f6b7fe7\" y=\"317.213392\"/>\n      </g>\n     </g>\n     <g id=\"text_13\">\n      <!-- 0.6 -->\n      <g style=\"fill:#657b83;\" transform=\"translate(23.81375 320.524642)scale(0.12 -0.12)\">\n       <use xlink:href=\"#DejaVuSans-30\"/>\n       <use x=\"63.623047\" xlink:href=\"#DejaVuSans-2e\"/>\n       <use x=\"95.410156\" xlink:href=\"#DejaVuSans-36\"/>\n      </g>\n     </g>\n    </g>\n    <g id=\"ytick_4\">\n     <g id=\"line2d_37\">\n      <path clip-path=\"url(#pd03a9d0887)\" d=\"M 50.8975 221.818898 \nL 608.8975 221.818898 \n\" style=\"fill:none;stroke:#fdf6e3;\"/>\n     </g>\n     <g id=\"line2d_38\">\n      <g>\n       <use style=\"fill:#657b83;stroke:#657b83;stroke-width:0.5;\" x=\"50.8975\" xlink:href=\"#m5ce364bb1c\" y=\"221.818898\"/>\n      </g>\n     </g>\n     <g id=\"line2d_39\">\n      <g>\n       <use style=\"fill:#657b83;stroke:#657b83;stroke-width:0.5;\" x=\"608.8975\" xlink:href=\"#m9d0f6b7fe7\" y=\"221.818898\"/>\n      </g>\n     </g>\n     <g id=\"text_14\">\n      <!-- 0.8 -->\n      <g style=\"fill:#657b83;\" transform=\"translate(23.81375 225.130148)scale(0.12 -0.12)\">\n       <use xlink:href=\"#DejaVuSans-30\"/>\n       <use x=\"63.623047\" xlink:href=\"#DejaVuSans-2e\"/>\n       <use x=\"95.410156\" xlink:href=\"#DejaVuSans-38\"/>\n      </g>\n     </g>\n    </g>\n    <g id=\"ytick_5\">\n     <g id=\"line2d_40\">\n      <path clip-path=\"url(#pd03a9d0887)\" d=\"M 50.8975 126.424403 \nL 608.8975 126.424403 \n\" style=\"fill:none;stroke:#fdf6e3;\"/>\n     </g>\n     <g id=\"line2d_41\">\n      <g>\n       <use style=\"fill:#657b83;stroke:#657b83;stroke-width:0.5;\" x=\"50.8975\" xlink:href=\"#m5ce364bb1c\" y=\"126.424403\"/>\n      </g>\n     </g>\n     <g id=\"line2d_42\">\n      <g>\n       <use style=\"fill:#657b83;stroke:#657b83;stroke-width:0.5;\" x=\"608.8975\" xlink:href=\"#m9d0f6b7fe7\" y=\"126.424403\"/>\n      </g>\n     </g>\n     <g id=\"text_15\">\n      <!-- 1.0 -->\n      <g style=\"fill:#657b83;\" transform=\"translate(23.81375 129.735653)scale(0.12 -0.12)\">\n       <use xlink:href=\"#DejaVuSans-31\"/>\n       <use x=\"63.623047\" xlink:href=\"#DejaVuSans-2e\"/>\n       <use x=\"95.410156\" xlink:href=\"#DejaVuSans-30\"/>\n      </g>\n     </g>\n    </g>\n    <g id=\"ytick_6\">\n     <g id=\"line2d_43\">\n      <path clip-path=\"url(#pd03a9d0887)\" d=\"M 50.8975 31.029909 \nL 608.8975 31.029909 \n\" style=\"fill:none;stroke:#fdf6e3;\"/>\n     </g>\n     <g id=\"line2d_44\">\n      <g>\n       <use style=\"fill:#657b83;stroke:#657b83;stroke-width:0.5;\" x=\"50.8975\" xlink:href=\"#m5ce364bb1c\" y=\"31.029909\"/>\n      </g>\n     </g>\n     <g id=\"line2d_45\">\n      <g>\n       <use style=\"fill:#657b83;stroke:#657b83;stroke-width:0.5;\" x=\"608.8975\" xlink:href=\"#m9d0f6b7fe7\" y=\"31.029909\"/>\n      </g>\n     </g>\n     <g id=\"text_16\">\n      <!-- 1.2 -->\n      <g style=\"fill:#657b83;\" transform=\"translate(23.81375 34.341159)scale(0.12 -0.12)\">\n       <use xlink:href=\"#DejaVuSans-31\"/>\n       <use x=\"63.623047\" xlink:href=\"#DejaVuSans-2e\"/>\n       <use x=\"95.410156\" xlink:href=\"#DejaVuSans-32\"/>\n      </g>\n     </g>\n    </g>\n    <g id=\"text_17\">\n     <!-- count -->\n     <g style=\"fill:#657b83;\" transform=\"translate(16.318125 332.324375)rotate(-90)scale(0.12 -0.12)\">\n      <defs>\n       <path d=\"M 1959 3097 \nQ 1497 3097 1228 2736 \nQ 959 2375 959 1747 \nQ 959 1119 1226 758 \nQ 1494 397 1959 397 \nQ 2419 397 2687 759 \nQ 2956 1122 2956 1747 \nQ 2956 2369 2687 2733 \nQ 2419 3097 1959 3097 \nz\nM 1959 3584 \nQ 2709 3584 3137 3096 \nQ 3566 2609 3566 1747 \nQ 3566 888 3137 398 \nQ 2709 -91 1959 -91 \nQ 1206 -91 779 398 \nQ 353 888 353 1747 \nQ 353 2609 779 3096 \nQ 1206 3584 1959 3584 \nz\n\" id=\"DejaVuSans-6f\" transform=\"scale(0.015625)\"/>\n       <path d=\"M 544 1381 \nL 544 3500 \nL 1119 3500 \nL 1119 1403 \nQ 1119 906 1312 657 \nQ 1506 409 1894 409 \nQ 2359 409 2629 706 \nQ 2900 1003 2900 1516 \nL 2900 3500 \nL 3475 3500 \nL 3475 0 \nL 2900 0 \nL 2900 538 \nQ 2691 219 2414 64 \nQ 2138 -91 1772 -91 \nQ 1169 -91 856 284 \nQ 544 659 544 1381 \nz\nM 1991 3584 \nL 1991 3584 \nz\n\" id=\"DejaVuSans-75\" transform=\"scale(0.015625)\"/>\n      </defs>\n      <use xlink:href=\"#DejaVuSans-63\"/>\n      <use x=\"54.980469\" xlink:href=\"#DejaVuSans-6f\"/>\n      <use x=\"116.162109\" xlink:href=\"#DejaVuSans-75\"/>\n      <use x=\"179.541016\" xlink:href=\"#DejaVuSans-6e\"/>\n      <use x=\"242.919922\" xlink:href=\"#DejaVuSans-74\"/>\n     </g>\n    </g>\n    <g id=\"text_18\">\n     <!-- 1e9 -->\n     <g style=\"fill:#657b83;\" transform=\"translate(50.8975 24.396875)scale(0.12 -0.12)\">\n      <defs>\n       <path d=\"M 703 97 \nL 703 672 \nQ 941 559 1184 500 \nQ 1428 441 1663 441 \nQ 2288 441 2617 861 \nQ 2947 1281 2994 2138 \nQ 2813 1869 2534 1725 \nQ 2256 1581 1919 1581 \nQ 1219 1581 811 2004 \nQ 403 2428 403 3163 \nQ 403 3881 828 4315 \nQ 1253 4750 1959 4750 \nQ 2769 4750 3195 4129 \nQ 3622 3509 3622 2328 \nQ 3622 1225 3098 567 \nQ 2575 -91 1691 -91 \nQ 1453 -91 1209 -44 \nQ 966 3 703 97 \nz\nM 1959 2075 \nQ 2384 2075 2632 2365 \nQ 2881 2656 2881 3163 \nQ 2881 3666 2632 3958 \nQ 2384 4250 1959 4250 \nQ 1534 4250 1286 3958 \nQ 1038 3666 1038 3163 \nQ 1038 2656 1286 2365 \nQ 1534 2075 1959 2075 \nz\n\" id=\"DejaVuSans-39\" transform=\"scale(0.015625)\"/>\n      </defs>\n      <use xlink:href=\"#DejaVuSans-31\"/>\n      <use x=\"63.623047\" xlink:href=\"#DejaVuSans-65\"/>\n      <use x=\"125.146484\" xlink:href=\"#DejaVuSans-39\"/>\n     </g>\n    </g>\n   </g>\n   <g id=\"patch_3\">\n    <path clip-path=\"url(#pd03a9d0887)\" d=\"M 106.6975 603.396876 \nL 134.5975 603.396876 \nL 134.5975 603.369579 \nL 106.6975 603.369579 \nz\n\" style=\"fill:#8b0000;stroke:#000000;stroke-linejoin:miter;\"/>\n   </g>\n   <g id=\"patch_4\">\n    <path clip-path=\"url(#pd03a9d0887)\" d=\"M 141.5725 603.396876 \nL 169.4725 603.396876 \nL 169.4725 602.750985 \nL 141.5725 602.750985 \nz\n\" style=\"fill:#8b0000;stroke:#000000;stroke-linejoin:miter;\"/>\n   </g>\n   <g id=\"patch_5\">\n    <path clip-path=\"url(#pd03a9d0887)\" d=\"M 176.4475 603.396876 \nL 204.3475 603.396876 \nL 204.3475 557.26372 \nL 176.4475 557.26372 \nz\n\" style=\"fill:#8b0000;stroke:#000000;stroke-linejoin:miter;\"/>\n   </g>\n   <g id=\"patch_6\">\n    <path clip-path=\"url(#pd03a9d0887)\" d=\"M 211.3225 603.396876 \nL 239.2225 603.396876 \nL 239.2225 160.576131 \nL 211.3225 160.576131 \nz\n\" style=\"fill:#8b0000;stroke:#000000;stroke-linejoin:miter;\"/>\n   </g>\n   <g id=\"patch_7\">\n    <path clip-path=\"url(#pd03a9d0887)\" d=\"M 246.1975 603.396876 \nL 274.0975 603.396876 \nL 274.0975 123.396875 \nL 246.1975 123.396875 \nz\n\" style=\"fill:#8b0000;stroke:#000000;stroke-linejoin:miter;\"/>\n   </g>\n   <g id=\"patch_8\">\n    <path clip-path=\"url(#pd03a9d0887)\" d=\"M 281.0725 603.396876 \nL 308.9725 603.396876 \nL 308.9725 469.84483 \nL 281.0725 469.84483 \nz\n\" style=\"fill:#8b0000;stroke:#000000;stroke-linejoin:miter;\"/>\n   </g>\n   <g id=\"patch_9\">\n    <path clip-path=\"url(#pd03a9d0887)\" d=\"M 315.9475 603.396876 \nL 343.8475 603.396876 \nL 343.8475 582.114685 \nL 315.9475 582.114685 \nz\n\" style=\"fill:#8b0000;stroke:#000000;stroke-linejoin:miter;\"/>\n   </g>\n   <g id=\"patch_10\">\n    <path clip-path=\"url(#pd03a9d0887)\" d=\"M 350.8225 603.396876 \nL 378.7225 603.396876 \nL 378.7225 600.748037 \nL 350.8225 600.748037 \nz\n\" style=\"fill:#8b0000;stroke:#000000;stroke-linejoin:miter;\"/>\n   </g>\n   <g id=\"patch_11\">\n    <path clip-path=\"url(#pd03a9d0887)\" d=\"M 385.6975 603.396876 \nL 413.5975 603.396876 \nL 413.5975 603.15863 \nL 385.6975 603.15863 \nz\n\" style=\"fill:#8b0000;stroke:#000000;stroke-linejoin:miter;\"/>\n   </g>\n   <g id=\"patch_12\">\n    <path clip-path=\"url(#pd03a9d0887)\" d=\"M 420.5725 603.396876 \nL 448.4725 603.396876 \nL 448.4725 603.379977 \nL 420.5725 603.379977 \nz\n\" style=\"fill:#8b0000;stroke:#000000;stroke-linejoin:miter;\"/>\n   </g>\n   <g id=\"patch_13\">\n    <path clip-path=\"url(#pd03a9d0887)\" d=\"M 455.4475 603.396876 \nL 483.3475 603.396876 \nL 483.3475 603.395941 \nL 455.4475 603.395941 \nz\n\" style=\"fill:#8b0000;stroke:#000000;stroke-linejoin:miter;\"/>\n   </g>\n   <g id=\"patch_14\">\n    <path clip-path=\"url(#pd03a9d0887)\" d=\"M 490.3225 603.396876 \nL 518.2225 603.396876 \nL 518.2225 603.396852 \nL 490.3225 603.396852 \nz\n\" style=\"fill:#8b0000;stroke:#000000;stroke-linejoin:miter;\"/>\n   </g>\n   <g id=\"patch_15\">\n    <path clip-path=\"url(#pd03a9d0887)\" d=\"M 525.1975 603.396876 \nL 553.0975 603.396876 \nL 553.0975 603.396875 \nL 525.1975 603.396875 \nz\n\" style=\"fill:#8b0000;stroke:#000000;stroke-linejoin:miter;\"/>\n   </g>\n   <g id=\"patch_16\">\n    <path d=\"M 50.8975 603.396875 \nL 50.8975 27.396875 \n\" style=\"fill:none;stroke:#eee8d5;stroke-linecap:square;stroke-linejoin:miter;\"/>\n   </g>\n   <g id=\"patch_17\">\n    <path d=\"M 608.8975 603.396875 \nL 608.8975 27.396875 \n\" style=\"fill:none;stroke:#eee8d5;stroke-linecap:square;stroke-linejoin:miter;\"/>\n   </g>\n   <g id=\"patch_18\">\n    <path d=\"M 50.8975 603.396875 \nL 608.8975 603.396875 \n\" style=\"fill:none;stroke:#eee8d5;stroke-linecap:square;stroke-linejoin:miter;\"/>\n   </g>\n   <g id=\"patch_19\">\n    <path d=\"M 50.8975 27.396875 \nL 608.8975 27.396875 \n\" style=\"fill:none;stroke:#eee8d5;stroke-linecap:square;stroke-linejoin:miter;\"/>\n   </g>\n   <g id=\"text_19\">\n    <!-- 5.72e+04 -->\n    <g style=\"fill:#800080;\" transform=\"translate(119.527188 600.649267)rotate(-90)scale(0.1 -0.1)\">\n     <defs>\n      <path d=\"M 678 4666 \nL 3669 4666 \nL 3669 3781 \nL 1638 3781 \nL 1638 3059 \nQ 1775 3097 1914 3117 \nQ 2053 3138 2203 3138 \nQ 3056 3138 3531 2711 \nQ 4006 2284 4006 1522 \nQ 4006 766 3489 337 \nQ 2972 -91 2053 -91 \nQ 1656 -91 1267 -14 \nQ 878 63 494 219 \nL 494 1166 \nQ 875 947 1217 837 \nQ 1559 728 1863 728 \nQ 2300 728 2551 942 \nQ 2803 1156 2803 1522 \nQ 2803 1891 2551 2103 \nQ 2300 2316 1863 2316 \nQ 1603 2316 1309 2248 \nQ 1016 2181 678 2041 \nL 678 4666 \nz\n\" id=\"DejaVuSans-Bold-35\" transform=\"scale(0.015625)\"/>\n      <path d=\"M 653 1209 \nL 1778 1209 \nL 1778 0 \nL 653 0 \nL 653 1209 \nz\n\" id=\"DejaVuSans-Bold-2e\" transform=\"scale(0.015625)\"/>\n      <path d=\"M 428 4666 \nL 3944 4666 \nL 3944 3988 \nL 2125 0 \nL 953 0 \nL 2675 3781 \nL 428 3781 \nL 428 4666 \nz\n\" id=\"DejaVuSans-Bold-37\" transform=\"scale(0.015625)\"/>\n      <path d=\"M 1844 884 \nL 3897 884 \nL 3897 0 \nL 506 0 \nL 506 884 \nL 2209 2388 \nQ 2438 2594 2547 2791 \nQ 2656 2988 2656 3200 \nQ 2656 3528 2436 3728 \nQ 2216 3928 1850 3928 \nQ 1569 3928 1234 3808 \nQ 900 3688 519 3450 \nL 519 4475 \nQ 925 4609 1322 4679 \nQ 1719 4750 2100 4750 \nQ 2938 4750 3402 4381 \nQ 3866 4013 3866 3353 \nQ 3866 2972 3669 2642 \nQ 3472 2313 2841 1759 \nL 1844 884 \nz\n\" id=\"DejaVuSans-Bold-32\" transform=\"scale(0.015625)\"/>\n      <path d=\"M 4031 1759 \nL 4031 1441 \nL 1416 1441 \nQ 1456 1047 1700 850 \nQ 1944 653 2381 653 \nQ 2734 653 3104 758 \nQ 3475 863 3866 1075 \nL 3866 213 \nQ 3469 63 3072 -14 \nQ 2675 -91 2278 -91 \nQ 1328 -91 801 392 \nQ 275 875 275 1747 \nQ 275 2603 792 3093 \nQ 1309 3584 2216 3584 \nQ 3041 3584 3536 3087 \nQ 4031 2591 4031 1759 \nz\nM 2881 2131 \nQ 2881 2450 2695 2645 \nQ 2509 2841 2209 2841 \nQ 1884 2841 1681 2658 \nQ 1478 2475 1428 2131 \nL 2881 2131 \nz\n\" id=\"DejaVuSans-Bold-65\" transform=\"scale(0.015625)\"/>\n      <path d=\"M 3053 4013 \nL 3053 2375 \nL 4684 2375 \nL 4684 1638 \nL 3053 1638 \nL 3053 0 \nL 2309 0 \nL 2309 1638 \nL 678 1638 \nL 678 2375 \nL 2309 2375 \nL 2309 4013 \nL 3053 4013 \nz\n\" id=\"DejaVuSans-Bold-2b\" transform=\"scale(0.015625)\"/>\n      <path d=\"M 2944 2338 \nQ 2944 3213 2780 3570 \nQ 2616 3928 2228 3928 \nQ 1841 3928 1675 3570 \nQ 1509 3213 1509 2338 \nQ 1509 1453 1675 1090 \nQ 1841 728 2228 728 \nQ 2613 728 2778 1090 \nQ 2944 1453 2944 2338 \nz\nM 4147 2328 \nQ 4147 1169 3647 539 \nQ 3147 -91 2228 -91 \nQ 1306 -91 806 539 \nQ 306 1169 306 2328 \nQ 306 3491 806 4120 \nQ 1306 4750 2228 4750 \nQ 3147 4750 3647 4120 \nQ 4147 3491 4147 2328 \nz\n\" id=\"DejaVuSans-Bold-30\" transform=\"scale(0.015625)\"/>\n      <path d=\"M 2356 3675 \nL 1038 1722 \nL 2356 1722 \nL 2356 3675 \nz\nM 2156 4666 \nL 3494 4666 \nL 3494 1722 \nL 4159 1722 \nL 4159 850 \nL 3494 850 \nL 3494 0 \nL 2356 0 \nL 2356 850 \nL 288 850 \nL 288 1881 \nL 2156 4666 \nz\n\" id=\"DejaVuSans-Bold-34\" transform=\"scale(0.015625)\"/>\n     </defs>\n     <use xlink:href=\"#DejaVuSans-Bold-35\"/>\n     <use x=\"69.580078\" xlink:href=\"#DejaVuSans-Bold-2e\"/>\n     <use x=\"107.568359\" xlink:href=\"#DejaVuSans-Bold-37\"/>\n     <use x=\"177.148438\" xlink:href=\"#DejaVuSans-Bold-32\"/>\n     <use x=\"246.728516\" xlink:href=\"#DejaVuSans-Bold-65\"/>\n     <use x=\"314.550781\" xlink:href=\"#DejaVuSans-Bold-2b\"/>\n     <use x=\"398.339844\" xlink:href=\"#DejaVuSans-Bold-30\"/>\n     <use x=\"467.919922\" xlink:href=\"#DejaVuSans-Bold-34\"/>\n    </g>\n   </g>\n   <g id=\"text_20\">\n    <!-- 1.35e+06 -->\n    <g style=\"fill:#800080;\" transform=\"translate(154.402187 600.030672)rotate(-90)scale(0.1 -0.1)\">\n     <defs>\n      <path d=\"M 750 831 \nL 1813 831 \nL 1813 3847 \nL 722 3622 \nL 722 4441 \nL 1806 4666 \nL 2950 4666 \nL 2950 831 \nL 4013 831 \nL 4013 0 \nL 750 0 \nL 750 831 \nz\n\" id=\"DejaVuSans-Bold-31\" transform=\"scale(0.015625)\"/>\n      <path d=\"M 2981 2516 \nQ 3453 2394 3698 2092 \nQ 3944 1791 3944 1325 \nQ 3944 631 3412 270 \nQ 2881 -91 1863 -91 \nQ 1503 -91 1142 -33 \nQ 781 25 428 141 \nL 428 1069 \nQ 766 900 1098 814 \nQ 1431 728 1753 728 \nQ 2231 728 2486 893 \nQ 2741 1059 2741 1369 \nQ 2741 1688 2480 1852 \nQ 2219 2016 1709 2016 \nL 1228 2016 \nL 1228 2791 \nL 1734 2791 \nQ 2188 2791 2409 2933 \nQ 2631 3075 2631 3366 \nQ 2631 3634 2415 3781 \nQ 2200 3928 1806 3928 \nQ 1516 3928 1219 3862 \nQ 922 3797 628 3669 \nL 628 4550 \nQ 984 4650 1334 4700 \nQ 1684 4750 2022 4750 \nQ 2931 4750 3382 4451 \nQ 3834 4153 3834 3553 \nQ 3834 3144 3618 2883 \nQ 3403 2622 2981 2516 \nz\n\" id=\"DejaVuSans-Bold-33\" transform=\"scale(0.015625)\"/>\n      <path d=\"M 2316 2303 \nQ 2000 2303 1842 2098 \nQ 1684 1894 1684 1484 \nQ 1684 1075 1842 870 \nQ 2000 666 2316 666 \nQ 2634 666 2792 870 \nQ 2950 1075 2950 1484 \nQ 2950 1894 2792 2098 \nQ 2634 2303 2316 2303 \nz\nM 3803 4544 \nL 3803 3681 \nQ 3506 3822 3243 3889 \nQ 2981 3956 2731 3956 \nQ 2194 3956 1894 3657 \nQ 1594 3359 1544 2772 \nQ 1750 2925 1990 3001 \nQ 2231 3078 2516 3078 \nQ 3231 3078 3670 2659 \nQ 4109 2241 4109 1563 \nQ 4109 813 3618 361 \nQ 3128 -91 2303 -91 \nQ 1394 -91 895 523 \nQ 397 1138 397 2266 \nQ 397 3422 980 4083 \nQ 1563 4744 2578 4744 \nQ 2900 4744 3203 4694 \nQ 3506 4644 3803 4544 \nz\n\" id=\"DejaVuSans-Bold-36\" transform=\"scale(0.015625)\"/>\n     </defs>\n     <use xlink:href=\"#DejaVuSans-Bold-31\"/>\n     <use x=\"69.580078\" xlink:href=\"#DejaVuSans-Bold-2e\"/>\n     <use x=\"107.568359\" xlink:href=\"#DejaVuSans-Bold-33\"/>\n     <use x=\"177.148438\" xlink:href=\"#DejaVuSans-Bold-35\"/>\n     <use x=\"246.728516\" xlink:href=\"#DejaVuSans-Bold-65\"/>\n     <use x=\"314.550781\" xlink:href=\"#DejaVuSans-Bold-2b\"/>\n     <use x=\"398.339844\" xlink:href=\"#DejaVuSans-Bold-30\"/>\n     <use x=\"467.919922\" xlink:href=\"#DejaVuSans-Bold-36\"/>\n    </g>\n   </g>\n   <g id=\"text_21\">\n    <!-- 9.67e+07 -->\n    <g style=\"fill:#800080;\" transform=\"translate(189.277187 554.543407)rotate(-90)scale(0.1 -0.1)\">\n     <defs>\n      <path d=\"M 641 103 \nL 641 966 \nQ 928 831 1190 764 \nQ 1453 697 1709 697 \nQ 2247 697 2547 995 \nQ 2847 1294 2900 1881 \nQ 2688 1725 2447 1647 \nQ 2206 1569 1925 1569 \nQ 1209 1569 770 1986 \nQ 331 2403 331 3084 \nQ 331 3838 820 4291 \nQ 1309 4744 2131 4744 \nQ 3044 4744 3544 4128 \nQ 4044 3513 4044 2388 \nQ 4044 1231 3459 570 \nQ 2875 -91 1856 -91 \nQ 1528 -91 1228 -42 \nQ 928 6 641 103 \nz\nM 2125 2350 \nQ 2441 2350 2600 2554 \nQ 2759 2759 2759 3169 \nQ 2759 3575 2600 3781 \nQ 2441 3988 2125 3988 \nQ 1809 3988 1650 3781 \nQ 1491 3575 1491 3169 \nQ 1491 2759 1650 2554 \nQ 1809 2350 2125 2350 \nz\n\" id=\"DejaVuSans-Bold-39\" transform=\"scale(0.015625)\"/>\n     </defs>\n     <use xlink:href=\"#DejaVuSans-Bold-39\"/>\n     <use x=\"69.580078\" xlink:href=\"#DejaVuSans-Bold-2e\"/>\n     <use x=\"107.568359\" xlink:href=\"#DejaVuSans-Bold-36\"/>\n     <use x=\"177.148438\" xlink:href=\"#DejaVuSans-Bold-37\"/>\n     <use x=\"246.728516\" xlink:href=\"#DejaVuSans-Bold-65\"/>\n     <use x=\"314.550781\" xlink:href=\"#DejaVuSans-Bold-2b\"/>\n     <use x=\"398.339844\" xlink:href=\"#DejaVuSans-Bold-30\"/>\n     <use x=\"467.919922\" xlink:href=\"#DejaVuSans-Bold-37\"/>\n    </g>\n   </g>\n   <g id=\"text_22\">\n    <!-- 9.28e+08 -->\n    <g style=\"fill:#800080;\" transform=\"translate(224.152187 157.855818)rotate(-90)scale(0.1 -0.1)\">\n     <defs>\n      <path d=\"M 2228 2088 \nQ 1891 2088 1709 1903 \nQ 1528 1719 1528 1375 \nQ 1528 1031 1709 848 \nQ 1891 666 2228 666 \nQ 2563 666 2741 848 \nQ 2919 1031 2919 1375 \nQ 2919 1722 2741 1905 \nQ 2563 2088 2228 2088 \nz\nM 1350 2484 \nQ 925 2613 709 2878 \nQ 494 3144 494 3541 \nQ 494 4131 934 4440 \nQ 1375 4750 2228 4750 \nQ 3075 4750 3515 4442 \nQ 3956 4134 3956 3541 \nQ 3956 3144 3739 2878 \nQ 3522 2613 3097 2484 \nQ 3572 2353 3814 2058 \nQ 4056 1763 4056 1313 \nQ 4056 619 3595 264 \nQ 3134 -91 2228 -91 \nQ 1319 -91 855 264 \nQ 391 619 391 1313 \nQ 391 1763 633 2058 \nQ 875 2353 1350 2484 \nz\nM 1631 3419 \nQ 1631 3141 1786 2991 \nQ 1941 2841 2228 2841 \nQ 2509 2841 2662 2991 \nQ 2816 3141 2816 3419 \nQ 2816 3697 2662 3845 \nQ 2509 3994 2228 3994 \nQ 1941 3994 1786 3844 \nQ 1631 3694 1631 3419 \nz\n\" id=\"DejaVuSans-Bold-38\" transform=\"scale(0.015625)\"/>\n     </defs>\n     <use xlink:href=\"#DejaVuSans-Bold-39\"/>\n     <use x=\"69.580078\" xlink:href=\"#DejaVuSans-Bold-2e\"/>\n     <use x=\"107.568359\" xlink:href=\"#DejaVuSans-Bold-32\"/>\n     <use x=\"177.148438\" xlink:href=\"#DejaVuSans-Bold-38\"/>\n     <use x=\"246.728516\" xlink:href=\"#DejaVuSans-Bold-65\"/>\n     <use x=\"314.550781\" xlink:href=\"#DejaVuSans-Bold-2b\"/>\n     <use x=\"398.339844\" xlink:href=\"#DejaVuSans-Bold-30\"/>\n     <use x=\"467.919922\" xlink:href=\"#DejaVuSans-Bold-38\"/>\n    </g>\n   </g>\n   <g id=\"text_23\">\n    <!-- 1.01e+09 -->\n    <g style=\"fill:#800080;\" transform=\"translate(259.027188 120.676563)rotate(-90)scale(0.1 -0.1)\">\n     <use xlink:href=\"#DejaVuSans-Bold-31\"/>\n     <use x=\"69.580078\" xlink:href=\"#DejaVuSans-Bold-2e\"/>\n     <use x=\"107.568359\" xlink:href=\"#DejaVuSans-Bold-30\"/>\n     <use x=\"177.148438\" xlink:href=\"#DejaVuSans-Bold-31\"/>\n     <use x=\"246.728516\" xlink:href=\"#DejaVuSans-Bold-65\"/>\n     <use x=\"314.550781\" xlink:href=\"#DejaVuSans-Bold-2b\"/>\n     <use x=\"398.339844\" xlink:href=\"#DejaVuSans-Bold-30\"/>\n     <use x=\"467.919922\" xlink:href=\"#DejaVuSans-Bold-39\"/>\n    </g>\n   </g>\n   <g id=\"text_24\">\n    <!-- 2.80e+08 -->\n    <g style=\"fill:#800080;\" transform=\"translate(293.902188 467.124517)rotate(-90)scale(0.1 -0.1)\">\n     <use xlink:href=\"#DejaVuSans-Bold-32\"/>\n     <use x=\"69.580078\" xlink:href=\"#DejaVuSans-Bold-2e\"/>\n     <use x=\"107.568359\" xlink:href=\"#DejaVuSans-Bold-38\"/>\n     <use x=\"177.148438\" xlink:href=\"#DejaVuSans-Bold-30\"/>\n     <use x=\"246.728516\" xlink:href=\"#DejaVuSans-Bold-65\"/>\n     <use x=\"314.550781\" xlink:href=\"#DejaVuSans-Bold-2b\"/>\n     <use x=\"398.339844\" xlink:href=\"#DejaVuSans-Bold-30\"/>\n     <use x=\"467.919922\" xlink:href=\"#DejaVuSans-Bold-38\"/>\n    </g>\n   </g>\n   <g id=\"text_25\">\n    <!-- 4.46e+07 -->\n    <g style=\"fill:#800080;\" transform=\"translate(328.777188 579.394372)rotate(-90)scale(0.1 -0.1)\">\n     <use xlink:href=\"#DejaVuSans-Bold-34\"/>\n     <use x=\"69.580078\" xlink:href=\"#DejaVuSans-Bold-2e\"/>\n     <use x=\"107.568359\" xlink:href=\"#DejaVuSans-Bold-34\"/>\n     <use x=\"177.148438\" xlink:href=\"#DejaVuSans-Bold-36\"/>\n     <use x=\"246.728516\" xlink:href=\"#DejaVuSans-Bold-65\"/>\n     <use x=\"314.550781\" xlink:href=\"#DejaVuSans-Bold-2b\"/>\n     <use x=\"398.339844\" xlink:href=\"#DejaVuSans-Bold-30\"/>\n     <use x=\"467.919922\" xlink:href=\"#DejaVuSans-Bold-37\"/>\n    </g>\n   </g>\n   <g id=\"text_26\">\n    <!-- 5.55e+06 -->\n    <g style=\"fill:#800080;\" transform=\"translate(363.652188 598.027724)rotate(-90)scale(0.1 -0.1)\">\n     <use xlink:href=\"#DejaVuSans-Bold-35\"/>\n     <use x=\"69.580078\" xlink:href=\"#DejaVuSans-Bold-2e\"/>\n     <use x=\"107.568359\" xlink:href=\"#DejaVuSans-Bold-35\"/>\n     <use x=\"177.148438\" xlink:href=\"#DejaVuSans-Bold-35\"/>\n     <use x=\"246.728516\" xlink:href=\"#DejaVuSans-Bold-65\"/>\n     <use x=\"314.550781\" xlink:href=\"#DejaVuSans-Bold-2b\"/>\n     <use x=\"398.339844\" xlink:href=\"#DejaVuSans-Bold-30\"/>\n     <use x=\"467.919922\" xlink:href=\"#DejaVuSans-Bold-36\"/>\n    </g>\n   </g>\n   <g id=\"text_27\">\n    <!-- 4.99e+05 -->\n    <g style=\"fill:#800080;\" transform=\"translate(398.527188 600.438318)rotate(-90)scale(0.1 -0.1)\">\n     <use xlink:href=\"#DejaVuSans-Bold-34\"/>\n     <use x=\"69.580078\" xlink:href=\"#DejaVuSans-Bold-2e\"/>\n     <use x=\"107.568359\" xlink:href=\"#DejaVuSans-Bold-39\"/>\n     <use x=\"177.148438\" xlink:href=\"#DejaVuSans-Bold-39\"/>\n     <use x=\"246.728516\" xlink:href=\"#DejaVuSans-Bold-65\"/>\n     <use x=\"314.550781\" xlink:href=\"#DejaVuSans-Bold-2b\"/>\n     <use x=\"398.339844\" xlink:href=\"#DejaVuSans-Bold-30\"/>\n     <use x=\"467.919922\" xlink:href=\"#DejaVuSans-Bold-35\"/>\n    </g>\n   </g>\n   <g id=\"text_28\">\n    <!-- 3.54e+04 -->\n    <g style=\"fill:#800080;\" transform=\"translate(433.402188 600.659664)rotate(-90)scale(0.1 -0.1)\">\n     <use xlink:href=\"#DejaVuSans-Bold-33\"/>\n     <use x=\"69.580078\" xlink:href=\"#DejaVuSans-Bold-2e\"/>\n     <use x=\"107.568359\" xlink:href=\"#DejaVuSans-Bold-35\"/>\n     <use x=\"177.148438\" xlink:href=\"#DejaVuSans-Bold-34\"/>\n     <use x=\"246.728516\" xlink:href=\"#DejaVuSans-Bold-65\"/>\n     <use x=\"314.550781\" xlink:href=\"#DejaVuSans-Bold-2b\"/>\n     <use x=\"398.339844\" xlink:href=\"#DejaVuSans-Bold-30\"/>\n     <use x=\"467.919922\" xlink:href=\"#DejaVuSans-Bold-34\"/>\n    </g>\n   </g>\n   <g id=\"text_29\">\n    <!-- 1.96e+03 -->\n    <g style=\"fill:#800080;\" transform=\"translate(468.277188 600.675628)rotate(-90)scale(0.1 -0.1)\">\n     <use xlink:href=\"#DejaVuSans-Bold-31\"/>\n     <use x=\"69.580078\" xlink:href=\"#DejaVuSans-Bold-2e\"/>\n     <use x=\"107.568359\" xlink:href=\"#DejaVuSans-Bold-39\"/>\n     <use x=\"177.148438\" xlink:href=\"#DejaVuSans-Bold-36\"/>\n     <use x=\"246.728516\" xlink:href=\"#DejaVuSans-Bold-65\"/>\n     <use x=\"314.550781\" xlink:href=\"#DejaVuSans-Bold-2b\"/>\n     <use x=\"398.339844\" xlink:href=\"#DejaVuSans-Bold-30\"/>\n     <use x=\"467.919922\" xlink:href=\"#DejaVuSans-Bold-33\"/>\n    </g>\n   </g>\n   <g id=\"text_30\">\n    <!-- 5.10e+01 -->\n    <g style=\"fill:#800080;\" transform=\"translate(503.152188 600.676539)rotate(-90)scale(0.1 -0.1)\">\n     <use xlink:href=\"#DejaVuSans-Bold-35\"/>\n     <use x=\"69.580078\" xlink:href=\"#DejaVuSans-Bold-2e\"/>\n     <use x=\"107.568359\" xlink:href=\"#DejaVuSans-Bold-31\"/>\n     <use x=\"177.148438\" xlink:href=\"#DejaVuSans-Bold-30\"/>\n     <use x=\"246.728516\" xlink:href=\"#DejaVuSans-Bold-65\"/>\n     <use x=\"314.550781\" xlink:href=\"#DejaVuSans-Bold-2b\"/>\n     <use x=\"398.339844\" xlink:href=\"#DejaVuSans-Bold-30\"/>\n     <use x=\"467.919922\" xlink:href=\"#DejaVuSans-Bold-31\"/>\n    </g>\n   </g>\n   <g id=\"text_31\">\n    <!-- 2.00e+00 -->\n    <g style=\"fill:#800080;\" transform=\"translate(538.027188 600.676562)rotate(-90)scale(0.1 -0.1)\">\n     <use xlink:href=\"#DejaVuSans-Bold-32\"/>\n     <use x=\"69.580078\" xlink:href=\"#DejaVuSans-Bold-2e\"/>\n     <use x=\"107.568359\" xlink:href=\"#DejaVuSans-Bold-30\"/>\n     <use x=\"177.148438\" xlink:href=\"#DejaVuSans-Bold-30\"/>\n     <use x=\"246.728516\" xlink:href=\"#DejaVuSans-Bold-65\"/>\n     <use x=\"314.550781\" xlink:href=\"#DejaVuSans-Bold-2b\"/>\n     <use x=\"398.339844\" xlink:href=\"#DejaVuSans-Bold-30\"/>\n     <use x=\"467.919922\" xlink:href=\"#DejaVuSans-Bold-30\"/>\n    </g>\n   </g>\n   <g id=\"text_32\">\n    <g id=\"patch_20\">\n     <path d=\"M 399.6475 124.500125 \nL 559.103125 124.500125 \nQ 563.303125 124.500125 563.303125 120.300125 \nL 563.303125 75.396875 \nQ 563.303125 71.196875 559.103125 71.196875 \nL 399.6475 71.196875 \nQ 395.4475 71.196875 395.4475 75.396875 \nL 395.4475 120.300125 \nQ 395.4475 124.500125 399.6475 124.500125 \nz\n\" style=\"fill:#f5deb3;opacity:0.5;stroke:#000000;stroke-linejoin:miter;\"/>\n    </g>\n    <!-- Excluded: -->\n    <g transform=\"translate(399.6475 86.034688)scale(0.14 -0.14)\">\n     <defs>\n      <path d=\"M 628 4666 \nL 3578 4666 \nL 3578 4134 \nL 1259 4134 \nL 1259 2753 \nL 3481 2753 \nL 3481 2222 \nL 1259 2222 \nL 1259 531 \nL 3634 531 \nL 3634 0 \nL 628 0 \nL 628 4666 \nz\n\" id=\"DejaVuSans-45\" transform=\"scale(0.015625)\"/>\n      <path d=\"M 3513 3500 \nL 2247 1797 \nL 3578 0 \nL 2900 0 \nL 1881 1375 \nL 863 0 \nL 184 0 \nL 1544 1831 \nL 300 3500 \nL 978 3500 \nL 1906 2253 \nL 2834 3500 \nL 3513 3500 \nz\n\" id=\"DejaVuSans-78\" transform=\"scale(0.015625)\"/>\n      <path d=\"M 603 4863 \nL 1178 4863 \nL 1178 0 \nL 603 0 \nL 603 4863 \nz\n\" id=\"DejaVuSans-6c\" transform=\"scale(0.015625)\"/>\n      <path d=\"M 750 794 \nL 1409 794 \nL 1409 0 \nL 750 0 \nL 750 794 \nz\nM 750 3309 \nL 1409 3309 \nL 1409 2516 \nL 750 2516 \nL 750 3309 \nz\n\" id=\"DejaVuSans-3a\" transform=\"scale(0.015625)\"/>\n     </defs>\n     <use xlink:href=\"#DejaVuSans-45\"/>\n     <use x=\"63.183594\" xlink:href=\"#DejaVuSans-78\"/>\n     <use x=\"120.613281\" xlink:href=\"#DejaVuSans-63\"/>\n     <use x=\"175.59375\" xlink:href=\"#DejaVuSans-6c\"/>\n     <use x=\"203.376953\" xlink:href=\"#DejaVuSans-75\"/>\n     <use x=\"266.755859\" xlink:href=\"#DejaVuSans-64\"/>\n     <use x=\"330.232422\" xlink:href=\"#DejaVuSans-65\"/>\n     <use x=\"391.755859\" xlink:href=\"#DejaVuSans-64\"/>\n     <use x=\"455.232422\" xlink:href=\"#DejaVuSans-3a\"/>\n    </g>\n    <!-- Distance: 2147483647 -->\n    <g transform=\"translate(399.6475 101.711625)scale(0.14 -0.14)\">\n     <defs>\n      <path d=\"M 1259 4147 \nL 1259 519 \nL 2022 519 \nQ 2988 519 3436 956 \nQ 3884 1394 3884 2338 \nQ 3884 3275 3436 3711 \nQ 2988 4147 2022 4147 \nL 1259 4147 \nz\nM 628 4666 \nL 1925 4666 \nQ 3281 4666 3915 4102 \nQ 4550 3538 4550 2338 \nQ 4550 1131 3912 565 \nQ 3275 0 1925 0 \nL 628 0 \nL 628 4666 \nz\n\" id=\"DejaVuSans-44\" transform=\"scale(0.015625)\"/>\n      <path id=\"DejaVuSans-20\" transform=\"scale(0.015625)\"/>\n      <path d=\"M 525 4666 \nL 3525 4666 \nL 3525 4397 \nL 1831 0 \nL 1172 0 \nL 2766 4134 \nL 525 4134 \nL 525 4666 \nz\n\" id=\"DejaVuSans-37\" transform=\"scale(0.015625)\"/>\n      <path d=\"M 2597 2516 \nQ 3050 2419 3304 2112 \nQ 3559 1806 3559 1356 \nQ 3559 666 3084 287 \nQ 2609 -91 1734 -91 \nQ 1441 -91 1130 -33 \nQ 819 25 488 141 \nL 488 750 \nQ 750 597 1062 519 \nQ 1375 441 1716 441 \nQ 2309 441 2620 675 \nQ 2931 909 2931 1356 \nQ 2931 1769 2642 2001 \nQ 2353 2234 1838 2234 \nL 1294 2234 \nL 1294 2753 \nL 1863 2753 \nQ 2328 2753 2575 2939 \nQ 2822 3125 2822 3475 \nQ 2822 3834 2567 4026 \nQ 2313 4219 1838 4219 \nQ 1578 4219 1281 4162 \nQ 984 4106 628 3988 \nL 628 4550 \nQ 988 4650 1302 4700 \nQ 1616 4750 1894 4750 \nQ 2613 4750 3031 4423 \nQ 3450 4097 3450 3541 \nQ 3450 3153 3228 2886 \nQ 3006 2619 2597 2516 \nz\n\" id=\"DejaVuSans-33\" transform=\"scale(0.015625)\"/>\n     </defs>\n     <use xlink:href=\"#DejaVuSans-44\"/>\n     <use x=\"77.001953\" xlink:href=\"#DejaVuSans-69\"/>\n     <use x=\"104.785156\" xlink:href=\"#DejaVuSans-73\"/>\n     <use x=\"156.884766\" xlink:href=\"#DejaVuSans-74\"/>\n     <use x=\"196.09375\" xlink:href=\"#DejaVuSans-61\"/>\n     <use x=\"257.373047\" xlink:href=\"#DejaVuSans-6e\"/>\n     <use x=\"320.751953\" xlink:href=\"#DejaVuSans-63\"/>\n     <use x=\"375.732422\" xlink:href=\"#DejaVuSans-65\"/>\n     <use x=\"437.255859\" xlink:href=\"#DejaVuSans-3a\"/>\n     <use x=\"470.947266\" xlink:href=\"#DejaVuSans-20\"/>\n     <use x=\"502.734375\" xlink:href=\"#DejaVuSans-32\"/>\n     <use x=\"566.357422\" xlink:href=\"#DejaVuSans-31\"/>\n     <use x=\"629.980469\" xlink:href=\"#DejaVuSans-34\"/>\n     <use x=\"693.603516\" xlink:href=\"#DejaVuSans-37\"/>\n     <use x=\"757.226562\" xlink:href=\"#DejaVuSans-34\"/>\n     <use x=\"820.849609\" xlink:href=\"#DejaVuSans-38\"/>\n     <use x=\"884.472656\" xlink:href=\"#DejaVuSans-33\"/>\n     <use x=\"948.095703\" xlink:href=\"#DejaVuSans-36\"/>\n     <use x=\"1011.71875\" xlink:href=\"#DejaVuSans-34\"/>\n     <use x=\"1075.341797\" xlink:href=\"#DejaVuSans-37\"/>\n    </g>\n    <!-- Count: 911513507 -->\n    <g transform=\"translate(399.6475 117.388563)scale(0.14 -0.14)\">\n     <defs>\n      <path d=\"M 4122 4306 \nL 4122 3641 \nQ 3803 3938 3442 4084 \nQ 3081 4231 2675 4231 \nQ 1875 4231 1450 3742 \nQ 1025 3253 1025 2328 \nQ 1025 1406 1450 917 \nQ 1875 428 2675 428 \nQ 3081 428 3442 575 \nQ 3803 722 4122 1019 \nL 4122 359 \nQ 3791 134 3420 21 \nQ 3050 -91 2638 -91 \nQ 1578 -91 968 557 \nQ 359 1206 359 2328 \nQ 359 3453 968 4101 \nQ 1578 4750 2638 4750 \nQ 3056 4750 3426 4639 \nQ 3797 4528 4122 4306 \nz\n\" id=\"DejaVuSans-43\" transform=\"scale(0.015625)\"/>\n      <path d=\"M 691 4666 \nL 3169 4666 \nL 3169 4134 \nL 1269 4134 \nL 1269 2991 \nQ 1406 3038 1543 3061 \nQ 1681 3084 1819 3084 \nQ 2600 3084 3056 2656 \nQ 3513 2228 3513 1497 \nQ 3513 744 3044 326 \nQ 2575 -91 1722 -91 \nQ 1428 -91 1123 -41 \nQ 819 9 494 109 \nL 494 744 \nQ 775 591 1075 516 \nQ 1375 441 1709 441 \nQ 2250 441 2565 725 \nQ 2881 1009 2881 1497 \nQ 2881 1984 2565 2268 \nQ 2250 2553 1709 2553 \nQ 1456 2553 1204 2497 \nQ 953 2441 691 2322 \nL 691 4666 \nz\n\" id=\"DejaVuSans-35\" transform=\"scale(0.015625)\"/>\n     </defs>\n     <use xlink:href=\"#DejaVuSans-43\"/>\n     <use x=\"69.824219\" xlink:href=\"#DejaVuSans-6f\"/>\n     <use x=\"131.005859\" xlink:href=\"#DejaVuSans-75\"/>\n     <use x=\"194.384766\" xlink:href=\"#DejaVuSans-6e\"/>\n     <use x=\"257.763672\" xlink:href=\"#DejaVuSans-74\"/>\n     <use x=\"296.972656\" xlink:href=\"#DejaVuSans-3a\"/>\n     <use x=\"330.664062\" xlink:href=\"#DejaVuSans-20\"/>\n     <use x=\"362.451172\" xlink:href=\"#DejaVuSans-39\"/>\n     <use x=\"426.074219\" xlink:href=\"#DejaVuSans-31\"/>\n     <use x=\"489.697266\" xlink:href=\"#DejaVuSans-31\"/>\n     <use x=\"553.320312\" xlink:href=\"#DejaVuSans-35\"/>\n     <use x=\"616.943359\" xlink:href=\"#DejaVuSans-31\"/>\n     <use x=\"680.566406\" xlink:href=\"#DejaVuSans-33\"/>\n     <use x=\"744.189453\" xlink:href=\"#DejaVuSans-35\"/>\n     <use x=\"807.8125\" xlink:href=\"#DejaVuSans-30\"/>\n     <use x=\"871.435547\" xlink:href=\"#DejaVuSans-37\"/>\n    </g>\n   </g>\n   <g id=\"text_33\">\n    <!-- Path distance distribution -->\n    <g transform=\"translate(202.21625 22.396875)scale(0.2 -0.2)\">\n     <defs>\n      <path d=\"M 1259 4147 \nL 1259 2394 \nL 2053 2394 \nQ 2494 2394 2734 2622 \nQ 2975 2850 2975 3272 \nQ 2975 3691 2734 3919 \nQ 2494 4147 2053 4147 \nL 1259 4147 \nz\nM 628 4666 \nL 2053 4666 \nQ 2838 4666 3239 4311 \nQ 3641 3956 3641 3272 \nQ 3641 2581 3239 2228 \nQ 2838 1875 2053 1875 \nL 1259 1875 \nL 1259 0 \nL 628 0 \nL 628 4666 \nz\n\" id=\"DejaVuSans-50\" transform=\"scale(0.015625)\"/>\n      <path d=\"M 3513 2113 \nL 3513 0 \nL 2938 0 \nL 2938 2094 \nQ 2938 2591 2744 2837 \nQ 2550 3084 2163 3084 \nQ 1697 3084 1428 2787 \nQ 1159 2491 1159 1978 \nL 1159 0 \nL 581 0 \nL 581 4863 \nL 1159 4863 \nL 1159 2956 \nQ 1366 3272 1645 3428 \nQ 1925 3584 2291 3584 \nQ 2894 3584 3203 3211 \nQ 3513 2838 3513 2113 \nz\n\" id=\"DejaVuSans-68\" transform=\"scale(0.015625)\"/>\n      <path d=\"M 2631 2963 \nQ 2534 3019 2420 3045 \nQ 2306 3072 2169 3072 \nQ 1681 3072 1420 2755 \nQ 1159 2438 1159 1844 \nL 1159 0 \nL 581 0 \nL 581 3500 \nL 1159 3500 \nL 1159 2956 \nQ 1341 3275 1631 3429 \nQ 1922 3584 2338 3584 \nQ 2397 3584 2469 3576 \nQ 2541 3569 2628 3553 \nL 2631 2963 \nz\n\" id=\"DejaVuSans-72\" transform=\"scale(0.015625)\"/>\n      <path d=\"M 3116 1747 \nQ 3116 2381 2855 2742 \nQ 2594 3103 2138 3103 \nQ 1681 3103 1420 2742 \nQ 1159 2381 1159 1747 \nQ 1159 1113 1420 752 \nQ 1681 391 2138 391 \nQ 2594 391 2855 752 \nQ 3116 1113 3116 1747 \nz\nM 1159 2969 \nQ 1341 3281 1617 3432 \nQ 1894 3584 2278 3584 \nQ 2916 3584 3314 3078 \nQ 3713 2572 3713 1747 \nQ 3713 922 3314 415 \nQ 2916 -91 2278 -91 \nQ 1894 -91 1617 61 \nQ 1341 213 1159 525 \nL 1159 0 \nL 581 0 \nL 581 4863 \nL 1159 4863 \nL 1159 2969 \nz\n\" id=\"DejaVuSans-62\" transform=\"scale(0.015625)\"/>\n     </defs>\n     <use xlink:href=\"#DejaVuSans-50\"/>\n     <use x=\"55.802734\" xlink:href=\"#DejaVuSans-61\"/>\n     <use x=\"117.082031\" xlink:href=\"#DejaVuSans-74\"/>\n     <use x=\"156.291016\" xlink:href=\"#DejaVuSans-68\"/>\n     <use x=\"219.669922\" xlink:href=\"#DejaVuSans-20\"/>\n     <use x=\"251.457031\" xlink:href=\"#DejaVuSans-64\"/>\n     <use x=\"314.933594\" xlink:href=\"#DejaVuSans-69\"/>\n     <use x=\"342.716797\" xlink:href=\"#DejaVuSans-73\"/>\n     <use x=\"394.816406\" xlink:href=\"#DejaVuSans-74\"/>\n     <use x=\"434.025391\" xlink:href=\"#DejaVuSans-61\"/>\n     <use x=\"495.304688\" xlink:href=\"#DejaVuSans-6e\"/>\n     <use x=\"558.683594\" xlink:href=\"#DejaVuSans-63\"/>\n     <use x=\"613.664062\" xlink:href=\"#DejaVuSans-65\"/>\n     <use x=\"675.1875\" xlink:href=\"#DejaVuSans-20\"/>\n     <use x=\"706.974609\" xlink:href=\"#DejaVuSans-64\"/>\n     <use x=\"770.451172\" xlink:href=\"#DejaVuSans-69\"/>\n     <use x=\"798.234375\" xlink:href=\"#DejaVuSans-73\"/>\n     <use x=\"850.333984\" xlink:href=\"#DejaVuSans-74\"/>\n     <use x=\"889.542969\" xlink:href=\"#DejaVuSans-72\"/>\n     <use x=\"930.65625\" xlink:href=\"#DejaVuSans-69\"/>\n     <use x=\"958.439453\" xlink:href=\"#DejaVuSans-62\"/>\n     <use x=\"1021.916016\" xlink:href=\"#DejaVuSans-75\"/>\n     <use x=\"1085.294922\" xlink:href=\"#DejaVuSans-74\"/>\n     <use x=\"1124.503906\" xlink:href=\"#DejaVuSans-69\"/>\n     <use x=\"1152.287109\" xlink:href=\"#DejaVuSans-6f\"/>\n     <use x=\"1213.46875\" xlink:href=\"#DejaVuSans-6e\"/>\n    </g>\n   </g>\n  </g>\n </g>\n <defs>\n  <clipPath id=\"pd03a9d0887\">\n   <rect height=\"576\" width=\"558\" x=\"50.8975\" y=\"27.396875\"/>\n  </clipPath>\n </defs>\n</svg>\n",
      "image/png": "[encoded data removed]"
     },
     "metadata": {}
    }
   ],
   "metadata": {}
  },
  {
   "cell_type": "markdown",
   "source": [
    "the plot above kinda corroborates the negative assortativity coefficient I found before, as we don't have a long tail (i.e. higher distancees with lower counts), which is instead a sign of an assortative network."
   ],
   "metadata": {}
  },
  {
   "cell_type": "markdown",
   "source": [
    "# Community detection"
   ],
   "metadata": {}
  },
  {
   "cell_type": "code",
   "execution_count": 192,
   "source": [
    "'''\n",
    "Nestest Stochastic block model\n",
    "'''\n",
    "state = gt.inference.minimize_blockmodel_dl(g)"
   ],
   "outputs": [],
   "metadata": {}
  },
  {
   "cell_type": "code",
   "execution_count": 194,
   "source": [
    "state.draw(output='../images/NBS_full.pdf')"
   ],
   "outputs": [
    {
     "output_type": "execute_result",
     "data": {
      "text/plain": [
       "<Graph object, directed, with 57228 vertices and 1354579 edges, at 0x7f65542be610>"
      ]
     },
     "metadata": {},
     "execution_count": 194
    }
   ],
   "metadata": {}
  },
  {
   "cell_type": "code",
   "execution_count": 193,
   "source": [
    "state"
   ],
   "outputs": [
    {
     "output_type": "execute_result",
     "data": {
      "text/plain": [
       "<BlockState object with 57228 blocks (648 nonempty), degree-corrected, for graph <Graph object, directed, with 57228 vertices and 1354579 edges, at 0x7f65542be610>, at 0x7f6523e7c8b0>"
      ]
     },
     "metadata": {},
     "execution_count": 193
    }
   ],
   "metadata": {}
  },
  {
   "cell_type": "markdown",
   "source": [
    "# Visualise the graph"
   ],
   "metadata": {}
  },
  {
   "cell_type": "code",
   "execution_count": 52,
   "source": [
    "# g = load_graph(\"price.xml.gz\")\n",
    "# age = g.vertex_properties[\"age\"]\n",
    "\n",
    "pos = sfdp_layout(g)\n",
    "graph_draw(g, pos, output_size=(1000, 1000), vertex_color=[1,1,1,0], \n",
    "           vertex_size=1, edge_pen_width=1.2,\n",
    "           vcmap=matplotlib.cm.gist_heat_r, output=\"graph_full.pdf\")"
   ],
   "outputs": [],
   "metadata": {}
  },
  {
   "cell_type": "code",
   "execution_count": null,
   "source": [
    "# g_test = price_network(3000)\n",
    "# pos = sfdp_layout(g_test)\n",
    "graph_draw(g_test, pos=pos,output_size=(1000, 1000), vertex_color=[1,1,1,111], \n",
    "           vertex_size=1, edge_pen_width=1.2,output='graph_test.pdf')"
   ],
   "outputs": [],
   "metadata": {}
  }
 ],
 "metadata": {
  "interpreter": {
   "hash": "4322adbfac65b51f610ee528ef658fd63511a1bc76f760322815589b892a81f5"
  },
  "kernelspec": {
   "name": "python3",
   "display_name": "Python 3.9.6 64-bit ('base': conda)"
  },
  "language_info": {
   "codemirror_mode": {
    "name": "ipython",
    "version": 3
   },
   "file_extension": ".py",
   "mimetype": "text/x-python",
   "name": "python",
   "nbconvert_exporter": "python",
   "pygments_lexer": "ipython3",
   "version": "3.9.6"
  }
 },
 "nbformat": 4,
 "nbformat_minor": 4
}