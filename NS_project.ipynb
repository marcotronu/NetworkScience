{
 "cells": [
  {
   "cell_type": "code",
   "execution_count": 2,
   "source": [
    "from utilities.preprocessing import *\n",
    "import seaborn as sns\n",
    "import os\n",
    "import matplotlib.pyplot as plt\n",
    "import json\n",
    "import numpy as np\n",
    "import pandas as pd\n",
    "import plotly\n",
    "import plotly.graph_objects as go\n",
    "import networkx as nx\n",
    "import igraph as ig\n",
    "import numba\n",
    "import itertools\n",
    "from console_progressbar import ProgressBar\n"
   ],
   "outputs": [],
   "metadata": {}
  },
  {
   "cell_type": "code",
   "execution_count": 3,
   "source": [
    "path = '../trending_yt_videos/'\n",
    "\n",
    "'Import json'\n",
    "with open(path + 'US_category_id.json') as f:\n",
    "  videos = json.load(f)\n",
    "\n",
    "'Save all the categories in dict[id]=category'\n",
    "categories = {}\n",
    "for cat in videos['items']:\n",
    "    # print(cat)\n",
    "    this_cat = cat['snippet']['title']\n",
    "    id = cat['id']\n",
    "    categories[id] = this_cat\n"
   ],
   "outputs": [],
   "metadata": {}
  },
  {
   "cell_type": "code",
   "execution_count": 4,
   "source": [
    "len(categories.keys())"
   ],
   "outputs": [
    {
     "output_type": "execute_result",
     "data": {
      "text/plain": [
       "32"
      ]
     },
     "metadata": {},
     "execution_count": 4
    }
   ],
   "metadata": {}
  },
  {
   "cell_type": "code",
   "execution_count": 5,
   "source": [
    "'Import video dataset:'\n",
    "\n",
    "video_stats = pd.read_csv(path + 'USvideos.csv')\n",
    "video_stats = video_stats.replace({'likes':0,'dislikes':0,'comment_count':0},np.nan)\n",
    "video_stats.dropna(subset=['likes','dislikes','comment_count'],inplace=True)"
   ],
   "outputs": [],
   "metadata": {}
  },
  {
   "cell_type": "markdown",
   "source": [
    "# EDA"
   ],
   "metadata": {}
  },
  {
   "cell_type": "code",
   "execution_count": 6,
   "source": [
    "video_stats.head(3)"
   ],
   "outputs": [
    {
     "output_type": "execute_result",
     "data": {
      "text/plain": [
       "      video_id trending_date  \\\n",
       "0  2kyS6SvSYSE      17.14.11   \n",
       "1  1ZAPwfrtAFY      17.14.11   \n",
       "2  5qpjK5DgCt4      17.14.11   \n",
       "\n",
       "                                               title    channel_title  \\\n",
       "0                 WE WANT TO TALK ABOUT OUR MARRIAGE     CaseyNeistat   \n",
       "1  The Trump Presidency: Last Week Tonight with J...  LastWeekTonight   \n",
       "2  Racist Superman | Rudy Mancuso, King Bach & Le...     Rudy Mancuso   \n",
       "\n",
       "   category_id              publish_time  \\\n",
       "0           22  2017-11-13T17:13:01.000Z   \n",
       "1           24  2017-11-13T07:30:00.000Z   \n",
       "2           23  2017-11-12T19:05:24.000Z   \n",
       "\n",
       "                                                tags    views     likes  \\\n",
       "0                                    SHANtell martin   748374   57527.0   \n",
       "1  last week tonight trump presidency|\"last week ...  2418783   97185.0   \n",
       "2  racist superman|\"rudy\"|\"mancuso\"|\"king\"|\"bach\"...  3191434  146033.0   \n",
       "\n",
       "   dislikes  comment_count                                  thumbnail_link  \\\n",
       "0    2966.0        15954.0  https://i.ytimg.com/vi/2kyS6SvSYSE/default.jpg   \n",
       "1    6146.0        12703.0  https://i.ytimg.com/vi/1ZAPwfrtAFY/default.jpg   \n",
       "2    5339.0         8181.0  https://i.ytimg.com/vi/5qpjK5DgCt4/default.jpg   \n",
       "\n",
       "   comments_disabled  ratings_disabled  video_error_or_removed  \\\n",
       "0              False             False                   False   \n",
       "1              False             False                   False   \n",
       "2              False             False                   False   \n",
       "\n",
       "                                         description  \n",
       "0  SHANTELL'S CHANNEL - https://www.youtube.com/s...  \n",
       "1  One year after the presidential election, John...  \n",
       "2  WATCH MY PREVIOUS VIDEO ▶ \\n\\nSUBSCRIBE ► http...  "
      ],
      "text/html": [
       "<div>\n",
       "<style scoped>\n",
       "    .dataframe tbody tr th:only-of-type {\n",
       "        vertical-align: middle;\n",
       "    }\n",
       "\n",
       "    .dataframe tbody tr th {\n",
       "        vertical-align: top;\n",
       "    }\n",
       "\n",
       "    .dataframe thead th {\n",
       "        text-align: right;\n",
       "    }\n",
       "</style>\n",
       "<table border=\"1\" class=\"dataframe\">\n",
       "  <thead>\n",
       "    <tr style=\"text-align: right;\">\n",
       "      <th></th>\n",
       "      <th>video_id</th>\n",
       "      <th>trending_date</th>\n",
       "      <th>title</th>\n",
       "      <th>channel_title</th>\n",
       "      <th>category_id</th>\n",
       "      <th>publish_time</th>\n",
       "      <th>tags</th>\n",
       "      <th>views</th>\n",
       "      <th>likes</th>\n",
       "      <th>dislikes</th>\n",
       "      <th>comment_count</th>\n",
       "      <th>thumbnail_link</th>\n",
       "      <th>comments_disabled</th>\n",
       "      <th>ratings_disabled</th>\n",
       "      <th>video_error_or_removed</th>\n",
       "      <th>description</th>\n",
       "    </tr>\n",
       "  </thead>\n",
       "  <tbody>\n",
       "    <tr>\n",
       "      <th>0</th>\n",
       "      <td>2kyS6SvSYSE</td>\n",
       "      <td>17.14.11</td>\n",
       "      <td>WE WANT TO TALK ABOUT OUR MARRIAGE</td>\n",
       "      <td>CaseyNeistat</td>\n",
       "      <td>22</td>\n",
       "      <td>2017-11-13T17:13:01.000Z</td>\n",
       "      <td>SHANtell martin</td>\n",
       "      <td>748374</td>\n",
       "      <td>57527.0</td>\n",
       "      <td>2966.0</td>\n",
       "      <td>15954.0</td>\n",
       "      <td>https://i.ytimg.com/vi/2kyS6SvSYSE/default.jpg</td>\n",
       "      <td>False</td>\n",
       "      <td>False</td>\n",
       "      <td>False</td>\n",
       "      <td>SHANTELL'S CHANNEL - https://www.youtube.com/s...</td>\n",
       "    </tr>\n",
       "    <tr>\n",
       "      <th>1</th>\n",
       "      <td>1ZAPwfrtAFY</td>\n",
       "      <td>17.14.11</td>\n",
       "      <td>The Trump Presidency: Last Week Tonight with J...</td>\n",
       "      <td>LastWeekTonight</td>\n",
       "      <td>24</td>\n",
       "      <td>2017-11-13T07:30:00.000Z</td>\n",
       "      <td>last week tonight trump presidency|\"last week ...</td>\n",
       "      <td>2418783</td>\n",
       "      <td>97185.0</td>\n",
       "      <td>6146.0</td>\n",
       "      <td>12703.0</td>\n",
       "      <td>https://i.ytimg.com/vi/1ZAPwfrtAFY/default.jpg</td>\n",
       "      <td>False</td>\n",
       "      <td>False</td>\n",
       "      <td>False</td>\n",
       "      <td>One year after the presidential election, John...</td>\n",
       "    </tr>\n",
       "    <tr>\n",
       "      <th>2</th>\n",
       "      <td>5qpjK5DgCt4</td>\n",
       "      <td>17.14.11</td>\n",
       "      <td>Racist Superman | Rudy Mancuso, King Bach &amp; Le...</td>\n",
       "      <td>Rudy Mancuso</td>\n",
       "      <td>23</td>\n",
       "      <td>2017-11-12T19:05:24.000Z</td>\n",
       "      <td>racist superman|\"rudy\"|\"mancuso\"|\"king\"|\"bach\"...</td>\n",
       "      <td>3191434</td>\n",
       "      <td>146033.0</td>\n",
       "      <td>5339.0</td>\n",
       "      <td>8181.0</td>\n",
       "      <td>https://i.ytimg.com/vi/5qpjK5DgCt4/default.jpg</td>\n",
       "      <td>False</td>\n",
       "      <td>False</td>\n",
       "      <td>False</td>\n",
       "      <td>WATCH MY PREVIOUS VIDEO ▶ \\n\\nSUBSCRIBE ► http...</td>\n",
       "    </tr>\n",
       "  </tbody>\n",
       "</table>\n",
       "</div>"
      ]
     },
     "metadata": {},
     "execution_count": 6
    }
   ],
   "metadata": {}
  },
  {
   "cell_type": "code",
   "execution_count": 277,
   "source": [
    "plt.style.use('dark_background')\n",
    "likes = video_stats.likes#[np.asarray(video_stats.likes != 0)]\n",
    "dislikes = video_stats.dislikes#[np.asarray(video_stats.dislikes != 0)]\n",
    "plt.hist(np.log(likes),color = 'green',alpha=0.4,label='likes')\n",
    "plt.hist(np.log(dislikes),color = 'red',alpha=0.4,label='dislikes')\n",
    "plt.title('Log-distribution of the likes')\n",
    "plt.legend()\n",
    "fig.show()"
   ],
   "outputs": [
    {
     "output_type": "stream",
     "name": "stderr",
     "text": [
      "/tmp/ipykernel_17104/1396074019.py:8: UserWarning: Matplotlib is currently using module://matplotlib_inline.backend_inline, which is a non-GUI backend, so cannot show the figure.\n",
      "  fig.show()\n"
     ]
    },
    {
     "output_type": "display_data",
     "data": {
      "text/plain": [
       "<Figure size 576x396 with 1 Axes>"
      ],
      "image/png": "[encoded data removed]"
     },
     "metadata": {}
    }
   ],
   "metadata": {}
  },
  {
   "cell_type": "code",
   "execution_count": 278,
   "source": [
    "plt.hist(np.log(dislikes/likes),color='blue')\n",
    "plt.title('Log distribution of dislikes to likes ratio')"
   ],
   "outputs": [
    {
     "output_type": "execute_result",
     "data": {
      "text/plain": [
       "Text(0.5, 1.0, 'Log distribution of dislikes to likes ratio')"
      ]
     },
     "metadata": {},
     "execution_count": 278
    },
    {
     "output_type": "display_data",
     "data": {
      "text/plain": [
       "<Figure size 576x396 with 1 Axes>"
      ],
      "image/png": "[encoded data removed]"
     },
     "metadata": {}
    }
   ],
   "metadata": {}
  },
  {
   "cell_type": "code",
   "execution_count": 279,
   "source": [
    "views = video_stats.views[video_stats.views != 0]\n",
    "fig, ax = plt.subplots(1,1, figsize = (10,4))\n",
    "ax.hist(np.log10(dislikes/views),color = 'red',label = 'dislikes',alpha=0.6)\n",
    "# ax.set_xscale('log')\n",
    "ax.hist(np.log10(likes/views),color = 'green', label = 'likes',alpha=0.6)\n",
    "# ax.set_xticks(x_ticks)\n",
    "# ax.set_xticklabels([f'10^({x})' for x in x_ticks])\n",
    "plt.legend()\n",
    "plt.suptitle('Log10 distribution of likes & dislikes to views ratios')"
   ],
   "outputs": [
    {
     "output_type": "execute_result",
     "data": {
      "text/plain": [
       "Text(0.5, 0.98, 'Log10 distribution of likes & dislikes to views ratios')"
      ]
     },
     "metadata": {},
     "execution_count": 279
    },
    {
     "output_type": "display_data",
     "data": {
      "text/plain": [
       "<Figure size 720x288 with 1 Axes>"
      ],
      "image/png": "[encoded data removed]"
     },
     "metadata": {}
    }
   ],
   "metadata": {}
  },
  {
   "cell_type": "code",
   "execution_count": 280,
   "source": [
    "fig, ax = plt.subplots(1,1, figsize = (10,4))\n",
    "ax.hist(np.log10((likes/dislikes)/(views)))\n",
    "# ax.set_xscale('log')\n",
    "# x_ticks = [-4,-3,-2,-1,0]\n",
    "# ax.set_xticks(x_ticks)\n",
    "# ax.set_xticklabels([f'10^({x})' for x in x_ticks])\n",
    "plt.title('Log10 distribution of (likes/dislikes)/views')"
   ],
   "outputs": [
    {
     "output_type": "execute_result",
     "data": {
      "text/plain": [
       "Text(0.5, 1.0, 'Log10 distribution of (likes/dislikes)/views')"
      ]
     },
     "metadata": {},
     "execution_count": 280
    },
    {
     "output_type": "display_data",
     "data": {
      "text/plain": [
       "<Figure size 720x288 with 1 Axes>"
      ],
      "image/png": "[encoded data removed]"
     },
     "metadata": {}
    }
   ],
   "metadata": {}
  },
  {
   "cell_type": "code",
   "execution_count": 281,
   "source": [
    "set(video_stats.category_id)"
   ],
   "outputs": [
    {
     "output_type": "execute_result",
     "data": {
      "text/plain": [
       "{1, 2, 10, 15, 17, 19, 20, 22, 23, 24, 25, 26, 27, 28, 29, 43}"
      ]
     },
     "metadata": {},
     "execution_count": 281
    }
   ],
   "metadata": {}
  },
  {
   "cell_type": "code",
   "execution_count": 282,
   "source": [
    "new_col = [categories[f'{id}'] for id in video_stats.category_id]\n",
    "video_stats['category'] = new_col"
   ],
   "outputs": [],
   "metadata": {}
  },
  {
   "cell_type": "code",
   "execution_count": 283,
   "source": [
    "video_stats.head(5)"
   ],
   "outputs": [
    {
     "output_type": "execute_result",
     "data": {
      "text/plain": [
       "      video_id trending_date  \\\n",
       "0  2kyS6SvSYSE      17.14.11   \n",
       "1  1ZAPwfrtAFY      17.14.11   \n",
       "2  5qpjK5DgCt4      17.14.11   \n",
       "3  puqaWrEC7tY      17.14.11   \n",
       "4  d380meD0W0M      17.14.11   \n",
       "\n",
       "                                               title          channel_title  \\\n",
       "0                 WE WANT TO TALK ABOUT OUR MARRIAGE           CaseyNeistat   \n",
       "1  The Trump Presidency: Last Week Tonight with J...        LastWeekTonight   \n",
       "2  Racist Superman | Rudy Mancuso, King Bach & Le...           Rudy Mancuso   \n",
       "3                   Nickelback Lyrics: Real or Fake?  Good Mythical Morning   \n",
       "4                           I Dare You: GOING BALD!?               nigahiga   \n",
       "\n",
       "   category_id              publish_time  \\\n",
       "0           22  2017-11-13T17:13:01.000Z   \n",
       "1           24  2017-11-13T07:30:00.000Z   \n",
       "2           23  2017-11-12T19:05:24.000Z   \n",
       "3           24  2017-11-13T11:00:04.000Z   \n",
       "4           24  2017-11-12T18:01:41.000Z   \n",
       "\n",
       "                                                tags    views     likes  \\\n",
       "0                                    SHANtell martin   748374   57527.0   \n",
       "1  last week tonight trump presidency|\"last week ...  2418783   97185.0   \n",
       "2  racist superman|\"rudy\"|\"mancuso\"|\"king\"|\"bach\"...  3191434  146033.0   \n",
       "3  rhett and link|\"gmm\"|\"good mythical morning\"|\"...   343168   10172.0   \n",
       "4  ryan|\"higa\"|\"higatv\"|\"nigahiga\"|\"i dare you\"|\"...  2095731  132235.0   \n",
       "\n",
       "   dislikes  comment_count                                  thumbnail_link  \\\n",
       "0    2966.0        15954.0  https://i.ytimg.com/vi/2kyS6SvSYSE/default.jpg   \n",
       "1    6146.0        12703.0  https://i.ytimg.com/vi/1ZAPwfrtAFY/default.jpg   \n",
       "2    5339.0         8181.0  https://i.ytimg.com/vi/5qpjK5DgCt4/default.jpg   \n",
       "3     666.0         2146.0  https://i.ytimg.com/vi/puqaWrEC7tY/default.jpg   \n",
       "4    1989.0        17518.0  https://i.ytimg.com/vi/d380meD0W0M/default.jpg   \n",
       "\n",
       "   comments_disabled  ratings_disabled  video_error_or_removed  \\\n",
       "0              False             False                   False   \n",
       "1              False             False                   False   \n",
       "2              False             False                   False   \n",
       "3              False             False                   False   \n",
       "4              False             False                   False   \n",
       "\n",
       "                                         description        category  \n",
       "0  SHANTELL'S CHANNEL - https://www.youtube.com/s...  People & Blogs  \n",
       "1  One year after the presidential election, John...   Entertainment  \n",
       "2  WATCH MY PREVIOUS VIDEO ▶ \\n\\nSUBSCRIBE ► http...          Comedy  \n",
       "3  Today we find out if Link is a Nickelback amat...   Entertainment  \n",
       "4  I know it's been a while since we did this sho...   Entertainment  "
      ],
      "text/html": [
       "<div>\n",
       "<style scoped>\n",
       "    .dataframe tbody tr th:only-of-type {\n",
       "        vertical-align: middle;\n",
       "    }\n",
       "\n",
       "    .dataframe tbody tr th {\n",
       "        vertical-align: top;\n",
       "    }\n",
       "\n",
       "    .dataframe thead th {\n",
       "        text-align: right;\n",
       "    }\n",
       "</style>\n",
       "<table border=\"1\" class=\"dataframe\">\n",
       "  <thead>\n",
       "    <tr style=\"text-align: right;\">\n",
       "      <th></th>\n",
       "      <th>video_id</th>\n",
       "      <th>trending_date</th>\n",
       "      <th>title</th>\n",
       "      <th>channel_title</th>\n",
       "      <th>category_id</th>\n",
       "      <th>publish_time</th>\n",
       "      <th>tags</th>\n",
       "      <th>views</th>\n",
       "      <th>likes</th>\n",
       "      <th>dislikes</th>\n",
       "      <th>comment_count</th>\n",
       "      <th>thumbnail_link</th>\n",
       "      <th>comments_disabled</th>\n",
       "      <th>ratings_disabled</th>\n",
       "      <th>video_error_or_removed</th>\n",
       "      <th>description</th>\n",
       "      <th>category</th>\n",
       "    </tr>\n",
       "  </thead>\n",
       "  <tbody>\n",
       "    <tr>\n",
       "      <th>0</th>\n",
       "      <td>2kyS6SvSYSE</td>\n",
       "      <td>17.14.11</td>\n",
       "      <td>WE WANT TO TALK ABOUT OUR MARRIAGE</td>\n",
       "      <td>CaseyNeistat</td>\n",
       "      <td>22</td>\n",
       "      <td>2017-11-13T17:13:01.000Z</td>\n",
       "      <td>SHANtell martin</td>\n",
       "      <td>748374</td>\n",
       "      <td>57527.0</td>\n",
       "      <td>2966.0</td>\n",
       "      <td>15954.0</td>\n",
       "      <td>https://i.ytimg.com/vi/2kyS6SvSYSE/default.jpg</td>\n",
       "      <td>False</td>\n",
       "      <td>False</td>\n",
       "      <td>False</td>\n",
       "      <td>SHANTELL'S CHANNEL - https://www.youtube.com/s...</td>\n",
       "      <td>People &amp; Blogs</td>\n",
       "    </tr>\n",
       "    <tr>\n",
       "      <th>1</th>\n",
       "      <td>1ZAPwfrtAFY</td>\n",
       "      <td>17.14.11</td>\n",
       "      <td>The Trump Presidency: Last Week Tonight with J...</td>\n",
       "      <td>LastWeekTonight</td>\n",
       "      <td>24</td>\n",
       "      <td>2017-11-13T07:30:00.000Z</td>\n",
       "      <td>last week tonight trump presidency|\"last week ...</td>\n",
       "      <td>2418783</td>\n",
       "      <td>97185.0</td>\n",
       "      <td>6146.0</td>\n",
       "      <td>12703.0</td>\n",
       "      <td>https://i.ytimg.com/vi/1ZAPwfrtAFY/default.jpg</td>\n",
       "      <td>False</td>\n",
       "      <td>False</td>\n",
       "      <td>False</td>\n",
       "      <td>One year after the presidential election, John...</td>\n",
       "      <td>Entertainment</td>\n",
       "    </tr>\n",
       "    <tr>\n",
       "      <th>2</th>\n",
       "      <td>5qpjK5DgCt4</td>\n",
       "      <td>17.14.11</td>\n",
       "      <td>Racist Superman | Rudy Mancuso, King Bach &amp; Le...</td>\n",
       "      <td>Rudy Mancuso</td>\n",
       "      <td>23</td>\n",
       "      <td>2017-11-12T19:05:24.000Z</td>\n",
       "      <td>racist superman|\"rudy\"|\"mancuso\"|\"king\"|\"bach\"...</td>\n",
       "      <td>3191434</td>\n",
       "      <td>146033.0</td>\n",
       "      <td>5339.0</td>\n",
       "      <td>8181.0</td>\n",
       "      <td>https://i.ytimg.com/vi/5qpjK5DgCt4/default.jpg</td>\n",
       "      <td>False</td>\n",
       "      <td>False</td>\n",
       "      <td>False</td>\n",
       "      <td>WATCH MY PREVIOUS VIDEO ▶ \\n\\nSUBSCRIBE ► http...</td>\n",
       "      <td>Comedy</td>\n",
       "    </tr>\n",
       "    <tr>\n",
       "      <th>3</th>\n",
       "      <td>puqaWrEC7tY</td>\n",
       "      <td>17.14.11</td>\n",
       "      <td>Nickelback Lyrics: Real or Fake?</td>\n",
       "      <td>Good Mythical Morning</td>\n",
       "      <td>24</td>\n",
       "      <td>2017-11-13T11:00:04.000Z</td>\n",
       "      <td>rhett and link|\"gmm\"|\"good mythical morning\"|\"...</td>\n",
       "      <td>343168</td>\n",
       "      <td>10172.0</td>\n",
       "      <td>666.0</td>\n",
       "      <td>2146.0</td>\n",
       "      <td>https://i.ytimg.com/vi/puqaWrEC7tY/default.jpg</td>\n",
       "      <td>False</td>\n",
       "      <td>False</td>\n",
       "      <td>False</td>\n",
       "      <td>Today we find out if Link is a Nickelback amat...</td>\n",
       "      <td>Entertainment</td>\n",
       "    </tr>\n",
       "    <tr>\n",
       "      <th>4</th>\n",
       "      <td>d380meD0W0M</td>\n",
       "      <td>17.14.11</td>\n",
       "      <td>I Dare You: GOING BALD!?</td>\n",
       "      <td>nigahiga</td>\n",
       "      <td>24</td>\n",
       "      <td>2017-11-12T18:01:41.000Z</td>\n",
       "      <td>ryan|\"higa\"|\"higatv\"|\"nigahiga\"|\"i dare you\"|\"...</td>\n",
       "      <td>2095731</td>\n",
       "      <td>132235.0</td>\n",
       "      <td>1989.0</td>\n",
       "      <td>17518.0</td>\n",
       "      <td>https://i.ytimg.com/vi/d380meD0W0M/default.jpg</td>\n",
       "      <td>False</td>\n",
       "      <td>False</td>\n",
       "      <td>False</td>\n",
       "      <td>I know it's been a while since we did this sho...</td>\n",
       "      <td>Entertainment</td>\n",
       "    </tr>\n",
       "  </tbody>\n",
       "</table>\n",
       "</div>"
      ]
     },
     "metadata": {},
     "execution_count": 283
    }
   ],
   "metadata": {}
  },
  {
   "cell_type": "code",
   "execution_count": 292,
   "source": [
    "video_stats.tags[3]"
   ],
   "outputs": [
    {
     "output_type": "execute_result",
     "data": {
      "text/plain": [
       "'rhett and link|\"gmm\"|\"good mythical morning\"|\"rhett and link good mythical morning\"|\"good mythical morning rhett and link\"|\"mythical morning\"|\"Season 12\"|\"nickelback lyrics\"|\"nickelback lyrics real or fake\"|\"nickelback\"|\"nickelback songs\"|\"nickelback song\"|\"rhett link nickelback\"|\"gmm nickelback\"|\"lyrics (website category)\"|\"nickelback (musical group)\"|\"rock\"|\"music\"|\"lyrics\"|\"chad kroeger\"|\"canada\"|\"music (industry)\"|\"mythical\"|\"gmm challenge\"|\"comedy\"|\"funny\"|\"challenge\"'"
      ]
     },
     "metadata": {},
     "execution_count": 292
    }
   ],
   "metadata": {}
  },
  {
   "cell_type": "code",
   "execution_count": 285,
   "source": [
    "\n",
    "video_stats['VLratio'] = video_stats.views/video_stats.likes\n",
    "video_stats['VDratio'] = video_stats.views/video_stats.dislikes\n",
    "video_stats['LDratio'] = video_stats.likes/video_stats.dislikes\n",
    "video_stats['VCratio'] = video_stats.views/video_stats.comment_count\n",
    "\n",
    "video_stats['log10VLratio'] = video_stats.VLratio.apply(np.log10)\n",
    "video_stats['log10VDratio'] = video_stats.VDratio.apply(np.log10)\n",
    "video_stats['log10LDratio'] = video_stats.LDratio.apply(np.log10)\n",
    "video_stats['log10VCratio'] = video_stats.VCratio.apply(np.log10)"
   ],
   "outputs": [],
   "metadata": {}
  },
  {
   "cell_type": "code",
   "execution_count": 291,
   "source": [
    "import numpy as np\n",
    "import matplotlib.pyplot as plt\n",
    "\n",
    "plt.style.use('seaborn-deep')\n",
    "\n",
    "catmeans = video_stats.groupby('category_id').mean()\n",
    "catstds = video_stats.groupby('category_id').std()\n",
    "\n",
    "# likeMeans = catmeans.LVratio\n",
    "# likeStd =   catstds.LVratio\n",
    "\n",
    "likeMeans = catmeans.log10VLratio\n",
    "likeStd =   catstds.log10VLratio\n",
    "\n",
    "N = len(likeMeans)\n",
    "ind = np.arange(N)  # the x locations for the groups\n",
    "width = 0.20      # the width of the bars\n",
    "\n",
    "fig = plt.figure(figsize=(16,6))\n",
    "ax = fig.add_subplot(111)\n",
    "rects1 = ax.bar(ind, likeMeans, width, color='royalblue', yerr=likeStd)\n",
    "\n",
    "dislikeMeans = catmeans.log10VDratio\n",
    "dislikeStd =   catstds.log10VDratio\n",
    "# dislikeMeans = np.log10(catmeans.DVratio)\n",
    "# dislikeStd =   np.log10(catstds.DVratio)\n",
    "\n",
    "rects2 = ax.bar(ind+width, dislikeMeans, width, color='red', yerr= dislikeStd)\n",
    "\n",
    "LDMeans = catmeans.log10LDratio\n",
    "LDStd =   catstds.log10LDratio\n",
    "# DLMeans = np.log10(catmeans.DLratio)\n",
    "# DLStd =   np.log10(catstds.DLratio)\n",
    "\n",
    "rects3 = ax.bar(ind+width*2, LDMeans, width, color='purple', yerr= LDStd)\n",
    "\n",
    "VCMeans = catmeans.log10VCratio\n",
    "VCStd = catstds.log10VCratio\n",
    "\n",
    "rects4 = ax.bar(ind+width*3, VCMeans, width, color='yellow', yerr= VCStd)\n",
    "\n",
    "# add some\n",
    "ax.set_ylabel('Scores')\n",
    "ax.set_title('Scores by group and gender')\n",
    "ax.set_xticks(ind + width*1.5 )\n",
    "ax.set_xticklabels( [categories[f'{id}'] for id in list(catmeans.index)]) \n",
    "\n",
    "ax.legend( (rects1[0], rects2[0], rects3[0], rects4[0]), \n",
    "            ('views/likes', 'views/dislikes','likes/dislikes','views/comments'),\n",
    "            loc = 'upper right')\n",
    "plt.xticks(rotation=90)\n",
    "plt.show()"
   ],
   "outputs": [
    {
     "output_type": "display_data",
     "data": {
      "text/plain": [
       "<Figure size 1152x432 with 1 Axes>"
      ],
      "image/png": "[encoded data removed]"
     },
     "metadata": {}
    }
   ],
   "metadata": {}
  },
  {
   "cell_type": "markdown",
   "source": [
    "# NS stuff"
   ],
   "metadata": {}
  },
  {
   "cell_type": "code",
   "execution_count": 7,
   "source": [
    "friendship_nw = nx.read_weighted_edgelist(\"../data_sample/edges.csv\",delimiter=\",\")"
   ],
   "outputs": [],
   "metadata": {}
  },
  {
   "cell_type": "code",
   "execution_count": 15,
   "source": [
    "pd.read_csv('../data_sample/edges.csv')"
   ],
   "outputs": [
    {
     "output_type": "execute_result",
     "data": {
      "text/plain": [
       "       Lejla  Antonela   8\n",
       "0      Lejla  Sulejman  11\n",
       "1      Lejla      Maja  13\n",
       "2      Lejla  Lejla S.  11\n",
       "3      Lejla    Asmira  12\n",
       "4      Lejla     Amira   8\n",
       "5      Lejla       Ena   6\n",
       "6   Antonela  Sulejman   6\n",
       "7   Antonela      Maja   8\n",
       "8   Sulejman      Maja   9\n",
       "9   Lejla S.     Amina  18\n",
       "10  Lejla S.      Ilma  18\n",
       "11  Sulejman     Nenad   4\n",
       "12      Maja     Selma  13\n",
       "13      Maja     Naida   9\n",
       "14     Selma     Naida  30\n",
       "15  Sulejman     Selma   9\n",
       "16    Asmira     Amira  16\n",
       "17     Amina      Ilma  18\n",
       "18    Asmira      Azra  16\n",
       "19     Amira      Azra  16\n",
       "20    Asmira     Sneza   5"
      ],
      "text/html": [
       "<div>\n",
       "<style scoped>\n",
       "    .dataframe tbody tr th:only-of-type {\n",
       "        vertical-align: middle;\n",
       "    }\n",
       "\n",
       "    .dataframe tbody tr th {\n",
       "        vertical-align: top;\n",
       "    }\n",
       "\n",
       "    .dataframe thead th {\n",
       "        text-align: right;\n",
       "    }\n",
       "</style>\n",
       "<table border=\"1\" class=\"dataframe\">\n",
       "  <thead>\n",
       "    <tr style=\"text-align: right;\">\n",
       "      <th></th>\n",
       "      <th>Lejla</th>\n",
       "      <th>Antonela</th>\n",
       "      <th>8</th>\n",
       "    </tr>\n",
       "  </thead>\n",
       "  <tbody>\n",
       "    <tr>\n",
       "      <th>0</th>\n",
       "      <td>Lejla</td>\n",
       "      <td>Sulejman</td>\n",
       "      <td>11</td>\n",
       "    </tr>\n",
       "    <tr>\n",
       "      <th>1</th>\n",
       "      <td>Lejla</td>\n",
       "      <td>Maja</td>\n",
       "      <td>13</td>\n",
       "    </tr>\n",
       "    <tr>\n",
       "      <th>2</th>\n",
       "      <td>Lejla</td>\n",
       "      <td>Lejla S.</td>\n",
       "      <td>11</td>\n",
       "    </tr>\n",
       "    <tr>\n",
       "      <th>3</th>\n",
       "      <td>Lejla</td>\n",
       "      <td>Asmira</td>\n",
       "      <td>12</td>\n",
       "    </tr>\n",
       "    <tr>\n",
       "      <th>4</th>\n",
       "      <td>Lejla</td>\n",
       "      <td>Amira</td>\n",
       "      <td>8</td>\n",
       "    </tr>\n",
       "    <tr>\n",
       "      <th>5</th>\n",
       "      <td>Lejla</td>\n",
       "      <td>Ena</td>\n",
       "      <td>6</td>\n",
       "    </tr>\n",
       "    <tr>\n",
       "      <th>6</th>\n",
       "      <td>Antonela</td>\n",
       "      <td>Sulejman</td>\n",
       "      <td>6</td>\n",
       "    </tr>\n",
       "    <tr>\n",
       "      <th>7</th>\n",
       "      <td>Antonela</td>\n",
       "      <td>Maja</td>\n",
       "      <td>8</td>\n",
       "    </tr>\n",
       "    <tr>\n",
       "      <th>8</th>\n",
       "      <td>Sulejman</td>\n",
       "      <td>Maja</td>\n",
       "      <td>9</td>\n",
       "    </tr>\n",
       "    <tr>\n",
       "      <th>9</th>\n",
       "      <td>Lejla S.</td>\n",
       "      <td>Amina</td>\n",
       "      <td>18</td>\n",
       "    </tr>\n",
       "    <tr>\n",
       "      <th>10</th>\n",
       "      <td>Lejla S.</td>\n",
       "      <td>Ilma</td>\n",
       "      <td>18</td>\n",
       "    </tr>\n",
       "    <tr>\n",
       "      <th>11</th>\n",
       "      <td>Sulejman</td>\n",
       "      <td>Nenad</td>\n",
       "      <td>4</td>\n",
       "    </tr>\n",
       "    <tr>\n",
       "      <th>12</th>\n",
       "      <td>Maja</td>\n",
       "      <td>Selma</td>\n",
       "      <td>13</td>\n",
       "    </tr>\n",
       "    <tr>\n",
       "      <th>13</th>\n",
       "      <td>Maja</td>\n",
       "      <td>Naida</td>\n",
       "      <td>9</td>\n",
       "    </tr>\n",
       "    <tr>\n",
       "      <th>14</th>\n",
       "      <td>Selma</td>\n",
       "      <td>Naida</td>\n",
       "      <td>30</td>\n",
       "    </tr>\n",
       "    <tr>\n",
       "      <th>15</th>\n",
       "      <td>Sulejman</td>\n",
       "      <td>Selma</td>\n",
       "      <td>9</td>\n",
       "    </tr>\n",
       "    <tr>\n",
       "      <th>16</th>\n",
       "      <td>Asmira</td>\n",
       "      <td>Amira</td>\n",
       "      <td>16</td>\n",
       "    </tr>\n",
       "    <tr>\n",
       "      <th>17</th>\n",
       "      <td>Amina</td>\n",
       "      <td>Ilma</td>\n",
       "      <td>18</td>\n",
       "    </tr>\n",
       "    <tr>\n",
       "      <th>18</th>\n",
       "      <td>Asmira</td>\n",
       "      <td>Azra</td>\n",
       "      <td>16</td>\n",
       "    </tr>\n",
       "    <tr>\n",
       "      <th>19</th>\n",
       "      <td>Amira</td>\n",
       "      <td>Azra</td>\n",
       "      <td>16</td>\n",
       "    </tr>\n",
       "    <tr>\n",
       "      <th>20</th>\n",
       "      <td>Asmira</td>\n",
       "      <td>Sneza</td>\n",
       "      <td>5</td>\n",
       "    </tr>\n",
       "  </tbody>\n",
       "</table>\n",
       "</div>"
      ]
     },
     "metadata": {},
     "execution_count": 15
    }
   ],
   "metadata": {}
  },
  {
   "cell_type": "code",
   "execution_count": 304,
   "source": [
    "G = nx.random_geometric_graph(200,0.125)"
   ],
   "outputs": [
    {
     "output_type": "error",
     "ename": "TypeError",
     "evalue": "argmap_random_geometric_graph_1() missing 1 required positional argument: 'radius'",
     "traceback": [
      "\u001b[0;31m---------------------------------------------------------------------------\u001b[0m",
      "\u001b[0;31mTypeError\u001b[0m                                 Traceback (most recent call last)",
      "\u001b[0;32m/tmp/ipykernel_17104/2195664368.py\u001b[0m in \u001b[0;36m<module>\u001b[0;34m\u001b[0m\n\u001b[0;32m----> 1\u001b[0;31m \u001b[0mG\u001b[0m \u001b[0;34m=\u001b[0m \u001b[0mnx\u001b[0m\u001b[0;34m.\u001b[0m\u001b[0mrandom_geometric_graph\u001b[0m\u001b[0;34m(\u001b[0m\u001b[0mfriendship_nw\u001b[0m\u001b[0;34m)\u001b[0m\u001b[0;34m\u001b[0m\u001b[0;34m\u001b[0m\u001b[0m\n\u001b[0m",
      "\u001b[0;31mTypeError\u001b[0m: argmap_random_geometric_graph_1() missing 1 required positional argument: 'radius'"
     ]
    }
   ],
   "metadata": {}
  },
  {
   "cell_type": "code",
   "execution_count": 298,
   "source": [
    "edge_x = []\n",
    "edge_y = []\n",
    "for edge in G.edges():\n",
    "    x0, y0 = G.nodes[edge[0]]['pos']\n",
    "    x1, y1 = G.nodes[edge[1]]['pos']\n",
    "    edge_x.append(x0)\n",
    "    edge_x.append(x1)\n",
    "    edge_x.append(None)\n",
    "    edge_y.append(y0)\n",
    "    edge_y.append(y1)\n",
    "    edge_y.append(None)\n",
    "\n",
    "edge_trace = go.Scatter(\n",
    "    x=edge_x, y=edge_y,\n",
    "    line=dict(width=0.5, color='#888'),\n",
    "    hoverinfo='none',\n",
    "    mode='lines')\n",
    "\n",
    "node_x = []\n",
    "node_y = []\n",
    "for node in G.nodes():\n",
    "    x, y = G.nodes[node]['pos']\n",
    "    node_x.append(x)\n",
    "    node_y.append(y)\n",
    "\n",
    "node_trace = go.Scatter(\n",
    "    x=node_x, y=node_y,\n",
    "    mode='markers',\n",
    "    hoverinfo='text',\n",
    "    marker=dict(\n",
    "        showscale=True,\n",
    "        # colorscale options\n",
    "        #'Greys' | 'YlGnBu' | 'Greens' | 'YlOrRd' | 'Bluered' | 'RdBu' |\n",
    "        #'Reds' | 'Blues' | 'Picnic' | 'Rainbow' | 'Portland' | 'Jet' |\n",
    "        #'Hot' | 'Blackbody' | 'Earth' | 'Electric' | 'Viridis' |\n",
    "        colorscale='YlGnBu',\n",
    "        reversescale=True,\n",
    "        color=[],\n",
    "        size=10,\n",
    "        colorbar=dict(\n",
    "            thickness=15,\n",
    "            title='Node Connections',\n",
    "            xanchor='left',\n",
    "            titleside='right'\n",
    "        ),\n",
    "        line_width=2))"
   ],
   "outputs": [],
   "metadata": {}
  },
  {
   "cell_type": "code",
   "execution_count": 299,
   "source": [
    "node_adjacencies = []\n",
    "node_text = []\n",
    "for node, adjacencies in enumerate(G.adjacency()):\n",
    "    node_adjacencies.append(len(adjacencies[1]))\n",
    "    node_text.append('# of connections: '+str(len(adjacencies[1])))\n",
    "\n",
    "node_trace.marker.color = node_adjacencies\n",
    "node_trace.text = node_text"
   ],
   "outputs": [],
   "metadata": {}
  },
  {
   "cell_type": "code",
   "execution_count": null,
   "source": [
    "fig = go.Figure(data=[edge_trace, node_trace],\n",
    "             layout=go.Layout(\n",
    "                title='<br>Network graph made with Python',\n",
    "                titlefont_size=16,\n",
    "                showlegend=False,\n",
    "                hovermode='closest',\n",
    "                margin=dict(b=20,l=5,r=5,t=40),\n",
    "                annotations=[ dict(\n",
    "                    text=\"Python code: <a href='https://plotly.com/ipython-notebooks/network-graphs/'> https://plotly.com/ipython-notebooks/network-graphs/</a>\",\n",
    "                    showarrow=False,\n",
    "                    xref=\"paper\", yref=\"paper\",\n",
    "                    x=0.005, y=-0.002 ) ],\n",
    "                xaxis=dict(showgrid=False, zeroline=False, showticklabels=False),\n",
    "                yaxis=dict(showgrid=False, zeroline=False, showticklabels=False))\n",
    "                )\n",
    "fig.show()"
   ],
   "outputs": [],
   "metadata": {}
  },
  {
   "cell_type": "code",
   "execution_count": 6,
   "source": [
    "g = ig.Graph.from_networkx(friendship_nw)"
   ],
   "outputs": [],
   "metadata": {}
  },
  {
   "cell_type": "code",
   "execution_count": 7,
   "source": [
    "for vertice in g.vs:\n",
    "    print(vertice.attributes())\n",
    "for edge in g.es:\n",
    "    print(edge.attributes())"
   ],
   "outputs": [
    {
     "output_type": "stream",
     "name": "stdout",
     "text": [
      "{'_nx_name': 'Lejla'}\n",
      "{'_nx_name': 'Antonela'}\n",
      "{'_nx_name': 'Sulejman'}\n",
      "{'_nx_name': 'Maja'}\n",
      "{'_nx_name': 'Lejla S.'}\n",
      "{'_nx_name': 'Asmira'}\n",
      "{'_nx_name': 'Amira'}\n",
      "{'_nx_name': 'Ena'}\n",
      "{'_nx_name': 'Amina'}\n",
      "{'_nx_name': 'Ilma'}\n",
      "{'_nx_name': 'Nenad'}\n",
      "{'_nx_name': 'Selma'}\n",
      "{'_nx_name': 'Naida'}\n",
      "{'_nx_name': 'Azra'}\n",
      "{'_nx_name': 'Sneza'}\n",
      "{'weight': 8.0}\n",
      "{'weight': 11.0}\n",
      "{'weight': 13.0}\n",
      "{'weight': 11.0}\n",
      "{'weight': 12.0}\n",
      "{'weight': 8.0}\n",
      "{'weight': 6.0}\n",
      "{'weight': 6.0}\n",
      "{'weight': 8.0}\n",
      "{'weight': 9.0}\n",
      "{'weight': 4.0}\n",
      "{'weight': 9.0}\n",
      "{'weight': 13.0}\n",
      "{'weight': 9.0}\n",
      "{'weight': 18.0}\n",
      "{'weight': 18.0}\n",
      "{'weight': 16.0}\n",
      "{'weight': 16.0}\n",
      "{'weight': 5.0}\n",
      "{'weight': 16.0}\n",
      "{'weight': 18.0}\n",
      "{'weight': 30.0}\n"
     ]
    }
   ],
   "metadata": {}
  },
  {
   "cell_type": "code",
   "execution_count": null,
   "source": [
    "ig.plot(g)"
   ],
   "outputs": [],
   "metadata": {}
  },
  {
   "cell_type": "code",
   "execution_count": 18,
   "source": [
    "df = pd.read_csv('../data_sample/networkx-quick-start-master/jira_sample.csv')\n",
    "df.head()"
   ],
   "outputs": [
    {
     "output_type": "execute_result",
     "data": {
      "text/plain": [
       "         Assignee        Reporter         Creator\n",
       "0     nancy.smith     nancy.smith     nancy.smith\n",
       "1     nancy.smith     nancy.smith     nancy.smith\n",
       "2   joe.appleseed   joe.appleseed   joe.appleseed\n",
       "3  edward.johnson  edward.johnson  edward.johnson\n",
       "4      adam.apple   joe.appleseed   joe.appleseed"
      ],
      "text/html": [
       "<div>\n",
       "<style scoped>\n",
       "    .dataframe tbody tr th:only-of-type {\n",
       "        vertical-align: middle;\n",
       "    }\n",
       "\n",
       "    .dataframe tbody tr th {\n",
       "        vertical-align: top;\n",
       "    }\n",
       "\n",
       "    .dataframe thead th {\n",
       "        text-align: right;\n",
       "    }\n",
       "</style>\n",
       "<table border=\"1\" class=\"dataframe\">\n",
       "  <thead>\n",
       "    <tr style=\"text-align: right;\">\n",
       "      <th></th>\n",
       "      <th>Assignee</th>\n",
       "      <th>Reporter</th>\n",
       "      <th>Creator</th>\n",
       "    </tr>\n",
       "  </thead>\n",
       "  <tbody>\n",
       "    <tr>\n",
       "      <th>0</th>\n",
       "      <td>nancy.smith</td>\n",
       "      <td>nancy.smith</td>\n",
       "      <td>nancy.smith</td>\n",
       "    </tr>\n",
       "    <tr>\n",
       "      <th>1</th>\n",
       "      <td>nancy.smith</td>\n",
       "      <td>nancy.smith</td>\n",
       "      <td>nancy.smith</td>\n",
       "    </tr>\n",
       "    <tr>\n",
       "      <th>2</th>\n",
       "      <td>joe.appleseed</td>\n",
       "      <td>joe.appleseed</td>\n",
       "      <td>joe.appleseed</td>\n",
       "    </tr>\n",
       "    <tr>\n",
       "      <th>3</th>\n",
       "      <td>edward.johnson</td>\n",
       "      <td>edward.johnson</td>\n",
       "      <td>edward.johnson</td>\n",
       "    </tr>\n",
       "    <tr>\n",
       "      <th>4</th>\n",
       "      <td>adam.apple</td>\n",
       "      <td>joe.appleseed</td>\n",
       "      <td>joe.appleseed</td>\n",
       "    </tr>\n",
       "  </tbody>\n",
       "</table>\n",
       "</div>"
      ]
     },
     "metadata": {},
     "execution_count": 18
    }
   ],
   "metadata": {}
  },
  {
   "cell_type": "code",
   "execution_count": 19,
   "source": [
    "df1 = df[['Assignee','Reporter']]"
   ],
   "outputs": [],
   "metadata": {}
  },
  {
   "cell_type": "code",
   "execution_count": 21,
   "source": [
    "G =nx.Graph()\n",
    "G = nx.from_pandas_edgelist(df1,'Assignee','Reporter')"
   ],
   "outputs": [],
   "metadata": {}
  },
  {
   "cell_type": "code",
   "execution_count": null,
   "source": [
    "plt.figure(figsize=(10,8))\n",
    "nx.draw_shell(G,with_labels=True)"
   ],
   "outputs": [],
   "metadata": {}
  },
  {
   "cell_type": "code",
   "execution_count": 24,
   "source": [
    "leaderboard = {}\n",
    "for x in G.nodes:\n",
    " leaderboard[x] = len(G[x])\n",
    "s = pd.Series(leaderboard, name='connections')\n",
    "df2 = s.to_frame().sort_values('connections', ascending=False)"
   ],
   "outputs": [],
   "metadata": {}
  },
  {
   "cell_type": "markdown",
   "source": [
    "# Creating the graph from the video dataset"
   ],
   "metadata": {}
  },
  {
   "cell_type": "code",
   "execution_count": 8,
   "source": [
    "import re\n"
   ],
   "outputs": [],
   "metadata": {}
  },
  {
   "cell_type": "code",
   "execution_count": 53,
   "source": [
    "\n",
    "# @numba.njit\n",
    "def build_edgesnodes(videos):\n",
    "    '''\n",
    "    ----------------------------------------------------------------------------------------\n",
    "    Takes a dataframe and returns the list of nodes and edges\n",
    "    Parameters:\n",
    "        - videos: dataframe\n",
    "    ----------------------------------------------------------------------------------------\n",
    "    '''\n",
    "    \n",
    "    pb = ProgressBar(total=100,prefix='Done:', suffix='Now', decimals=0, length=50, fill='#', zfill='-')\n",
    "\n",
    "    list_of_tags = [videos.channel_title.values[idx] + '|' + videos.tags.values[idx] for idx in range(len(videos))]\n",
    "    list_of_tags = [re.sub(\"\\\"\",\"\",tag).split('|') for tag in list_of_tags]\n",
    "\n",
    "    len_graph = []\n",
    "    for vg in list_of_tags:\n",
    "        len_graph.extend(vg)    \n",
    "\n",
    "\n",
    "    nodes = {node:k for k,node in enumerate(list(set(len_graph)))}\n",
    "    \n",
    "    # print(list_of_tags)\n",
    "    categories = {}\n",
    "    for row,tags in enumerate(list_of_tags):\n",
    "        for tag in tags:\n",
    "            if tag not in categories:\n",
    "                categories[tag] = [videos.iloc[row].category_id]\n",
    "            elif tag in categories and videos.iloc[row].category_id not in categories[tag]:\n",
    "                categories[tag].append(videos.iloc[row].category_id)\n",
    "        \n",
    "\n",
    "    len_graph = len(set(len_graph))\n",
    "\n",
    "\n",
    "    edges = []\n",
    "\n",
    "\n",
    "    for counter,tags in enumerate(list_of_tags):\n",
    "        progress = int((counter+1)/len(list_of_tags) * 100)\n",
    "        pb.print_progress_bar(progress)     \n",
    "        edges.extend(list(itertools.combinations(tags,2)))\n",
    "        edges = list(set(edges))\n",
    "    \n",
    "    return nodes,edges,categories"
   ],
   "outputs": [],
   "metadata": {}
  },
  {
   "cell_type": "code",
   "execution_count": 54,
   "source": [
    "%%time\n",
    "\n",
    "nodes,edges,categories = build_edgesnodes(video_stats.iloc[:1000])"
   ],
   "outputs": [
    {
     "output_type": "stream",
     "name": "stdout",
     "text": [
      "Done: |##################################################| 100% Now\n",
      "CPU times: user 22.1 s, sys: 291 ms, total: 22.4 s\n",
      "Wall time: 21.9 s\n"
     ]
    }
   ],
   "metadata": {}
  },
  {
   "cell_type": "code",
   "execution_count": null,
   "source": [
    "# g_test = nx.froms_dict_of_lists(dict_edges)\n",
    "g_test = nx.from_edgelist(edges)"
   ],
   "outputs": [],
   "metadata": {}
  },
  {
   "cell_type": "code",
   "execution_count": null,
   "source": [
    "# ig.plot(g_test)\n",
    "plt.figure(figsize=(10,8))\n",
    "nx.draw_shell(g_test,with_labels=False)"
   ],
   "outputs": [],
   "metadata": {}
  },
  {
   "cell_type": "code",
   "execution_count": null,
   "source": [
    "g = ig.Graph.from_networkx(g_test)\n",
    "ig.plot(g)"
   ],
   "outputs": [],
   "metadata": {}
  },
  {
   "cell_type": "code",
   "execution_count": 21,
   "source": [
    "ig.save(g,'graph_test.net',format = 'edgelist')"
   ],
   "outputs": [],
   "metadata": {}
  },
  {
   "cell_type": "code",
   "execution_count": 56,
   "source": [
    "nodes_df = pd.DataFrame(nodes.keys())\n",
    "nodes_df['Id'] = nodes.values()\n",
    "nodes_df.columns = ['Label','Id']\n",
    "nodes_df['Category'] = [categories[lab] for lab in nodes_df.Label.values]\n",
    "nodes_df.drop(nodes_df.index[0],inplace=True)\n",
    "nodes_df = nodes_df.reindex(columns = ['Id','Label','Category'])\n",
    "pd.DataFrame(nodes_df).to_csv('nodes.csv',index=False)\n",
    "nodes_df.head()"
   ],
   "outputs": [
    {
     "output_type": "execute_result",
     "data": {
      "text/plain": [
       "   Id                 Label Category\n",
       "1   1     greenhouse effect     [27]\n",
       "2   2              industry     [26]\n",
       "3   3                unisex     [23]\n",
       "4   4  The Rest Of Our Life     [23]\n",
       "5   5      i have questions     [10]"
      ],
      "text/html": [
       "<div>\n",
       "<style scoped>\n",
       "    .dataframe tbody tr th:only-of-type {\n",
       "        vertical-align: middle;\n",
       "    }\n",
       "\n",
       "    .dataframe tbody tr th {\n",
       "        vertical-align: top;\n",
       "    }\n",
       "\n",
       "    .dataframe thead th {\n",
       "        text-align: right;\n",
       "    }\n",
       "</style>\n",
       "<table border=\"1\" class=\"dataframe\">\n",
       "  <thead>\n",
       "    <tr style=\"text-align: right;\">\n",
       "      <th></th>\n",
       "      <th>Id</th>\n",
       "      <th>Label</th>\n",
       "      <th>Category</th>\n",
       "    </tr>\n",
       "  </thead>\n",
       "  <tbody>\n",
       "    <tr>\n",
       "      <th>1</th>\n",
       "      <td>1</td>\n",
       "      <td>greenhouse effect</td>\n",
       "      <td>[27]</td>\n",
       "    </tr>\n",
       "    <tr>\n",
       "      <th>2</th>\n",
       "      <td>2</td>\n",
       "      <td>industry</td>\n",
       "      <td>[26]</td>\n",
       "    </tr>\n",
       "    <tr>\n",
       "      <th>3</th>\n",
       "      <td>3</td>\n",
       "      <td>unisex</td>\n",
       "      <td>[23]</td>\n",
       "    </tr>\n",
       "    <tr>\n",
       "      <th>4</th>\n",
       "      <td>4</td>\n",
       "      <td>The Rest Of Our Life</td>\n",
       "      <td>[23]</td>\n",
       "    </tr>\n",
       "    <tr>\n",
       "      <th>5</th>\n",
       "      <td>5</td>\n",
       "      <td>i have questions</td>\n",
       "      <td>[10]</td>\n",
       "    </tr>\n",
       "  </tbody>\n",
       "</table>\n",
       "</div>"
      ]
     },
     "metadata": {},
     "execution_count": 56
    }
   ],
   "metadata": {}
  },
  {
   "cell_type": "code",
   "execution_count": 58,
   "source": [
    "edges_df = pd.DataFrame([source[0] for source in edges])\n",
    "edges_df.columns = ['From']\n",
    "edges_df['To'] = [source[1] for source in edges]\n",
    "edges_df['Source'] = [nodes[source[0]] for source in edges]\n",
    "edges_df['Target'] = [nodes[source[1]] for source in edges]\n",
    "edges_df = edges_df.reindex(columns = ['Source','Target','From','To'])\n",
    "'Save nodes to nodes.csv'\n",
    "edges_df.to_csv('edges.csv',index=False)\n",
    "edges_df.head()"
   ],
   "outputs": [
    {
     "output_type": "execute_result",
     "data": {
      "text/plain": [
       "   Source  Target              From               To\n",
       "0    2930    3060  military vehicle  camping vehicle\n",
       "1    1322    2665    jillian vessey       playbutton\n",
       "2    5271    1683             pouch        chlamydia\n",
       "3     114    3118            action        stake out\n",
       "4    1689    5797    ketchup shower      gus johnson"
      ],
      "text/html": [
       "<div>\n",
       "<style scoped>\n",
       "    .dataframe tbody tr th:only-of-type {\n",
       "        vertical-align: middle;\n",
       "    }\n",
       "\n",
       "    .dataframe tbody tr th {\n",
       "        vertical-align: top;\n",
       "    }\n",
       "\n",
       "    .dataframe thead th {\n",
       "        text-align: right;\n",
       "    }\n",
       "</style>\n",
       "<table border=\"1\" class=\"dataframe\">\n",
       "  <thead>\n",
       "    <tr style=\"text-align: right;\">\n",
       "      <th></th>\n",
       "      <th>Source</th>\n",
       "      <th>Target</th>\n",
       "      <th>From</th>\n",
       "      <th>To</th>\n",
       "    </tr>\n",
       "  </thead>\n",
       "  <tbody>\n",
       "    <tr>\n",
       "      <th>0</th>\n",
       "      <td>2930</td>\n",
       "      <td>3060</td>\n",
       "      <td>military vehicle</td>\n",
       "      <td>camping vehicle</td>\n",
       "    </tr>\n",
       "    <tr>\n",
       "      <th>1</th>\n",
       "      <td>1322</td>\n",
       "      <td>2665</td>\n",
       "      <td>jillian vessey</td>\n",
       "      <td>playbutton</td>\n",
       "    </tr>\n",
       "    <tr>\n",
       "      <th>2</th>\n",
       "      <td>5271</td>\n",
       "      <td>1683</td>\n",
       "      <td>pouch</td>\n",
       "      <td>chlamydia</td>\n",
       "    </tr>\n",
       "    <tr>\n",
       "      <th>3</th>\n",
       "      <td>114</td>\n",
       "      <td>3118</td>\n",
       "      <td>action</td>\n",
       "      <td>stake out</td>\n",
       "    </tr>\n",
       "    <tr>\n",
       "      <th>4</th>\n",
       "      <td>1689</td>\n",
       "      <td>5797</td>\n",
       "      <td>ketchup shower</td>\n",
       "      <td>gus johnson</td>\n",
       "    </tr>\n",
       "  </tbody>\n",
       "</table>\n",
       "</div>"
      ]
     },
     "metadata": {},
     "execution_count": 58
    }
   ],
   "metadata": {}
  },
  {
   "cell_type": "code",
   "execution_count": null,
   "source": [],
   "outputs": [],
   "metadata": {}
  }
 ],
 "metadata": {
  "interpreter": {
   "hash": "4322adbfac65b51f610ee528ef658fd63511a1bc76f760322815589b892a81f5"
  },
  "kernelspec": {
   "name": "python3",
   "display_name": "Python 3.9.6 64-bit ('base': conda)"
  },
  "language_info": {
   "codemirror_mode": {
    "name": "ipython",
    "version": 3
   },
   "file_extension": ".py",
   "mimetype": "text/x-python",
   "name": "python",
   "nbconvert_exporter": "python",
   "pygments_lexer": "ipython3",
   "version": "3.9.6"
  }
 },
 "nbformat": 4,
 "nbformat_minor": 4
}